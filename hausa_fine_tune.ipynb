{
 "cells": [
  {
   "cell_type": "code",
   "execution_count": 1,
   "id": "e1621350-56dc-4c1e-8ee8-d2a9506e467f",
   "metadata": {
    "scrolled": true
   },
   "outputs": [
    {
     "name": "stdout",
     "output_type": "stream",
     "text": [
      "Collecting datasets\n",
      "  Downloading datasets-3.6.0-py3-none-any.whl.metadata (19 kB)\n",
      "Collecting librosa\n",
      "  Downloading librosa-0.11.0-py3-none-any.whl.metadata (8.7 kB)\n",
      "Collecting evaluate\n",
      "  Downloading evaluate-0.4.4-py3-none-any.whl.metadata (9.5 kB)\n",
      "Collecting jiwer\n",
      "  Downloading jiwer-4.0.0-py3-none-any.whl.metadata (3.3 kB)\n",
      "Collecting gradio\n",
      "  Downloading gradio-5.35.0-py3-none-any.whl.metadata (16 kB)\n",
      "Collecting accelerate\n",
      "  Downloading accelerate-1.8.1-py3-none-any.whl.metadata (19 kB)\n",
      "Collecting tensorboard\n",
      "  Downloading tensorboard-2.19.0-py3-none-any.whl.metadata (1.8 kB)\n",
      "Collecting hf_xet\n",
      "  Downloading hf_xet-1.1.5-cp37-abi3-manylinux_2_17_x86_64.manylinux2014_x86_64.whl.metadata (879 bytes)\n",
      "Requirement already satisfied: filelock in /usr/local/lib/python3.11/dist-packages (from datasets) (3.16.1)\n",
      "Requirement already satisfied: numpy>=1.17 in /usr/local/lib/python3.11/dist-packages (from datasets) (2.1.2)\n",
      "Collecting pyarrow>=15.0.0 (from datasets)\n",
      "  Downloading pyarrow-20.0.0-cp311-cp311-manylinux_2_28_x86_64.whl.metadata (3.3 kB)\n",
      "Collecting dill<0.3.9,>=0.3.0 (from datasets)\n",
      "  Downloading dill-0.3.8-py3-none-any.whl.metadata (10 kB)\n",
      "Collecting pandas (from datasets)\n",
      "  Downloading pandas-2.3.1-cp311-cp311-manylinux_2_17_x86_64.manylinux2014_x86_64.whl.metadata (91 kB)\n",
      "Requirement already satisfied: requests>=2.32.2 in /usr/local/lib/python3.11/dist-packages (from datasets) (2.32.3)\n",
      "Collecting tqdm>=4.66.3 (from datasets)\n",
      "  Downloading tqdm-4.67.1-py3-none-any.whl.metadata (57 kB)\n",
      "Collecting xxhash (from datasets)\n",
      "  Downloading xxhash-3.5.0-cp311-cp311-manylinux_2_17_x86_64.manylinux2014_x86_64.whl.metadata (12 kB)\n",
      "Collecting multiprocess<0.70.17 (from datasets)\n",
      "  Downloading multiprocess-0.70.16-py311-none-any.whl.metadata (7.2 kB)\n",
      "Requirement already satisfied: fsspec<=2025.3.0,>=2023.1.0 in /usr/local/lib/python3.11/dist-packages (from fsspec[http]<=2025.3.0,>=2023.1.0->datasets) (2024.10.0)\n",
      "Collecting huggingface-hub>=0.24.0 (from datasets)\n",
      "  Downloading huggingface_hub-0.33.2-py3-none-any.whl.metadata (14 kB)\n",
      "Requirement already satisfied: packaging in /usr/local/lib/python3.11/dist-packages (from datasets) (24.2)\n",
      "Requirement already satisfied: pyyaml>=5.1 in /usr/local/lib/python3.11/dist-packages (from datasets) (6.0.2)\n",
      "Collecting audioread>=2.1.9 (from librosa)\n",
      "  Downloading audioread-3.0.1-py3-none-any.whl.metadata (8.4 kB)\n",
      "Collecting numba>=0.51.0 (from librosa)\n",
      "  Downloading numba-0.61.2-cp311-cp311-manylinux2014_x86_64.manylinux_2_17_x86_64.whl.metadata (2.8 kB)\n",
      "Collecting scipy>=1.6.0 (from librosa)\n",
      "  Downloading scipy-1.16.0-cp311-cp311-manylinux2014_x86_64.manylinux_2_17_x86_64.whl.metadata (61 kB)\n",
      "Collecting scikit-learn>=1.1.0 (from librosa)\n",
      "  Downloading scikit_learn-1.7.0-cp311-cp311-manylinux_2_17_x86_64.manylinux2014_x86_64.whl.metadata (17 kB)\n",
      "Collecting joblib>=1.0 (from librosa)\n",
      "  Downloading joblib-1.5.1-py3-none-any.whl.metadata (5.6 kB)\n",
      "Requirement already satisfied: decorator>=4.3.0 in /usr/local/lib/python3.11/dist-packages (from librosa) (5.2.1)\n",
      "Collecting soundfile>=0.12.1 (from librosa)\n",
      "  Downloading soundfile-0.13.1-py2.py3-none-manylinux_2_28_x86_64.whl.metadata (16 kB)\n",
      "Collecting pooch>=1.1 (from librosa)\n",
      "  Downloading pooch-1.8.2-py3-none-any.whl.metadata (10 kB)\n",
      "Collecting soxr>=0.3.2 (from librosa)\n",
      "  Downloading soxr-0.5.0.post1-cp311-cp311-manylinux_2_17_x86_64.manylinux2014_x86_64.whl.metadata (5.6 kB)\n",
      "Requirement already satisfied: typing_extensions>=4.1.1 in /usr/local/lib/python3.11/dist-packages (from librosa) (4.12.2)\n",
      "Collecting lazy_loader>=0.1 (from librosa)\n",
      "  Downloading lazy_loader-0.4-py3-none-any.whl.metadata (7.6 kB)\n",
      "Collecting msgpack>=1.0 (from librosa)\n",
      "  Downloading msgpack-1.1.1-cp311-cp311-manylinux_2_17_x86_64.manylinux2014_x86_64.whl.metadata (8.4 kB)\n",
      "Collecting click>=8.1.8 (from jiwer)\n",
      "  Downloading click-8.2.1-py3-none-any.whl.metadata (2.5 kB)\n",
      "Collecting rapidfuzz>=3.9.7 (from jiwer)\n",
      "  Downloading rapidfuzz-3.13.0-cp311-cp311-manylinux_2_17_x86_64.manylinux2014_x86_64.whl.metadata (12 kB)\n",
      "Collecting aiofiles<25.0,>=22.0 (from gradio)\n",
      "  Downloading aiofiles-24.1.0-py3-none-any.whl.metadata (10 kB)\n",
      "Requirement already satisfied: anyio<5.0,>=3.0 in /usr/local/lib/python3.11/dist-packages (from gradio) (4.9.0)\n",
      "Collecting fastapi<1.0,>=0.115.2 (from gradio)\n",
      "  Downloading fastapi-0.116.0-py3-none-any.whl.metadata (28 kB)\n",
      "Collecting ffmpy (from gradio)\n",
      "  Downloading ffmpy-0.6.0-py3-none-any.whl.metadata (2.9 kB)\n",
      "Collecting gradio-client==1.10.4 (from gradio)\n",
      "  Downloading gradio_client-1.10.4-py3-none-any.whl.metadata (7.1 kB)\n",
      "Collecting groovy~=0.1 (from gradio)\n",
      "  Downloading groovy-0.1.2-py3-none-any.whl.metadata (6.1 kB)\n",
      "Requirement already satisfied: httpx>=0.24.1 in /usr/local/lib/python3.11/dist-packages (from gradio) (0.28.1)\n",
      "Requirement already satisfied: jinja2<4.0 in /usr/local/lib/python3.11/dist-packages (from gradio) (3.1.4)\n",
      "Requirement already satisfied: markupsafe<4.0,>=2.0 in /usr/local/lib/python3.11/dist-packages (from gradio) (2.1.5)\n",
      "Collecting orjson~=3.0 (from gradio)\n",
      "  Downloading orjson-3.10.18-cp311-cp311-manylinux_2_17_x86_64.manylinux2014_x86_64.whl.metadata (41 kB)\n",
      "Requirement already satisfied: pillow<12.0,>=8.0 in /usr/local/lib/python3.11/dist-packages (from gradio) (11.0.0)\n",
      "Collecting pydantic<2.12,>=2.0 (from gradio)\n",
      "  Downloading pydantic-2.11.7-py3-none-any.whl.metadata (67 kB)\n",
      "Collecting pydub (from gradio)\n",
      "  Downloading pydub-0.25.1-py2.py3-none-any.whl.metadata (1.4 kB)\n",
      "Collecting python-multipart>=0.0.18 (from gradio)\n",
      "  Downloading python_multipart-0.0.20-py3-none-any.whl.metadata (1.8 kB)\n",
      "Collecting ruff>=0.9.3 (from gradio)\n",
      "  Downloading ruff-0.12.2-py3-none-manylinux_2_17_x86_64.manylinux2014_x86_64.whl.metadata (25 kB)\n",
      "Collecting safehttpx<0.2.0,>=0.1.6 (from gradio)\n",
      "  Downloading safehttpx-0.1.6-py3-none-any.whl.metadata (4.2 kB)\n",
      "Collecting semantic-version~=2.0 (from gradio)\n",
      "  Downloading semantic_version-2.10.0-py2.py3-none-any.whl.metadata (9.7 kB)\n",
      "Collecting starlette<1.0,>=0.40.0 (from gradio)\n",
      "  Downloading starlette-0.47.1-py3-none-any.whl.metadata (6.2 kB)\n",
      "Collecting tomlkit<0.14.0,>=0.12.0 (from gradio)\n",
      "  Downloading tomlkit-0.13.3-py3-none-any.whl.metadata (2.8 kB)\n",
      "Collecting typer<1.0,>=0.12 (from gradio)\n",
      "  Downloading typer-0.16.0-py3-none-any.whl.metadata (15 kB)\n",
      "Collecting uvicorn>=0.14.0 (from gradio)\n",
      "  Downloading uvicorn-0.35.0-py3-none-any.whl.metadata (6.5 kB)\n",
      "Collecting websockets<16.0,>=10.0 (from gradio-client==1.10.4->gradio)\n",
      "  Downloading websockets-15.0.1-cp311-cp311-manylinux_2_5_x86_64.manylinux1_x86_64.manylinux_2_17_x86_64.manylinux2014_x86_64.whl.metadata (6.8 kB)\n",
      "Requirement already satisfied: psutil in /usr/local/lib/python3.11/dist-packages (from accelerate) (7.0.0)\n",
      "Requirement already satisfied: torch>=2.0.0 in /usr/local/lib/python3.11/dist-packages (from accelerate) (2.8.0.dev20250319+cu128)\n",
      "Collecting safetensors>=0.4.3 (from accelerate)\n",
      "  Downloading safetensors-0.5.3-cp38-abi3-manylinux_2_17_x86_64.manylinux2014_x86_64.whl.metadata (3.8 kB)\n",
      "Collecting absl-py>=0.4 (from tensorboard)\n",
      "  Downloading absl_py-2.3.1-py3-none-any.whl.metadata (3.3 kB)\n",
      "Collecting grpcio>=1.48.2 (from tensorboard)\n",
      "  Downloading grpcio-1.73.1-cp311-cp311-manylinux_2_17_x86_64.manylinux2014_x86_64.whl.metadata (3.8 kB)\n",
      "Collecting markdown>=2.6.8 (from tensorboard)\n",
      "  Downloading markdown-3.8.2-py3-none-any.whl.metadata (5.1 kB)\n",
      "Collecting protobuf!=4.24.0,>=3.19.6 (from tensorboard)\n",
      "  Downloading protobuf-6.31.1-cp39-abi3-manylinux2014_x86_64.whl.metadata (593 bytes)\n",
      "Requirement already satisfied: setuptools>=41.0.0 in /usr/local/lib/python3.11/dist-packages (from tensorboard) (77.0.1)\n",
      "Requirement already satisfied: six>1.9 in /usr/lib/python3/dist-packages (from tensorboard) (1.16.0)\n",
      "Collecting tensorboard-data-server<0.8.0,>=0.7.0 (from tensorboard)\n",
      "  Downloading tensorboard_data_server-0.7.2-py3-none-manylinux_2_31_x86_64.whl.metadata (1.1 kB)\n",
      "Collecting werkzeug>=1.0.1 (from tensorboard)\n",
      "  Downloading werkzeug-3.1.3-py3-none-any.whl.metadata (3.7 kB)\n",
      "Requirement already satisfied: idna>=2.8 in /usr/local/lib/python3.11/dist-packages (from anyio<5.0,>=3.0->gradio) (3.10)\n",
      "Requirement already satisfied: sniffio>=1.1 in /usr/local/lib/python3.11/dist-packages (from anyio<5.0,>=3.0->gradio) (1.3.1)\n",
      "Collecting starlette<1.0,>=0.40.0 (from gradio)\n",
      "  Downloading starlette-0.46.2-py3-none-any.whl.metadata (6.2 kB)\n",
      "Collecting aiohttp!=4.0.0a0,!=4.0.0a1 (from fsspec[http]<=2025.3.0,>=2023.1.0->datasets)\n",
      "  Downloading aiohttp-3.12.13-cp311-cp311-manylinux_2_17_x86_64.manylinux2014_x86_64.whl.metadata (7.6 kB)\n",
      "Requirement already satisfied: certifi in /usr/local/lib/python3.11/dist-packages (from httpx>=0.24.1->gradio) (2025.1.31)\n",
      "Requirement already satisfied: httpcore==1.* in /usr/local/lib/python3.11/dist-packages (from httpx>=0.24.1->gradio) (1.0.7)\n",
      "Requirement already satisfied: h11<0.15,>=0.13 in /usr/local/lib/python3.11/dist-packages (from httpcore==1.*->httpx>=0.24.1->gradio) (0.14.0)\n",
      "Collecting llvmlite<0.45,>=0.44.0dev0 (from numba>=0.51.0->librosa)\n",
      "  Downloading llvmlite-0.44.0-cp311-cp311-manylinux_2_17_x86_64.manylinux2014_x86_64.whl.metadata (4.8 kB)\n",
      "Requirement already satisfied: python-dateutil>=2.8.2 in /usr/local/lib/python3.11/dist-packages (from pandas->datasets) (2.9.0.post0)\n",
      "Collecting pytz>=2020.1 (from pandas->datasets)\n",
      "  Downloading pytz-2025.2-py2.py3-none-any.whl.metadata (22 kB)\n",
      "Collecting tzdata>=2022.7 (from pandas->datasets)\n",
      "  Downloading tzdata-2025.2-py2.py3-none-any.whl.metadata (1.4 kB)\n",
      "Requirement already satisfied: platformdirs>=2.5.0 in /usr/local/lib/python3.11/dist-packages (from pooch>=1.1->librosa) (4.3.7)\n",
      "Collecting annotated-types>=0.6.0 (from pydantic<2.12,>=2.0->gradio)\n",
      "  Downloading annotated_types-0.7.0-py3-none-any.whl.metadata (15 kB)\n",
      "Collecting pydantic-core==2.33.2 (from pydantic<2.12,>=2.0->gradio)\n",
      "  Downloading pydantic_core-2.33.2-cp311-cp311-manylinux_2_17_x86_64.manylinux2014_x86_64.whl.metadata (6.8 kB)\n",
      "Collecting typing-inspection>=0.4.0 (from pydantic<2.12,>=2.0->gradio)\n",
      "  Downloading typing_inspection-0.4.1-py3-none-any.whl.metadata (2.6 kB)\n",
      "Requirement already satisfied: charset-normalizer<4,>=2 in /usr/local/lib/python3.11/dist-packages (from requests>=2.32.2->datasets) (3.4.1)\n",
      "Requirement already satisfied: urllib3<3,>=1.21.1 in /usr/local/lib/python3.11/dist-packages (from requests>=2.32.2->datasets) (2.3.0)\n",
      "Collecting threadpoolctl>=3.1.0 (from scikit-learn>=1.1.0->librosa)\n",
      "  Downloading threadpoolctl-3.6.0-py3-none-any.whl.metadata (13 kB)\n",
      "Requirement already satisfied: cffi>=1.0 in /usr/local/lib/python3.11/dist-packages (from soundfile>=0.12.1->librosa) (1.17.1)\n",
      "Requirement already satisfied: sympy>=1.13.3 in /usr/local/lib/python3.11/dist-packages (from torch>=2.0.0->accelerate) (1.13.3)\n",
      "Requirement already satisfied: networkx in /usr/local/lib/python3.11/dist-packages (from torch>=2.0.0->accelerate) (3.4.2)\n",
      "Requirement already satisfied: nvidia-cuda-nvrtc-cu12==12.8.61 in /usr/local/lib/python3.11/dist-packages (from torch>=2.0.0->accelerate) (12.8.61)\n",
      "Requirement already satisfied: nvidia-cuda-runtime-cu12==12.8.57 in /usr/local/lib/python3.11/dist-packages (from torch>=2.0.0->accelerate) (12.8.57)\n",
      "Requirement already satisfied: nvidia-cuda-cupti-cu12==12.8.57 in /usr/local/lib/python3.11/dist-packages (from torch>=2.0.0->accelerate) (12.8.57)\n",
      "Requirement already satisfied: nvidia-cudnn-cu12==9.8.0.87 in /usr/local/lib/python3.11/dist-packages (from torch>=2.0.0->accelerate) (9.8.0.87)\n",
      "Requirement already satisfied: nvidia-cublas-cu12==12.8.3.14 in /usr/local/lib/python3.11/dist-packages (from torch>=2.0.0->accelerate) (12.8.3.14)\n",
      "Requirement already satisfied: nvidia-cufft-cu12==11.3.3.41 in /usr/local/lib/python3.11/dist-packages (from torch>=2.0.0->accelerate) (11.3.3.41)\n",
      "Requirement already satisfied: nvidia-curand-cu12==10.3.9.55 in /usr/local/lib/python3.11/dist-packages (from torch>=2.0.0->accelerate) (10.3.9.55)\n",
      "Requirement already satisfied: nvidia-cusolver-cu12==11.7.2.55 in /usr/local/lib/python3.11/dist-packages (from torch>=2.0.0->accelerate) (11.7.2.55)\n",
      "Requirement already satisfied: nvidia-cusparse-cu12==12.5.7.53 in /usr/local/lib/python3.11/dist-packages (from torch>=2.0.0->accelerate) (12.5.7.53)\n",
      "Requirement already satisfied: nvidia-cusparselt-cu12==0.6.3 in /usr/local/lib/python3.11/dist-packages (from torch>=2.0.0->accelerate) (0.6.3)\n",
      "Requirement already satisfied: nvidia-nccl-cu12==2.25.1 in /usr/local/lib/python3.11/dist-packages (from torch>=2.0.0->accelerate) (2.25.1)\n",
      "Requirement already satisfied: nvidia-nvtx-cu12==12.8.55 in /usr/local/lib/python3.11/dist-packages (from torch>=2.0.0->accelerate) (12.8.55)\n",
      "Requirement already satisfied: nvidia-nvjitlink-cu12==12.8.61 in /usr/local/lib/python3.11/dist-packages (from torch>=2.0.0->accelerate) (12.8.61)\n",
      "Requirement already satisfied: nvidia-cufile-cu12==1.13.0.11 in /usr/local/lib/python3.11/dist-packages (from torch>=2.0.0->accelerate) (1.13.0.11)\n",
      "Requirement already satisfied: pytorch-triton==3.3.0+git96316ce5 in /usr/local/lib/python3.11/dist-packages (from torch>=2.0.0->accelerate) (3.3.0+git96316ce5)\n",
      "Collecting shellingham>=1.3.0 (from typer<1.0,>=0.12->gradio)\n",
      "  Downloading shellingham-1.5.4-py2.py3-none-any.whl.metadata (3.5 kB)\n",
      "Collecting rich>=10.11.0 (from typer<1.0,>=0.12->gradio)\n",
      "  Downloading rich-14.0.0-py3-none-any.whl.metadata (18 kB)\n",
      "Collecting aiohappyeyeballs>=2.5.0 (from aiohttp!=4.0.0a0,!=4.0.0a1->fsspec[http]<=2025.3.0,>=2023.1.0->datasets)\n",
      "  Downloading aiohappyeyeballs-2.6.1-py3-none-any.whl.metadata (5.9 kB)\n",
      "Collecting aiosignal>=1.1.2 (from aiohttp!=4.0.0a0,!=4.0.0a1->fsspec[http]<=2025.3.0,>=2023.1.0->datasets)\n",
      "  Downloading aiosignal-1.4.0-py3-none-any.whl.metadata (3.7 kB)\n",
      "Requirement already satisfied: attrs>=17.3.0 in /usr/local/lib/python3.11/dist-packages (from aiohttp!=4.0.0a0,!=4.0.0a1->fsspec[http]<=2025.3.0,>=2023.1.0->datasets) (25.3.0)\n",
      "Collecting frozenlist>=1.1.1 (from aiohttp!=4.0.0a0,!=4.0.0a1->fsspec[http]<=2025.3.0,>=2023.1.0->datasets)\n",
      "  Downloading frozenlist-1.7.0-cp311-cp311-manylinux_2_5_x86_64.manylinux1_x86_64.manylinux_2_17_x86_64.manylinux2014_x86_64.whl.metadata (18 kB)\n",
      "Collecting multidict<7.0,>=4.5 (from aiohttp!=4.0.0a0,!=4.0.0a1->fsspec[http]<=2025.3.0,>=2023.1.0->datasets)\n",
      "  Downloading multidict-6.6.3-cp311-cp311-manylinux2014_x86_64.manylinux_2_17_x86_64.manylinux_2_28_x86_64.whl.metadata (5.3 kB)\n",
      "Collecting propcache>=0.2.0 (from aiohttp!=4.0.0a0,!=4.0.0a1->fsspec[http]<=2025.3.0,>=2023.1.0->datasets)\n",
      "  Downloading propcache-0.3.2-cp311-cp311-manylinux_2_17_x86_64.manylinux2014_x86_64.whl.metadata (12 kB)\n",
      "Collecting yarl<2.0,>=1.17.0 (from aiohttp!=4.0.0a0,!=4.0.0a1->fsspec[http]<=2025.3.0,>=2023.1.0->datasets)\n",
      "  Downloading yarl-1.20.1-cp311-cp311-manylinux_2_17_x86_64.manylinux2014_x86_64.whl.metadata (73 kB)\n",
      "Requirement already satisfied: pycparser in /usr/local/lib/python3.11/dist-packages (from cffi>=1.0->soundfile>=0.12.1->librosa) (2.22)\n",
      "Collecting markdown-it-py>=2.2.0 (from rich>=10.11.0->typer<1.0,>=0.12->gradio)\n",
      "  Downloading markdown_it_py-3.0.0-py3-none-any.whl.metadata (6.9 kB)\n",
      "Requirement already satisfied: pygments<3.0.0,>=2.13.0 in /usr/local/lib/python3.11/dist-packages (from rich>=10.11.0->typer<1.0,>=0.12->gradio) (2.19.1)\n",
      "Requirement already satisfied: mpmath<1.4,>=1.1.0 in /usr/local/lib/python3.11/dist-packages (from sympy>=1.13.3->torch>=2.0.0->accelerate) (1.3.0)\n",
      "Collecting mdurl~=0.1 (from markdown-it-py>=2.2.0->rich>=10.11.0->typer<1.0,>=0.12->gradio)\n",
      "  Downloading mdurl-0.1.2-py3-none-any.whl.metadata (1.6 kB)\n",
      "Downloading datasets-3.6.0-py3-none-any.whl (491 kB)\n",
      "Downloading librosa-0.11.0-py3-none-any.whl (260 kB)\n",
      "Downloading evaluate-0.4.4-py3-none-any.whl (84 kB)\n",
      "Downloading jiwer-4.0.0-py3-none-any.whl (23 kB)\n",
      "Downloading gradio-5.35.0-py3-none-any.whl (54.3 MB)\n",
      "\u001b[2K   \u001b[90m━━━━━━━━━━━━━━━━━━━━━━━━━━━━━━━━━━━━━━━━\u001b[0m \u001b[32m54.3/54.3 MB\u001b[0m \u001b[31m256.8 MB/s\u001b[0m eta \u001b[36m0:00:00\u001b[0m00:01\u001b[0m\n",
      "\u001b[?25hDownloading gradio_client-1.10.4-py3-none-any.whl (323 kB)\n",
      "Downloading accelerate-1.8.1-py3-none-any.whl (365 kB)\n",
      "Downloading tensorboard-2.19.0-py3-none-any.whl (5.5 MB)\n",
      "\u001b[2K   \u001b[90m━━━━━━━━━━━━━━━━━━━━━━━━━━━━━━━━━━━━━━━━\u001b[0m \u001b[32m5.5/5.5 MB\u001b[0m \u001b[31m416.3 MB/s\u001b[0m eta \u001b[36m0:00:00\u001b[0m\n",
      "\u001b[?25hDownloading hf_xet-1.1.5-cp37-abi3-manylinux_2_17_x86_64.manylinux2014_x86_64.whl (3.1 MB)\n",
      "\u001b[2K   \u001b[90m━━━━━━━━━━━━━━━━━━━━━━━━━━━━━━━━━━━━━━━━\u001b[0m \u001b[32m3.1/3.1 MB\u001b[0m \u001b[31m181.9 MB/s\u001b[0m eta \u001b[36m0:00:00\u001b[0m\n",
      "\u001b[?25hDownloading absl_py-2.3.1-py3-none-any.whl (135 kB)\n",
      "Downloading aiofiles-24.1.0-py3-none-any.whl (15 kB)\n",
      "Downloading audioread-3.0.1-py3-none-any.whl (23 kB)\n",
      "Downloading click-8.2.1-py3-none-any.whl (102 kB)\n",
      "Downloading dill-0.3.8-py3-none-any.whl (116 kB)\n",
      "Downloading fastapi-0.116.0-py3-none-any.whl (95 kB)\n",
      "Downloading groovy-0.1.2-py3-none-any.whl (14 kB)\n",
      "Downloading grpcio-1.73.1-cp311-cp311-manylinux_2_17_x86_64.manylinux2014_x86_64.whl (6.0 MB)\n",
      "\u001b[2K   \u001b[90m━━━━━━━━━━━━━━━━━━━━━━━━━━━━━━━━━━━━━━━━\u001b[0m \u001b[32m6.0/6.0 MB\u001b[0m \u001b[31m376.6 MB/s\u001b[0m eta \u001b[36m0:00:00\u001b[0m\n",
      "\u001b[?25hDownloading huggingface_hub-0.33.2-py3-none-any.whl (515 kB)\n",
      "Downloading joblib-1.5.1-py3-none-any.whl (307 kB)\n",
      "Downloading lazy_loader-0.4-py3-none-any.whl (12 kB)\n",
      "Downloading markdown-3.8.2-py3-none-any.whl (106 kB)\n",
      "Downloading msgpack-1.1.1-cp311-cp311-manylinux_2_17_x86_64.manylinux2014_x86_64.whl (429 kB)\n",
      "Downloading multiprocess-0.70.16-py311-none-any.whl (143 kB)\n",
      "Downloading numba-0.61.2-cp311-cp311-manylinux2014_x86_64.manylinux_2_17_x86_64.whl (3.8 MB)\n",
      "\u001b[2K   \u001b[90m━━━━━━━━━━━━━━━━━━━━━━━━━━━━━━━━━━━━━━━━\u001b[0m \u001b[32m3.8/3.8 MB\u001b[0m \u001b[31m369.1 MB/s\u001b[0m eta \u001b[36m0:00:00\u001b[0m\n",
      "\u001b[?25hDownloading orjson-3.10.18-cp311-cp311-manylinux_2_17_x86_64.manylinux2014_x86_64.whl (132 kB)\n",
      "Downloading pandas-2.3.1-cp311-cp311-manylinux_2_17_x86_64.manylinux2014_x86_64.whl (12.4 MB)\n",
      "\u001b[2K   \u001b[90m━━━━━━━━━━━━━━━━━━━━━━━━━━━━━━━━━━━━━━━━\u001b[0m \u001b[32m12.4/12.4 MB\u001b[0m \u001b[31m376.3 MB/s\u001b[0m eta \u001b[36m0:00:00\u001b[0m\n",
      "\u001b[?25hDownloading pooch-1.8.2-py3-none-any.whl (64 kB)\n",
      "Downloading protobuf-6.31.1-cp39-abi3-manylinux2014_x86_64.whl (321 kB)\n",
      "Downloading pyarrow-20.0.0-cp311-cp311-manylinux_2_28_x86_64.whl (42.3 MB)\n",
      "\u001b[2K   \u001b[90m━━━━━━━━━━━━━━━━━━━━━━━━━━━━━━━━━━━━━━━━\u001b[0m \u001b[32m42.3/42.3 MB\u001b[0m \u001b[31m152.8 MB/s\u001b[0m eta \u001b[36m0:00:00\u001b[0ma \u001b[36m0:00:01\u001b[0m\n",
      "\u001b[?25hDownloading pydantic-2.11.7-py3-none-any.whl (444 kB)\n",
      "Downloading pydantic_core-2.33.2-cp311-cp311-manylinux_2_17_x86_64.manylinux2014_x86_64.whl (2.0 MB)\n",
      "\u001b[2K   \u001b[90m━━━━━━━━━━━━━━━━━━━━━━━━━━━━━━━━━━━━━━━━\u001b[0m \u001b[32m2.0/2.0 MB\u001b[0m \u001b[31m300.1 MB/s\u001b[0m eta \u001b[36m0:00:00\u001b[0m\n",
      "\u001b[?25hDownloading python_multipart-0.0.20-py3-none-any.whl (24 kB)\n",
      "Downloading rapidfuzz-3.13.0-cp311-cp311-manylinux_2_17_x86_64.manylinux2014_x86_64.whl (3.1 MB)\n",
      "\u001b[2K   \u001b[90m━━━━━━━━━━━━━━━━━━━━━━━━━━━━━━━━━━━━━━━━\u001b[0m \u001b[32m3.1/3.1 MB\u001b[0m \u001b[31m368.7 MB/s\u001b[0m eta \u001b[36m0:00:00\u001b[0m\n",
      "\u001b[?25hDownloading ruff-0.12.2-py3-none-manylinux_2_17_x86_64.manylinux2014_x86_64.whl (11.6 MB)\n",
      "\u001b[2K   \u001b[90m━━━━━━━━━━━━━━━━━━━━━━━━━━━━━━━━━━━━━━━━\u001b[0m \u001b[32m11.6/11.6 MB\u001b[0m \u001b[31m261.2 MB/s\u001b[0m eta \u001b[36m0:00:00\u001b[0m\n",
      "\u001b[?25hDownloading safehttpx-0.1.6-py3-none-any.whl (8.7 kB)\n",
      "Downloading safetensors-0.5.3-cp38-abi3-manylinux_2_17_x86_64.manylinux2014_x86_64.whl (471 kB)\n",
      "Downloading scikit_learn-1.7.0-cp311-cp311-manylinux_2_17_x86_64.manylinux2014_x86_64.whl (12.9 MB)\n",
      "\u001b[2K   \u001b[90m━━━━━━━━━━━━━━━━━━━━━━━━━━━━━━━━━━━━━━━━\u001b[0m \u001b[32m12.9/12.9 MB\u001b[0m \u001b[31m386.5 MB/s\u001b[0m eta \u001b[36m0:00:00\u001b[0m\n",
      "\u001b[?25hDownloading scipy-1.16.0-cp311-cp311-manylinux2014_x86_64.manylinux_2_17_x86_64.whl (35.3 MB)\n",
      "\u001b[2K   \u001b[90m━━━━━━━━━━━━━━━━━━━━━━━━━━━━━━━━━━━━━━━━\u001b[0m \u001b[32m35.3/35.3 MB\u001b[0m \u001b[31m384.5 MB/s\u001b[0m eta \u001b[36m0:00:00\u001b[0m\n",
      "\u001b[?25hDownloading semantic_version-2.10.0-py2.py3-none-any.whl (15 kB)\n",
      "Downloading soundfile-0.13.1-py2.py3-none-manylinux_2_28_x86_64.whl (1.3 MB)\n",
      "\u001b[2K   \u001b[90m━━━━━━━━━━━━━━━━━━━━━━━━━━━━━━━━━━━━━━━━\u001b[0m \u001b[32m1.3/1.3 MB\u001b[0m \u001b[31m300.8 MB/s\u001b[0m eta \u001b[36m0:00:00\u001b[0m\n",
      "\u001b[?25hDownloading soxr-0.5.0.post1-cp311-cp311-manylinux_2_17_x86_64.manylinux2014_x86_64.whl (252 kB)\n",
      "Downloading starlette-0.46.2-py3-none-any.whl (72 kB)\n",
      "Downloading tensorboard_data_server-0.7.2-py3-none-manylinux_2_31_x86_64.whl (6.6 MB)\n",
      "\u001b[2K   \u001b[90m━━━━━━━━━━━━━━━━━━━━━━━━━━━━━━━━━━━━━━━━\u001b[0m \u001b[32m6.6/6.6 MB\u001b[0m \u001b[31m321.4 MB/s\u001b[0m eta \u001b[36m0:00:00\u001b[0m\n",
      "\u001b[?25hDownloading tomlkit-0.13.3-py3-none-any.whl (38 kB)\n",
      "Downloading tqdm-4.67.1-py3-none-any.whl (78 kB)\n",
      "Downloading typer-0.16.0-py3-none-any.whl (46 kB)\n",
      "Downloading uvicorn-0.35.0-py3-none-any.whl (66 kB)\n",
      "Downloading werkzeug-3.1.3-py3-none-any.whl (224 kB)\n",
      "Downloading ffmpy-0.6.0-py3-none-any.whl (5.5 kB)\n",
      "Downloading pydub-0.25.1-py2.py3-none-any.whl (32 kB)\n",
      "Downloading xxhash-3.5.0-cp311-cp311-manylinux_2_17_x86_64.manylinux2014_x86_64.whl (194 kB)\n",
      "Downloading aiohttp-3.12.13-cp311-cp311-manylinux_2_17_x86_64.manylinux2014_x86_64.whl (1.7 MB)\n",
      "\u001b[2K   \u001b[90m━━━━━━━━━━━━━━━━━━━━━━━━━━━━━━━━━━━━━━━━\u001b[0m \u001b[32m1.7/1.7 MB\u001b[0m \u001b[31m337.2 MB/s\u001b[0m eta \u001b[36m0:00:00\u001b[0m\n",
      "\u001b[?25hDownloading annotated_types-0.7.0-py3-none-any.whl (13 kB)\n",
      "Downloading llvmlite-0.44.0-cp311-cp311-manylinux_2_17_x86_64.manylinux2014_x86_64.whl (42.4 MB)\n",
      "\u001b[2K   \u001b[90m━━━━━━━━━━━━━━━━━━━━━━━━━━━━━━━━━━━━━━━━\u001b[0m \u001b[32m42.4/42.4 MB\u001b[0m \u001b[31m198.8 MB/s\u001b[0m eta \u001b[36m0:00:00\u001b[0m00:01\u001b[0m\n",
      "\u001b[?25hDownloading pytz-2025.2-py2.py3-none-any.whl (509 kB)\n",
      "Downloading rich-14.0.0-py3-none-any.whl (243 kB)\n",
      "Downloading shellingham-1.5.4-py2.py3-none-any.whl (9.8 kB)\n",
      "Downloading threadpoolctl-3.6.0-py3-none-any.whl (18 kB)\n",
      "Downloading typing_inspection-0.4.1-py3-none-any.whl (14 kB)\n",
      "Downloading tzdata-2025.2-py2.py3-none-any.whl (347 kB)\n",
      "Downloading websockets-15.0.1-cp311-cp311-manylinux_2_5_x86_64.manylinux1_x86_64.manylinux_2_17_x86_64.manylinux2014_x86_64.whl (182 kB)\n",
      "Downloading aiohappyeyeballs-2.6.1-py3-none-any.whl (15 kB)\n",
      "Downloading aiosignal-1.4.0-py3-none-any.whl (7.5 kB)\n",
      "Downloading frozenlist-1.7.0-cp311-cp311-manylinux_2_5_x86_64.manylinux1_x86_64.manylinux_2_17_x86_64.manylinux2014_x86_64.whl (235 kB)\n",
      "Downloading markdown_it_py-3.0.0-py3-none-any.whl (87 kB)\n",
      "Downloading multidict-6.6.3-cp311-cp311-manylinux2014_x86_64.manylinux_2_17_x86_64.manylinux_2_28_x86_64.whl (246 kB)\n",
      "Downloading propcache-0.3.2-cp311-cp311-manylinux_2_17_x86_64.manylinux2014_x86_64.whl (213 kB)\n",
      "Downloading yarl-1.20.1-cp311-cp311-manylinux_2_17_x86_64.manylinux2014_x86_64.whl (348 kB)\n",
      "Downloading mdurl-0.1.2-py3-none-any.whl (10.0 kB)\n",
      "Installing collected packages: pytz, pydub, xxhash, werkzeug, websockets, tzdata, typing-inspection, tqdm, tomlkit, threadpoolctl, tensorboard-data-server, soxr, shellingham, semantic-version, scipy, safetensors, ruff, rapidfuzz, python-multipart, pydantic-core, pyarrow, protobuf, propcache, orjson, multidict, msgpack, mdurl, markdown, llvmlite, lazy_loader, joblib, hf_xet, grpcio, groovy, frozenlist, ffmpy, dill, click, audioread, annotated-types, aiohappyeyeballs, aiofiles, absl-py, yarl, uvicorn, tensorboard, starlette, soundfile, scikit-learn, pydantic, pooch, pandas, numba, multiprocess, markdown-it-py, jiwer, huggingface-hub, aiosignal, safehttpx, rich, librosa, gradio-client, fastapi, aiohttp, typer, accelerate, gradio, datasets, evaluate\n",
      "Successfully installed absl-py-2.3.1 accelerate-1.8.1 aiofiles-24.1.0 aiohappyeyeballs-2.6.1 aiohttp-3.12.13 aiosignal-1.4.0 annotated-types-0.7.0 audioread-3.0.1 click-8.2.1 datasets-3.6.0 dill-0.3.8 evaluate-0.4.4 fastapi-0.116.0 ffmpy-0.6.0 frozenlist-1.7.0 gradio-5.35.0 gradio-client-1.10.4 groovy-0.1.2 grpcio-1.73.1 hf_xet-1.1.5 huggingface-hub-0.33.2 jiwer-4.0.0 joblib-1.5.1 lazy_loader-0.4 librosa-0.11.0 llvmlite-0.44.0 markdown-3.8.2 markdown-it-py-3.0.0 mdurl-0.1.2 msgpack-1.1.1 multidict-6.6.3 multiprocess-0.70.16 numba-0.61.2 orjson-3.10.18 pandas-2.3.1 pooch-1.8.2 propcache-0.3.2 protobuf-6.31.1 pyarrow-20.0.0 pydantic-2.11.7 pydantic-core-2.33.2 pydub-0.25.1 python-multipart-0.0.20 pytz-2025.2 rapidfuzz-3.13.0 rich-14.0.0 ruff-0.12.2 safehttpx-0.1.6 safetensors-0.5.3 scikit-learn-1.7.0 scipy-1.16.0 semantic-version-2.10.0 shellingham-1.5.4 soundfile-0.13.1 soxr-0.5.0.post1 starlette-0.46.2 tensorboard-2.19.0 tensorboard-data-server-0.7.2 threadpoolctl-3.6.0 tomlkit-0.13.3 tqdm-4.67.1 typer-0.16.0 typing-inspection-0.4.1 tzdata-2025.2 uvicorn-0.35.0 websockets-15.0.1 werkzeug-3.1.3 xxhash-3.5.0 yarl-1.20.1\n",
      "\u001b[33mWARNING: Running pip as the 'root' user can result in broken permissions and conflicting behaviour with the system package manager, possibly rendering your system unusable. It is recommended to use a virtual environment instead: https://pip.pypa.io/warnings/venv. Use the --root-user-action option if you know what you are doing and want to suppress this warning.\u001b[0m\u001b[33m\n",
      "\u001b[0m\n",
      "\u001b[1m[\u001b[0m\u001b[34;49mnotice\u001b[0m\u001b[1;39;49m]\u001b[0m\u001b[39;49m A new release of pip is available: \u001b[0m\u001b[31;49m25.0.1\u001b[0m\u001b[39;49m -> \u001b[0m\u001b[32;49m25.1.1\u001b[0m\n",
      "\u001b[1m[\u001b[0m\u001b[34;49mnotice\u001b[0m\u001b[1;39;49m]\u001b[0m\u001b[39;49m To update, run: \u001b[0m\u001b[32;49mpython -m pip install --upgrade pip\u001b[0m\n",
      "Collecting git+https://github.com/huggingface/transformers\n",
      "  Cloning https://github.com/huggingface/transformers to /tmp/pip-req-build-1dq168gy\n",
      "  Running command git clone --filter=blob:none --quiet https://github.com/huggingface/transformers /tmp/pip-req-build-1dq168gy\n",
      "  Resolved https://github.com/huggingface/transformers to commit 7ef592c96cbf616492ac4181a390d465189abec6\n",
      "  Installing build dependencies ... \u001b[?25ldone\n",
      "\u001b[?25h  Getting requirements to build wheel ... \u001b[?25ldone\n",
      "\u001b[?25h  Preparing metadata (pyproject.toml) ... \u001b[?25ldone\n",
      "\u001b[?25hRequirement already satisfied: filelock in /usr/local/lib/python3.11/dist-packages (from transformers==4.54.0.dev0) (3.16.1)\n",
      "Requirement already satisfied: huggingface-hub<1.0,>=0.30.0 in /usr/local/lib/python3.11/dist-packages (from transformers==4.54.0.dev0) (0.33.2)\n",
      "Requirement already satisfied: numpy>=1.17 in /usr/local/lib/python3.11/dist-packages (from transformers==4.54.0.dev0) (2.1.2)\n",
      "Requirement already satisfied: packaging>=20.0 in /usr/local/lib/python3.11/dist-packages (from transformers==4.54.0.dev0) (24.2)\n",
      "Requirement already satisfied: pyyaml>=5.1 in /usr/local/lib/python3.11/dist-packages (from transformers==4.54.0.dev0) (6.0.2)\n",
      "Collecting regex!=2019.12.17 (from transformers==4.54.0.dev0)\n",
      "  Downloading regex-2024.11.6-cp311-cp311-manylinux_2_17_x86_64.manylinux2014_x86_64.whl.metadata (40 kB)\n",
      "Requirement already satisfied: requests in /usr/local/lib/python3.11/dist-packages (from transformers==4.54.0.dev0) (2.32.3)\n",
      "Collecting tokenizers<0.22,>=0.21 (from transformers==4.54.0.dev0)\n",
      "  Downloading tokenizers-0.21.2-cp39-abi3-manylinux_2_17_x86_64.manylinux2014_x86_64.whl.metadata (6.8 kB)\n",
      "Requirement already satisfied: safetensors>=0.4.3 in /usr/local/lib/python3.11/dist-packages (from transformers==4.54.0.dev0) (0.5.3)\n",
      "Requirement already satisfied: tqdm>=4.27 in /usr/local/lib/python3.11/dist-packages (from transformers==4.54.0.dev0) (4.67.1)\n",
      "Requirement already satisfied: fsspec>=2023.5.0 in /usr/local/lib/python3.11/dist-packages (from huggingface-hub<1.0,>=0.30.0->transformers==4.54.0.dev0) (2024.10.0)\n",
      "Requirement already satisfied: typing-extensions>=3.7.4.3 in /usr/local/lib/python3.11/dist-packages (from huggingface-hub<1.0,>=0.30.0->transformers==4.54.0.dev0) (4.12.2)\n",
      "Requirement already satisfied: hf-xet<2.0.0,>=1.1.2 in /usr/local/lib/python3.11/dist-packages (from huggingface-hub<1.0,>=0.30.0->transformers==4.54.0.dev0) (1.1.5)\n",
      "Requirement already satisfied: charset-normalizer<4,>=2 in /usr/local/lib/python3.11/dist-packages (from requests->transformers==4.54.0.dev0) (3.4.1)\n",
      "Requirement already satisfied: idna<4,>=2.5 in /usr/local/lib/python3.11/dist-packages (from requests->transformers==4.54.0.dev0) (3.10)\n",
      "Requirement already satisfied: urllib3<3,>=1.21.1 in /usr/local/lib/python3.11/dist-packages (from requests->transformers==4.54.0.dev0) (2.3.0)\n",
      "Requirement already satisfied: certifi>=2017.4.17 in /usr/local/lib/python3.11/dist-packages (from requests->transformers==4.54.0.dev0) (2025.1.31)\n",
      "Downloading regex-2024.11.6-cp311-cp311-manylinux_2_17_x86_64.manylinux2014_x86_64.whl (792 kB)\n",
      "\u001b[2K   \u001b[90m━━━━━━━━━━━━━━━━━━━━━━━━━━━━━━━━━━━━━━━\u001b[0m \u001b[32m792.7/792.7 kB\u001b[0m \u001b[31m161.3 MB/s\u001b[0m eta \u001b[36m0:00:00\u001b[0m\n",
      "\u001b[?25hDownloading tokenizers-0.21.2-cp39-abi3-manylinux_2_17_x86_64.manylinux2014_x86_64.whl (3.1 MB)\n",
      "\u001b[2K   \u001b[90m━━━━━━━━━━━━━━━━━━━━━━━━━━━━━━━━━━━━━━━━\u001b[0m \u001b[32m3.1/3.1 MB\u001b[0m \u001b[31m119.4 MB/s\u001b[0m eta \u001b[36m0:00:00\u001b[0m\n",
      "\u001b[?25hBuilding wheels for collected packages: transformers\n",
      "  Building wheel for transformers (pyproject.toml) ... \u001b[?25ldone\n",
      "\u001b[?25h  Created wheel for transformers: filename=transformers-4.54.0.dev0-py3-none-any.whl size=11808549 sha256=7c01238c144c84ba5d956c87f3db5eaa74724fe5f84374aa875eb7bcd05fccb6\n",
      "  Stored in directory: /tmp/pip-ephem-wheel-cache-j9br39em/wheels/04/a3/f1/b88775f8e1665827525b19ac7590250f1038d947067beba9fb\n",
      "Successfully built transformers\n",
      "Installing collected packages: regex, tokenizers, transformers\n",
      "Successfully installed regex-2024.11.6 tokenizers-0.21.2 transformers-4.54.0.dev0\n",
      "\u001b[33mWARNING: Running pip as the 'root' user can result in broken permissions and conflicting behaviour with the system package manager, possibly rendering your system unusable. It is recommended to use a virtual environment instead: https://pip.pypa.io/warnings/venv. Use the --root-user-action option if you know what you are doing and want to suppress this warning.\u001b[0m\u001b[33m\n",
      "\u001b[0m\n",
      "\u001b[1m[\u001b[0m\u001b[34;49mnotice\u001b[0m\u001b[1;39;49m]\u001b[0m\u001b[39;49m A new release of pip is available: \u001b[0m\u001b[31;49m25.0.1\u001b[0m\u001b[39;49m -> \u001b[0m\u001b[32;49m25.1.1\u001b[0m\n",
      "\u001b[1m[\u001b[0m\u001b[34;49mnotice\u001b[0m\u001b[1;39;49m]\u001b[0m\u001b[39;49m To update, run: \u001b[0m\u001b[32;49mpython -m pip install --upgrade pip\u001b[0m\n"
     ]
    }
   ],
   "source": [
    "!pip install datasets librosa evaluate jiwer gradio accelerate tensorboard evaluate hf_xet\n",
    "\n",
    "!pip install git+https://github.com/huggingface/transformers"
   ]
  },
  {
   "cell_type": "code",
   "execution_count": 2,
   "id": "67ef7765-ae93-4a0c-bffd-2f321a2a1212",
   "metadata": {},
   "outputs": [
    {
     "data": {
      "application/vnd.jupyter.widget-view+json": {
       "model_id": "012c1d67260b4657a9b5b5b3abf9b8e8",
       "version_major": 2,
       "version_minor": 0
      },
      "text/plain": [
       "VBox(children=(HTML(value='<center> <img\\nsrc=https://huggingface.co/front/assets/huggingface_logo-noborder.sv…"
      ]
     },
     "metadata": {},
     "output_type": "display_data"
    }
   ],
   "source": [
    "from huggingface_hub import notebook_login\n",
    "\n",
    "notebook_login()"
   ]
  },
  {
   "cell_type": "code",
   "execution_count": 3,
   "id": "3d02c244-63c0-4ffe-be6b-ac3fb36d9328",
   "metadata": {},
   "outputs": [
    {
     "name": "stdout",
     "output_type": "stream",
     "text": [
      "{'type': 'user', 'id': '684a8f2af973380b15eb4cb4', 'name': 'mhi-ai', 'fullname': 'MHI AI', 'email': 'mhi.ai@myhealthintegral.com', 'emailVerified': True, 'canPay': False, 'periodEnd': 1754006399, 'isPro': False, 'avatarUrl': 'https://cdn-avatars.huggingface.co/v1/production/uploads/684a8f2af973380b15eb4cb4/9bLAkX06wGWIByXHm5BI1.jpeg', 'orgs': [], 'auth': {'type': 'access_token', 'accessToken': {'displayName': 'hausa_fine_tune', 'role': 'write', 'createdAt': '2025-07-08T18:25:56.561Z'}}}\n"
     ]
    }
   ],
   "source": [
    "from huggingface_hub import whoami\n",
    "\n",
    "print(whoami())  # Will show info if the token is valid and saved"
   ]
  },
  {
   "cell_type": "code",
   "execution_count": 4,
   "id": "71f698d3-5b11-4951-a56e-0e99bf6a11dd",
   "metadata": {},
   "outputs": [],
   "source": [
    "%%capture\n",
    "!apt install git-lfs"
   ]
  },
  {
   "cell_type": "code",
   "execution_count": 5,
   "id": "32191d02-1179-4ba9-88f7-f80b8c814a87",
   "metadata": {},
   "outputs": [
    {
     "data": {
      "application/vnd.jupyter.widget-view+json": {
       "model_id": "2f9d02da80c449a08a208ad524ea6334",
       "version_major": 2,
       "version_minor": 0
      },
      "text/plain": [
       "README.md:   0%|          | 0.00/12.7k [00:00<?, ?B/s]"
      ]
     },
     "metadata": {},
     "output_type": "display_data"
    },
    {
     "data": {
      "application/vnd.jupyter.widget-view+json": {
       "model_id": "1d03bbf3a27540ebaa0a72a2765e27c2",
       "version_major": 2,
       "version_minor": 0
      },
      "text/plain": [
       "common_voice_17_0.py:   0%|          | 0.00/8.19k [00:00<?, ?B/s]"
      ]
     },
     "metadata": {},
     "output_type": "display_data"
    },
    {
     "data": {
      "application/vnd.jupyter.widget-view+json": {
       "model_id": "504e2c9ebd524075936964d5f90df0aa",
       "version_major": 2,
       "version_minor": 0
      },
      "text/plain": [
       "languages.py:   0%|          | 0.00/3.92k [00:00<?, ?B/s]"
      ]
     },
     "metadata": {},
     "output_type": "display_data"
    },
    {
     "data": {
      "application/vnd.jupyter.widget-view+json": {
       "model_id": "c84f473f328240558c3492fdb89c3a53",
       "version_major": 2,
       "version_minor": 0
      },
      "text/plain": [
       "release_stats.py:   0%|          | 0.00/132k [00:00<?, ?B/s]"
      ]
     },
     "metadata": {},
     "output_type": "display_data"
    },
    {
     "name": "stdin",
     "output_type": "stream",
     "text": [
      "The repository for mozilla-foundation/common_voice_17_0 contains custom code which must be executed to correctly load the dataset. You can inspect the repository content at https://hf.co/datasets/mozilla-foundation/common_voice_17_0.\n",
      "You can avoid this prompt in future by passing the argument `trust_remote_code=True`.\n",
      "\n",
      "Do you wish to run the custom code? [y/N]  y\n"
     ]
    },
    {
     "data": {
      "application/vnd.jupyter.widget-view+json": {
       "model_id": "103cf3a232f54f2abf59bfa60e43a14d",
       "version_major": 2,
       "version_minor": 0
      },
      "text/plain": [
       "n_shards.json:   0%|          | 0.00/17.5k [00:00<?, ?B/s]"
      ]
     },
     "metadata": {},
     "output_type": "display_data"
    },
    {
     "data": {
      "application/vnd.jupyter.widget-view+json": {
       "model_id": "6d96dcf9f22e4cb29f69292b028af574",
       "version_major": 2,
       "version_minor": 0
      },
      "text/plain": [
       "ha_train_0.tar:   0%|          | 0.00/50.8M [00:00<?, ?B/s]"
      ]
     },
     "metadata": {},
     "output_type": "display_data"
    },
    {
     "data": {
      "application/vnd.jupyter.widget-view+json": {
       "model_id": "ecf438a65d1348afb373de0e1d932a0c",
       "version_major": 2,
       "version_minor": 0
      },
      "text/plain": [
       "ha_dev_0.tar:   0%|          | 0.00/15.5M [00:00<?, ?B/s]"
      ]
     },
     "metadata": {},
     "output_type": "display_data"
    },
    {
     "data": {
      "application/vnd.jupyter.widget-view+json": {
       "model_id": "4c9f87ef95cc47ec96ca93b656226798",
       "version_major": 2,
       "version_minor": 0
      },
      "text/plain": [
       "ha_test_0.tar:   0%|          | 0.00/19.3M [00:00<?, ?B/s]"
      ]
     },
     "metadata": {},
     "output_type": "display_data"
    },
    {
     "data": {
      "application/vnd.jupyter.widget-view+json": {
       "model_id": "d238832ab1454bcd994948c76f42e572",
       "version_major": 2,
       "version_minor": 0
      },
      "text/plain": [
       "ha_other_0.tar:   0%|          | 0.00/178M [00:00<?, ?B/s]"
      ]
     },
     "metadata": {},
     "output_type": "display_data"
    },
    {
     "data": {
      "application/vnd.jupyter.widget-view+json": {
       "model_id": "96734112d1ef430bb6c2984e78ae2f2c",
       "version_major": 2,
       "version_minor": 0
      },
      "text/plain": [
       "ha_invalidated_0.tar:   0%|          | 0.00/4.98M [00:00<?, ?B/s]"
      ]
     },
     "metadata": {},
     "output_type": "display_data"
    },
    {
     "data": {
      "application/vnd.jupyter.widget-view+json": {
       "model_id": "5d60aeb915394ddbacbf66423402b08d",
       "version_major": 2,
       "version_minor": 0
      },
      "text/plain": [
       "ha_validated_0.tar:   0%|          | 0.00/88.5M [00:00<?, ?B/s]"
      ]
     },
     "metadata": {},
     "output_type": "display_data"
    },
    {
     "data": {
      "application/vnd.jupyter.widget-view+json": {
       "model_id": "e48eea5116d2447eb560f885f0a0d34a",
       "version_major": 2,
       "version_minor": 0
      },
      "text/plain": [
       "train.tsv:   0%|          | 0.00/581k [00:00<?, ?B/s]"
      ]
     },
     "metadata": {},
     "output_type": "display_data"
    },
    {
     "data": {
      "application/vnd.jupyter.widget-view+json": {
       "model_id": "ed245d4e72784dce97c6bbc54c5760a7",
       "version_major": 2,
       "version_minor": 0
      },
      "text/plain": [
       "dev.tsv:   0%|          | 0.00/174k [00:00<?, ?B/s]"
      ]
     },
     "metadata": {},
     "output_type": "display_data"
    },
    {
     "data": {
      "application/vnd.jupyter.widget-view+json": {
       "model_id": "8f394b875767411ea4f2e1618aa754d2",
       "version_major": 2,
       "version_minor": 0
      },
      "text/plain": [
       "test.tsv:   0%|          | 0.00/189k [00:00<?, ?B/s]"
      ]
     },
     "metadata": {},
     "output_type": "display_data"
    },
    {
     "data": {
      "application/vnd.jupyter.widget-view+json": {
       "model_id": "dc7e45319bc64af6b440585c2231c042",
       "version_major": 2,
       "version_minor": 0
      },
      "text/plain": [
       "other.tsv:   0%|          | 0.00/1.98M [00:00<?, ?B/s]"
      ]
     },
     "metadata": {},
     "output_type": "display_data"
    },
    {
     "data": {
      "application/vnd.jupyter.widget-view+json": {
       "model_id": "23974e5d9a6e41f397a3b55808feac99",
       "version_major": 2,
       "version_minor": 0
      },
      "text/plain": [
       "invalidated.tsv:   0%|          | 0.00/50.8k [00:00<?, ?B/s]"
      ]
     },
     "metadata": {},
     "output_type": "display_data"
    },
    {
     "data": {
      "application/vnd.jupyter.widget-view+json": {
       "model_id": "0152ec42e42d45be9a05a6265bc03a83",
       "version_major": 2,
       "version_minor": 0
      },
      "text/plain": [
       "validated.tsv:   0%|          | 0.00/978k [00:00<?, ?B/s]"
      ]
     },
     "metadata": {},
     "output_type": "display_data"
    },
    {
     "data": {
      "application/vnd.jupyter.widget-view+json": {
       "model_id": "daa686ed4a1543838517bb6669e3ba3f",
       "version_major": 2,
       "version_minor": 0
      },
      "text/plain": [
       "Generating train split: 0 examples [00:00, ? examples/s]"
      ]
     },
     "metadata": {},
     "output_type": "display_data"
    },
    {
     "name": "stderr",
     "output_type": "stream",
     "text": [
      "\n",
      "Reading metadata...: 1925it [00:00, 56167.59it/s]\n"
     ]
    },
    {
     "data": {
      "application/vnd.jupyter.widget-view+json": {
       "model_id": "c69ea80651a44a4bb1a22553c6fef89d",
       "version_major": 2,
       "version_minor": 0
      },
      "text/plain": [
       "Generating validation split: 0 examples [00:00, ? examples/s]"
      ]
     },
     "metadata": {},
     "output_type": "display_data"
    },
    {
     "name": "stderr",
     "output_type": "stream",
     "text": [
      "\n",
      "Reading metadata...: 582it [00:00, 172930.36it/s]\n"
     ]
    },
    {
     "data": {
      "application/vnd.jupyter.widget-view+json": {
       "model_id": "8030a186068b4791b168609d85b19756",
       "version_major": 2,
       "version_minor": 0
      },
      "text/plain": [
       "Generating test split: 0 examples [00:00, ? examples/s]"
      ]
     },
     "metadata": {},
     "output_type": "display_data"
    },
    {
     "name": "stderr",
     "output_type": "stream",
     "text": [
      "\n",
      "Reading metadata...: 661it [00:00, 175592.81it/s]\n"
     ]
    },
    {
     "data": {
      "application/vnd.jupyter.widget-view+json": {
       "model_id": "0bcec9123a8c4e35bb88430bd57d53cc",
       "version_major": 2,
       "version_minor": 0
      },
      "text/plain": [
       "Generating other split: 0 examples [00:00, ? examples/s]"
      ]
     },
     "metadata": {},
     "output_type": "display_data"
    },
    {
     "name": "stderr",
     "output_type": "stream",
     "text": [
      "\n",
      "Reading metadata...: 6660it [00:00, 173977.89it/s]\n"
     ]
    },
    {
     "data": {
      "application/vnd.jupyter.widget-view+json": {
       "model_id": "be07a3655d4f432fb21d8f413104eb62",
       "version_major": 2,
       "version_minor": 0
      },
      "text/plain": [
       "Generating invalidated split: 0 examples [00:00, ? examples/s]"
      ]
     },
     "metadata": {},
     "output_type": "display_data"
    },
    {
     "name": "stderr",
     "output_type": "stream",
     "text": [
      "\n",
      "Reading metadata...: 170it [00:00, 160882.60it/s]\n"
     ]
    },
    {
     "data": {
      "application/vnd.jupyter.widget-view+json": {
       "model_id": "ed19d09e16bd4524a278044e57b4423d",
       "version_major": 2,
       "version_minor": 0
      },
      "text/plain": [
       "Generating validated split: 0 examples [00:00, ? examples/s]"
      ]
     },
     "metadata": {},
     "output_type": "display_data"
    },
    {
     "name": "stderr",
     "output_type": "stream",
     "text": [
      "\n",
      "Reading metadata...: 3281it [00:00, 176309.83it/s]\n"
     ]
    }
   ],
   "source": [
    "from datasets import load_dataset, DatasetDict\n",
    "\n",
    "common_voice = DatasetDict()\n",
    "\n",
    "common_voice_train = load_dataset(\"mozilla-foundation/common_voice_17_0\", \"ha\", split=\"train+validation\", token=True)\n",
    "common_voice_test = load_dataset(\"mozilla-foundation/common_voice_17_0\", \"ha\", split=\"test\", token=True)"
   ]
  },
  {
   "cell_type": "code",
   "execution_count": 6,
   "id": "5e9bea36-4dba-4c6b-b158-e56e309f16ef",
   "metadata": {},
   "outputs": [],
   "source": [
    "common_voice_train = common_voice_train.remove_columns([\"accent\", \"age\", \"client_id\", \"down_votes\", \"gender\", \"locale\", \"segment\", \"up_votes\"])\n",
    "common_voice_test = common_voice_test.remove_columns([\"accent\", \"age\", \"client_id\", \"down_votes\", \"gender\", \"locale\", \"segment\", \"up_votes\"])"
   ]
  },
  {
   "cell_type": "code",
   "execution_count": 7,
   "id": "b58c9791-d9cf-4460-9cbb-1fa313bf23bd",
   "metadata": {},
   "outputs": [],
   "source": [
    "from datasets import ClassLabel\n",
    "import random\n",
    "import pandas as pd\n",
    "from IPython.display import display, HTML\n",
    "\n",
    "def show_random_elements(dataset, num_examples=10):\n",
    "    assert num_examples <= len(dataset), \"Can't pick more elements than there are in the dataset.\"\n",
    "    picks = []\n",
    "    for _ in range(num_examples):\n",
    "        pick = random.randint(0, len(dataset)-1)\n",
    "        while pick in picks:\n",
    "            pick = random.randint(0, len(dataset)-1)\n",
    "        picks.append(pick)\n",
    "    \n",
    "    df = pd.DataFrame(dataset[picks])\n",
    "    display(HTML(df.to_html()))"
   ]
  },
  {
   "cell_type": "code",
   "execution_count": 8,
   "id": "f034e8b8-0868-40ee-94ca-63063079d43c",
   "metadata": {},
   "outputs": [
    {
     "data": {
      "text/html": [
       "<table border=\"1\" class=\"dataframe\">\n",
       "  <thead>\n",
       "    <tr style=\"text-align: right;\">\n",
       "      <th></th>\n",
       "      <th>sentence</th>\n",
       "      <th>variant</th>\n",
       "    </tr>\n",
       "  </thead>\n",
       "  <tbody>\n",
       "    <tr>\n",
       "      <th>0</th>\n",
       "      <td>Zainab za ta yi mamaki idan ta ga Jami yana yin haka.</td>\n",
       "      <td></td>\n",
       "    </tr>\n",
       "    <tr>\n",
       "      <th>1</th>\n",
       "      <td>Yunwa wani abu ne da jiki kan nuna yayin da yake buƙatar abinci.</td>\n",
       "      <td></td>\n",
       "    </tr>\n",
       "    <tr>\n",
       "      <th>2</th>\n",
       "      <td>Hassan bai taɓa faɗa wa kowa abin da ya faru a wannan ranar ba.</td>\n",
       "      <td></td>\n",
       "    </tr>\n",
       "    <tr>\n",
       "      <th>3</th>\n",
       "      <td>Ba wani daga cikin iyalaina da zai yi haka.</td>\n",
       "      <td></td>\n",
       "    </tr>\n",
       "    <tr>\n",
       "      <th>4</th>\n",
       "      <td>Rufe makarantu na iya tasiri idan an kafa dokokin da kyau.</td>\n",
       "      <td></td>\n",
       "    </tr>\n",
       "    <tr>\n",
       "      <th>5</th>\n",
       "      <td>Ana buƙatar ɗalibai su yi aikin sa'a ɗaya ga alʻumma a kowane sati.</td>\n",
       "      <td></td>\n",
       "    </tr>\n",
       "    <tr>\n",
       "      <th>6</th>\n",
       "      <td>Zamu yi hayar sanannen mai yin kwalliya don yiwa jariminmu kwalliya.</td>\n",
       "      <td></td>\n",
       "    </tr>\n",
       "    <tr>\n",
       "      <th>7</th>\n",
       "      <td>A yi addu'a ga yarinya mai tsarki.</td>\n",
       "      <td></td>\n",
       "    </tr>\n",
       "    <tr>\n",
       "      <th>8</th>\n",
       "      <td>Ku faɗa min idan wani baƙon abu ya faru.</td>\n",
       "      <td></td>\n",
       "    </tr>\n",
       "    <tr>\n",
       "      <th>9</th>\n",
       "      <td>Ya kamata na ga wani kan kasuwancin.</td>\n",
       "      <td></td>\n",
       "    </tr>\n",
       "  </tbody>\n",
       "</table>"
      ],
      "text/plain": [
       "<IPython.core.display.HTML object>"
      ]
     },
     "metadata": {},
     "output_type": "display_data"
    }
   ],
   "source": [
    "show_random_elements(common_voice_train.remove_columns([\"path\", \"audio\"]), num_examples=10)"
   ]
  },
  {
   "cell_type": "code",
   "execution_count": 9,
   "id": "a1724b9e-a5c9-4001-a05d-9a02c26baacf",
   "metadata": {},
   "outputs": [],
   "source": [
    "import re\n",
    "chars_to_remove_regex = '[\\,\\?\\.\\!\\-\\;\\:\\\"\\“\\%\\‘\\”\\�\\']'\n",
    "\n",
    "def remove_special_characters(batch):\n",
    "    batch[\"sentence\"] = re.sub(chars_to_remove_regex, '', batch[\"sentence\"]).lower()\n",
    "    return batch"
   ]
  },
  {
   "cell_type": "code",
   "execution_count": 10,
   "id": "c788eb77-6001-4c43-8ecc-c1c2e84ee300",
   "metadata": {},
   "outputs": [
    {
     "data": {
      "application/vnd.jupyter.widget-view+json": {
       "model_id": "ed99ab8e0c4e4351842590faa0ba03f3",
       "version_major": 2,
       "version_minor": 0
      },
      "text/plain": [
       "Map:   0%|          | 0/2507 [00:00<?, ? examples/s]"
      ]
     },
     "metadata": {},
     "output_type": "display_data"
    },
    {
     "data": {
      "application/vnd.jupyter.widget-view+json": {
       "model_id": "931d2419a5c5403992f51e875e3e2f05",
       "version_major": 2,
       "version_minor": 0
      },
      "text/plain": [
       "Map:   0%|          | 0/661 [00:00<?, ? examples/s]"
      ]
     },
     "metadata": {},
     "output_type": "display_data"
    }
   ],
   "source": [
    "common_voice_train = common_voice_train.map(remove_special_characters)\n",
    "common_voice_test = common_voice_test.map(remove_special_characters)"
   ]
  },
  {
   "cell_type": "code",
   "execution_count": 11,
   "id": "d3a37e81-6a39-46bd-940f-0f481d147aad",
   "metadata": {},
   "outputs": [
    {
     "data": {
      "text/html": [
       "<table border=\"1\" class=\"dataframe\">\n",
       "  <thead>\n",
       "    <tr style=\"text-align: right;\">\n",
       "      <th></th>\n",
       "      <th>sentence</th>\n",
       "      <th>variant</th>\n",
       "    </tr>\n",
       "  </thead>\n",
       "  <tbody>\n",
       "    <tr>\n",
       "      <th>0</th>\n",
       "      <td>akalla dai kana iya fadawa hadiza cewa ba sai tayi hakan kuma</td>\n",
       "      <td></td>\n",
       "    </tr>\n",
       "    <tr>\n",
       "      <th>1</th>\n",
       "      <td>ina tsammani ibrahim zai kula da kansa</td>\n",
       "      <td></td>\n",
       "    </tr>\n",
       "    <tr>\n",
       "      <th>2</th>\n",
       "      <td>dabbobin suna ta aikin cin abinci</td>\n",
       "      <td></td>\n",
       "    </tr>\n",
       "    <tr>\n",
       "      <th>3</th>\n",
       "      <td>mayen na shan jini</td>\n",
       "      <td></td>\n",
       "    </tr>\n",
       "    <tr>\n",
       "      <th>4</th>\n",
       "      <td>kana ƙaunar francis</td>\n",
       "      <td></td>\n",
       "    </tr>\n",
       "    <tr>\n",
       "      <th>5</th>\n",
       "      <td>mene ne ainihin abinda ke zuciyar ka</td>\n",
       "      <td></td>\n",
       "    </tr>\n",
       "    <tr>\n",
       "      <th>6</th>\n",
       "      <td>amma ina da wahalar numfashi</td>\n",
       "      <td></td>\n",
       "    </tr>\n",
       "    <tr>\n",
       "      <th>7</th>\n",
       "      <td>yan wasa na yi kuka me ne kuke yi</td>\n",
       "      <td></td>\n",
       "    </tr>\n",
       "    <tr>\n",
       "      <th>8</th>\n",
       "      <td>da wuya a manta da abinda ya faru</td>\n",
       "      <td></td>\n",
       "    </tr>\n",
       "    <tr>\n",
       "      <th>9</th>\n",
       "      <td>kada wata ƙasa ta shiga harkokin cikin gidan wata ƙasar</td>\n",
       "      <td></td>\n",
       "    </tr>\n",
       "  </tbody>\n",
       "</table>"
      ],
      "text/plain": [
       "<IPython.core.display.HTML object>"
      ]
     },
     "metadata": {},
     "output_type": "display_data"
    }
   ],
   "source": [
    "show_random_elements(common_voice_train.remove_columns([\"path\",\"audio\"]))"
   ]
  },
  {
   "cell_type": "code",
   "execution_count": 12,
   "id": "fa392bed-56d3-41f1-904b-4a6b4982ccc8",
   "metadata": {},
   "outputs": [],
   "source": [
    "def replace_hatted_characters(batch):\n",
    "    batch[\"sentence\"] = re.sub('[â]', 'a', batch[\"sentence\"])\n",
    "    batch[\"sentence\"] = re.sub('[î]', 'i', batch[\"sentence\"])\n",
    "    batch[\"sentence\"] = re.sub('[ô]', 'o', batch[\"sentence\"])\n",
    "    batch[\"sentence\"] = re.sub('[û]', 'u', batch[\"sentence\"])\n",
    "    return batch"
   ]
  },
  {
   "cell_type": "code",
   "execution_count": 13,
   "id": "e073150b-4c57-4882-92c4-baf55e4980b3",
   "metadata": {},
   "outputs": [
    {
     "data": {
      "application/vnd.jupyter.widget-view+json": {
       "model_id": "e1e2ec78b67d48a0929f162a3673e6c2",
       "version_major": 2,
       "version_minor": 0
      },
      "text/plain": [
       "Map:   0%|          | 0/2507 [00:00<?, ? examples/s]"
      ]
     },
     "metadata": {},
     "output_type": "display_data"
    },
    {
     "data": {
      "application/vnd.jupyter.widget-view+json": {
       "model_id": "9dd924419fd24d27a6ad99dd780bb364",
       "version_major": 2,
       "version_minor": 0
      },
      "text/plain": [
       "Map:   0%|          | 0/661 [00:00<?, ? examples/s]"
      ]
     },
     "metadata": {},
     "output_type": "display_data"
    }
   ],
   "source": [
    "common_voice_train = common_voice_train.map(replace_hatted_characters)\n",
    "common_voice_test = common_voice_test.map(replace_hatted_characters)"
   ]
  },
  {
   "cell_type": "code",
   "execution_count": 14,
   "id": "5c86e225-5300-40ad-945f-a7e6411308ce",
   "metadata": {},
   "outputs": [],
   "source": [
    "def extract_all_chars(batch):\n",
    "  all_text = \" \".join(batch[\"sentence\"])\n",
    "  vocab = list(set(all_text))\n",
    "  return {\"vocab\": [vocab], \"all_text\": [all_text]}"
   ]
  },
  {
   "cell_type": "code",
   "execution_count": 15,
   "id": "a6134238-31a8-499c-bc41-489156687621",
   "metadata": {},
   "outputs": [
    {
     "data": {
      "application/vnd.jupyter.widget-view+json": {
       "model_id": "50dc1604f3d44c1da7f7a4bacee40295",
       "version_major": 2,
       "version_minor": 0
      },
      "text/plain": [
       "Map:   0%|          | 0/2507 [00:00<?, ? examples/s]"
      ]
     },
     "metadata": {},
     "output_type": "display_data"
    },
    {
     "data": {
      "application/vnd.jupyter.widget-view+json": {
       "model_id": "bee76c7da8db41de99e7a2f58a012368",
       "version_major": 2,
       "version_minor": 0
      },
      "text/plain": [
       "Map:   0%|          | 0/661 [00:00<?, ? examples/s]"
      ]
     },
     "metadata": {},
     "output_type": "display_data"
    }
   ],
   "source": [
    "vocab_train = common_voice_train.map(extract_all_chars, batched=True, batch_size=-1, keep_in_memory=True, remove_columns=common_voice_train.column_names)\n",
    "vocab_test = common_voice_test.map(extract_all_chars, batched=True, batch_size=-1, keep_in_memory=True, remove_columns=common_voice_test.column_names)"
   ]
  },
  {
   "cell_type": "code",
   "execution_count": 16,
   "id": "96903dfc-f141-4915-9685-25fac1a13ca4",
   "metadata": {},
   "outputs": [],
   "source": [
    "vocab_list = list(set(vocab_train[\"vocab\"][0]) | set(vocab_test[\"vocab\"][0]))"
   ]
  },
  {
   "cell_type": "code",
   "execution_count": 17,
   "id": "fd07db3e-7527-468b-93dc-d5d384d9af79",
   "metadata": {},
   "outputs": [
    {
     "data": {
      "text/plain": [
       "{' ': 0,\n",
       " 'a': 1,\n",
       " 'b': 2,\n",
       " 'c': 3,\n",
       " 'd': 4,\n",
       " 'e': 5,\n",
       " 'f': 6,\n",
       " 'g': 7,\n",
       " 'h': 8,\n",
       " 'i': 9,\n",
       " 'j': 10,\n",
       " 'k': 11,\n",
       " 'l': 12,\n",
       " 'm': 13,\n",
       " 'n': 14,\n",
       " 'o': 15,\n",
       " 'p': 16,\n",
       " 'q': 17,\n",
       " 'r': 18,\n",
       " 's': 19,\n",
       " 't': 20,\n",
       " 'u': 21,\n",
       " 'v': 22,\n",
       " 'w': 23,\n",
       " 'x': 24,\n",
       " 'y': 25,\n",
       " 'z': 26,\n",
       " 'í': 27,\n",
       " 'ƙ': 28,\n",
       " 'ƴ': 29,\n",
       " 'ɓ': 30,\n",
       " 'ɗ': 31,\n",
       " 'ʻ': 32,\n",
       " '—': 33,\n",
       " '’': 34}"
      ]
     },
     "execution_count": 17,
     "metadata": {},
     "output_type": "execute_result"
    }
   ],
   "source": [
    "vocab_dict = {v: k for k, v in enumerate(sorted(vocab_list))}\n",
    "vocab_dict"
   ]
  },
  {
   "cell_type": "code",
   "execution_count": 18,
   "id": "df653284-942f-4261-b15c-ea26f373f565",
   "metadata": {},
   "outputs": [],
   "source": [
    "vocab_dict[\"|\"] = vocab_dict[\" \"]\n",
    "del vocab_dict[\" \"]"
   ]
  },
  {
   "cell_type": "code",
   "execution_count": 19,
   "id": "85516d11-f950-462d-b0ea-cff2c4b674a6",
   "metadata": {},
   "outputs": [
    {
     "data": {
      "text/plain": [
       "37"
      ]
     },
     "execution_count": 19,
     "metadata": {},
     "output_type": "execute_result"
    }
   ],
   "source": [
    "vocab_dict[\"[UNK]\"] = len(vocab_dict)\n",
    "vocab_dict[\"[PAD]\"] = len(vocab_dict)\n",
    "len(vocab_dict)"
   ]
  },
  {
   "cell_type": "code",
   "execution_count": 20,
   "id": "fad529d3-eb0e-4144-a649-81faca614e18",
   "metadata": {},
   "outputs": [],
   "source": [
    "import json\n",
    "with open('vocab.json', 'w') as vocab_file:\n",
    "    json.dump(vocab_dict, vocab_file)"
   ]
  },
  {
   "cell_type": "code",
   "execution_count": 21,
   "id": "cc357b35-ad57-475b-a3b1-63c6be919527",
   "metadata": {},
   "outputs": [],
   "source": [
    "from transformers import Wav2Vec2CTCTokenizer\n",
    "\n",
    "tokenizer = Wav2Vec2CTCTokenizer.from_pretrained(\"./\", unk_token=\"[UNK]\", pad_token=\"[PAD]\", word_delimiter_token=\"|\")"
   ]
  },
  {
   "cell_type": "code",
   "execution_count": 22,
   "id": "90af3136-99c4-4e85-bed0-c96a5ed9b27c",
   "metadata": {},
   "outputs": [],
   "source": [
    "from transformers import Wav2Vec2FeatureExtractor\n",
    "\n",
    "feature_extractor = Wav2Vec2FeatureExtractor(feature_size=1, sampling_rate=16000, padding_value=0.0, do_normalize=True, return_attention_mask=True)"
   ]
  },
  {
   "cell_type": "code",
   "execution_count": 23,
   "id": "de0e2384-6ccc-4759-8658-f9f3b76e6375",
   "metadata": {},
   "outputs": [],
   "source": [
    "from transformers import Wav2Vec2Processor\n",
    "\n",
    "processor = Wav2Vec2Processor(feature_extractor=feature_extractor, tokenizer=tokenizer)"
   ]
  },
  {
   "cell_type": "code",
   "execution_count": 24,
   "id": "331f708a-c810-4ae8-9f44-c656fc1f2733",
   "metadata": {},
   "outputs": [
    {
     "data": {
      "text/plain": [
       "'/root/.cache/huggingface/datasets/downloads/extracted/1c65dbfd7b6a1e3b8df26550def0dedc0d7ed8ef86250a0f2e1016bca32063ba/ha_train_0/common_voice_ha_26692998.mp3'"
      ]
     },
     "execution_count": 24,
     "metadata": {},
     "output_type": "execute_result"
    }
   ],
   "source": [
    "common_voice_train[0][\"path\"]"
   ]
  },
  {
   "cell_type": "code",
   "execution_count": 25,
   "id": "57b4863d-e43c-44d5-a479-a47bf8660d5b",
   "metadata": {},
   "outputs": [
    {
     "data": {
      "text/plain": [
       "{'path': '/root/.cache/huggingface/datasets/downloads/extracted/1c65dbfd7b6a1e3b8df26550def0dedc0d7ed8ef86250a0f2e1016bca32063ba/ha_train_0/common_voice_ha_26692998.mp3',\n",
       " 'array': array([7.10542736e-14, 7.38964445e-13, 1.08002496e-12, ...,\n",
       "        1.11347108e-05, 1.47565079e-05, 9.08747461e-06]),\n",
       " 'sampling_rate': 48000}"
      ]
     },
     "execution_count": 25,
     "metadata": {},
     "output_type": "execute_result"
    }
   ],
   "source": [
    "common_voice_train[0][\"audio\"]"
   ]
  },
  {
   "cell_type": "code",
   "execution_count": 26,
   "id": "c0eeb6bc-03d1-4b33-97dd-12f67cc8d9e7",
   "metadata": {},
   "outputs": [],
   "source": [
    "from datasets import load_dataset, Audio\n",
    "\n",
    "common_voice_train = common_voice_train.cast_column(\"audio\", Audio(sampling_rate=16_000))\n",
    "common_voice_test = common_voice_test.cast_column(\"audio\", Audio(sampling_rate=16_000))"
   ]
  },
  {
   "cell_type": "code",
   "execution_count": 27,
   "id": "f406e1e0-9e46-4d8d-b492-731c873629ee",
   "metadata": {},
   "outputs": [
    {
     "data": {
      "text/plain": [
       "{'path': '/root/.cache/huggingface/datasets/downloads/extracted/1c65dbfd7b6a1e3b8df26550def0dedc0d7ed8ef86250a0f2e1016bca32063ba/ha_train_0/common_voice_ha_26692998.mp3',\n",
       " 'array': array([ 6.82121026e-12, -4.43378667e-12,  8.75388650e-12, ...,\n",
       "         5.07489312e-06,  4.18775016e-07,  1.07367523e-05]),\n",
       " 'sampling_rate': 16000}"
      ]
     },
     "execution_count": 27,
     "metadata": {},
     "output_type": "execute_result"
    }
   ],
   "source": [
    "common_voice_train[0][\"audio\"]"
   ]
  },
  {
   "cell_type": "code",
   "execution_count": 28,
   "id": "846c3d13-1207-4826-b9d6-c93d0a0bf5f6",
   "metadata": {},
   "outputs": [
    {
     "name": "stdout",
     "output_type": "stream",
     "text": [
      "kuna son shi\n"
     ]
    },
    {
     "data": {
      "text/html": [
       "\n",
       "                <audio  controls=\"controls\" autoplay=\"autoplay\">\n",
       "                    <source src=\"data:audio/wav;base64,UklGRiRoAQBXQVZFZm10IBAAAAABAAEAgD4AAAB9AAACABAAZGF0YQBoAQAAAAAAAAAAAAAAAAAAAAAAAAAAAAAAAAAAAAAAAAAAAAAAAAAAAAAAAAAAAAAAAAAAAAAAAAAAAAAAAAAAAAAAAAAAAAAAAAAAAAAAAAAAAAAAAAAAAAAAAAAAAAAAAAAAAAAAAAAAAAAAAAAAAAAAAAAAAAAAAAAAAAAAAAAAAAAAAAAAAAAAAAAAAAAAAAAAAAAAAAAAAAAAAAAAAAAAAAAAAAAAAAAAAAAAAAAAAAAAAAAAAAAAAAAAAAAAAAAAAAAAAAAAAAAAAAAAAAAAAAAAAAAAAAAAAAAAAAAAAAAAAAAAAAAAAAAAAAAAAAAAAAAAAAAAAAAAAAAAAAAAAAAAAAAAAAAAAAAAAAAAAAAAAAAAAAAAAAAAAAAAAAAAAAAAAAAAAAAAAAAAAAAAAAAAAAAAAAAAAAAAAAAAAAAAAAAAAAAAAAAAAAAAAAAAAAAAAAAAAAAAAAAAAAAAAAAAAAAAAAAAAAAAAAAAAAAAAAAAAAAAAAAAAAAAAAAAAAAAAAAAAAAAAAAAAAAAAAAAAAAAAAAAAAAAAAAAAAAAAAAAAAAAAAAAAAAAAAAAAAAAAAAAAAAAAAAAAAAAAAAAAAAAAAAAAAAAAAAAAAAAAAAAAAAAAAAAAAAAAAAAAAAAAAAAAAAAAAAAAAAAAAAAAAAAAAAAAAAAAAAAAAAAAAAAAAAAAAAAAAAAAAAAAAAAAAAAAAAAAAAAAAAAAAAAAAAAAAAAAAAAAAAAAAAAAAAAAAAAAAAAAAAAAAAAAAAAAAAAAAAAAAAAAAAAAAAAAAAAAAAAAAAAAAAAAAAAAAAAAAAAAAAAAAAAAAAAAAAAAAAAAAAAAAAAAAAAAAAAAAAAAAAAAAAAAAAAAAAAAAAAAAAAAAAAAAAAAAAAAAAAAAAAAAAAAAAAAAAAAAAAAAAAAAAAAAAAAAAAAAAAAAAAAAAAAAAAAAAAAAAAAAAAAAAAAAAAAAAAAAAAAAAAAAAAAAAAAAAAAAAAAAAAAAAAAAAAAAAAAAAAAAAAAAAAAAAAAAAAAAAAAAAAAAAAAAAAAAAAAAAAAAAAAAAAAAAAAAAAAAAAAAAAAAAAAAAAAAAAAAAAAAAAAAAAAAAAAAAAAAAAAAAAAAAAAAAAAAAAAAAAAAAAAAAAAAAAAAAAAAAAAAAAAAAAAAAAAAAAAAAAAAAAAAAAAAAAAAAAAAAAAAAAAAAAAAAAAAAAAAAAAAAAAAAAAAAAAAAAAAAAAAAAAAAAAAAAAAAAAAAAAAAAAAAAAAAAAAAAAAAAAAAAAAAAAAAAAAAAAAAAAAAAAAAAAAAAAAAAAAAAAAAAAAAAAAAAAAAAAAAAAAAAAAAAAAAAAAAAAAAAAAAAAAAAAAAAAAAAAAAAAAAAAAAAAAAAAAAAAAAAAAAAAAAAAAAAAAAAAAAAAAAAAAAAAAAAAAAAAAAAAAAAAAAAAAAAAAAAAAAAAAAAAAAAAAAAAAAAAAAAAAAAAAAAAAAAAAAAAAAAAAAAAAAAAAAAAAAAAAAAAAAAAAAAAAAAAAAAAAAAAAAAAAAAAAAAAAAAAAAAAAAAAAAAAAAAAAAAAAAAAAAAAAAAAAAAAAAAAAAAAAAAAAAAAAAAAAAAAAAAAAAAAAAAAAAAAAAAAAAAAAAAAAAAAAAAAAAAAAAAAAAAAAAAAAAAAAAAAAAAAAAAAAAAAAAAAAAAAAAAAAAAAAAAAAAAAAAAAAAAAAAAAAAAAAAAAAAAAAAAAAAAAAAAAQADAAMAAgAAAP///v/+////AAAAAAAAAAAAAAAAAAAAAP//////////AAAAAAEAAQABAAAAAAAAAAEAAAAAAAAAAAAAAAAAAAAAAP7//f/9//7//////wAA//8AAAAAAAAAAP//AAAAAAAAAAAAAAAAAAAAAAAAAAAAAAEAAgACAAAAAAD///7///8AAAAAAAABAAEAAgABAAAA//8AAAAAAQABAAIAAgAEAAQAAwABAAEAAQAAAAAAAAAAAAEAAAAAAAAAAAABAAAAAAAAAAAAAAAAAAAAAQABAAAAAAAAAAAAAAAAAP///////wAAAAABAAAAAAAAAAAA///9//z//f/+//////8AAAAAAAD///3//v8AAAAA///+//7/AAACAAIAAAAAAAIAAgAAAP7///8BAAEA///9//7/AQADAAEA/////wEAAwABAAAAAAABAAEAAAD/////AQACAAAAAAAAAAEAAgABAAEAAQAAAAAA/////wAAAAAAAAEAAQACAAEAAAD//wAAAAD///7//v8AAAEAAAAAAAAAAAAAAAAA/v/+////AAD/////AAAAAAIAAQAAAP//AAAAAAAAAAAAAAAA//8AAAAA/////wAA//////////8AAAAAAAACAAEAAQABAAAAAAAAAAAAAAAAAAAAAAABAAIAAwACAAEA///+//////8AAAIAAgABAAEAAAAAAAAAAAAAAAAAAQABAAAAAAAAAAAAAAAAAAAAAQAAAAAAAAAAAAEAAQAAAAAAAAAAAAAA/v/+//////8AAAAA/////wAAAAAAAAAAAAAAAP//////////AAAAAAAAAQABAAEAAAAAAP///v///wAAAAABAAEAAAAAAAAAAAAAAAAA//8AAAAAAAAAAAEAAQAAAAEAAQABAAEAAQAAAAAAAAD/////AAAAAAAAAAAAAAAAAAAAAAAAAAAAAAEAAQABAAAAAAAAAP//AAAAAAAAAQABAAEAAQABAAEAAQAAAP///f/9/////////wAAAgACAAAA/////wAAAQAAAP////8AAAEAAAD/////AAABAAAA/v/+/wAAAAD///3//v8AAAIAAQD+//3///8BAAEAAAAAAAAAAAAAAP7///8AAAEAAAD///7/AAABAAEAAQACAAIAAQAAAP//////////AAACAAMAAgAAAAAAAQABAAAA//8AAAEAAwACAAAAAAABAAEAAQAAAAAAAAAAAAAA//8AAAAAAQABAAAAAAAAAAAAAAAAAP//AAAAAAAAAAAAAAAAAAD///7//f/9/////////wAA//8AAAAAAAAAAP///v/+////AAAAAAEAAgACAAEAAAD///7//v///wAAAAAAAAAAAAAAAAAAAAAAAAAAAAAAAAAAAAABAAEAAgACAAEAAQABAAEAAQAAAAAAAQABAAAAAAAAAAAAAAAAAAAAAAAAAP//AAAAAAAAAAAAAAAAAAAAAAAA///+//7///8AAAAAAAABAAEAAAAAAAAA///+//3//v//////AAAAAAAAAAD//wAAAAD///7//f/+/wAAAAAAAAEAAgABAAEAAQAAAAAAAAAAAAAAAAAAAAEAAQAAAAAAAAAAAAAAAAABAAEAAQABAAAAAAAAAAEAAAAAAAAAAAAAAAIAAgABAAEAAQAAAAAAAAD///7//v///wAAAQACAAIAAQD///7//v///wAAAAAAAAAAAAAAAAAAAAAAAAEAAAAAAP////8AAAAA/////wAAAQABAP///f/+/wAAAAAAAAAAAAABAAAAAAD/////AAAAAP//AAAAAAIAAgACAAIAAwADAAEAAAD//wAAAAAAAAEAAwADAAIAAQAAAAAAAAAAAAAAAAAAAAEAAQABAAAAAAAAAAAAAAAAAAAA////////AAAAAAAAAAD+////AAAAAAAAAAD//wAAAAAAAP//AAAAAP///v/8//3///8AAAAAAAABAAIAAgAAAAAAAAAAAAAA/////wAAAAABAAEAAQABAAAA////////AAAAAAEAAQABAAEAAQABAAEAAAAAAAAAAAAAAAAAAAABAAEAAgABAAEAAgACAAEAAAAAAAAAAQABAAAA//////////8AAAAAAAD//////////wAAAAD//wAAAAAAAAAAAAD///////8AAAAAAAABAAAAAAD+//3//P/9////AAAAAAEAAAAAAAAAAAAAAAAAAAD/////AAAAAAEAAgABAAEAAQAAAAAAAAABAAIAAQAAAAAAAAAAAAAA/////wAAAAAAAAAAAAAAAAAAAAAAAAAAAAAAAAAA//8AAAAAAgADAAMAAQABAAEAAQAAAAAA/v/9//7/AAAAAAAAAAAAAAAAAAD/////AAAAAP////8AAAIAAgABAAAAAAACAAEAAAD//wAAAAAAAAAA//8AAAIAAAD+//3/AAAAAAAAAAAAAAEAAQAAAP7///8AAAAA/v/+/wAAAQAAAAAAAAAAAAEAAAD/////AAAAAAAAAAAAAAIAAQAAAP////8AAAAA//8AAAEAAQAAAAAAAAABAAIAAgABAAAAAAD//wAAAAACAAMAAgAAAAAAAQABAAIAAQAAAAAAAAAAAAAAAAAAAP/////+//3//f/+////AAAAAAAAAAAAAAAAAAAAAAAAAAAAAAAAAAAAAAEAAAABAAEAAAAAAP///f/+////AAAAAAAAAAAAAAEAAQAAAAAAAAAAAAAAAAAAAAAAAQACAAIAAgACAAEAAAAAAAAAAAABAAAAAAAAAAAAAAAAAAAAAAAAAAAAAAAAAAAAAAABAAEAAAAAAAAAAAD//wAA/////wAAAAABAAEAAQABAAAA/v/+//7///8AAAAAAAAAAAAAAAAAAAAAAAD///3//v///wAAAQABAAEAAAAAAAEAAAABAAEAAAAAAAAAAAAAAAAAAQAAAAAA///+////AAAAAAEAAQABAAEAAAAAAAAAAAD//wAAAAAAAAIAAgABAAEAAQABAAAA/v/9//3///8AAAAAAAAAAAIAAQAAAP7/AAAAAAAA///+/wAAAwADAAEAAAAAAAAAAAD/////AAABAAAA///+/wAAAQABAP///v///wAAAAAAAP//AQACAAEAAAD+//////////////8AAAEAAQAAAAIAAgACAAAAAAAAAAAA///+////AAACAAAAAAD/////AAAAAAAAAAABAAEAAQABAAEAAgABAAAAAAAAAAAA/////wAAAAABAAAAAAAAAAEAAQAAAP////8AAAEAAQAAAAAAAAD//wAAAAAAAAAAAAD///7/AAABAAEAAQAAAAAA//8AAP///////wAAAAABAAAAAAAAAP///v/+////AAABAAEAAAABAAIAAQAAAAAAAAAAAP//AAAAAAEAAQABAAEAAQABAAIAAQAAAP////8AAAAAAQAAAAAAAAAAAAAAAAAAAAAAAAAAAAAAAAAAAAAAAAAAAAAAAAD//////////wAAAQACAAIAAAAAAAAAAAD///7//f/9/wAAAAAAAAAAAAAAAP///v//////AAAAAAAAAAABAAEAAgABAAAAAAAAAAAAAAAAAAAAAAAAAAAAAAD//wAAAAAAAP////8AAAAAAQAAAAAAAAAAAAEAAQABAAAA///+////AAACAAMAAgABAAAAAgAAAP///v/+////AAAAAAAAAAAAAAAAAAD/////AAAAAP//AAABAAMAAgAAAAAAAAABAAAA/v8AAAMABAAAAP////8BAAIAAAD9//3/AAACAAIAAAAAAAEAAQAAAP////8AAAAA///+////AAAAAAAAAAABAAEAAAD///7/////////AAAAAAEAAQAAAAAAAAAAAP///v///wAAAAAAAAAAAAABAAIAAQAAAAAAAAAAAAAAAAAAAAAAAAAAAAAAAAAAAAEAAQAAAAAAAAAAAAAAAAAAAAAAAAAAAAAAAAAAAAAA/////wAAAAABAAEAAQAAAAAAAAAAAAAAAQACAAIAAgABAAEAAAD///7//f///wAAAAAAAAAAAQABAAAAAAAAAAAAAAD///3//f8AAAIAAQAAAP7///8AAAEAAQAAAAAAAAAAAP//AAAAAAAAAAAAAAAAAAAAAP///v//////AAAAAAEAAgABAAAAAAAAAAAAAAAAAAAAAAAAAAAAAQABAAAA/v/+//7///8AAAEAAAAAAAAAAAAAAAAAAAAAAP7//v///wAAAQACAAEAAQABAAEAAQAAAAAAAAAAAAAAAAAAAAAAAAAAAAAAAAAAAP//AAAAAAAAAAAAAAEAAAAAAAAA///+//7///8AAAEAAQABAAEAAQAAAAAA/v/9//7///8AAP//AAAAAAIAAgAAAAAAAAAAAAAA/////wAAAgABAAEAAAAAAAEAAAD/////AAAAAP///f/+/wAAAgABAP////8AAAEAAAAAAAAAAAABAAAA/v///wAAAAAAAP////8AAAAAAQABAAIAAgAAAAAA//8AAAAAAAAAAAAAAQAAAAAAAAABAAEAAQAAAAAAAAAAAAEAAQABAAEAAAAAAAAAAAAAAAAA//8AAAAAAAABAAAAAAAAAAAAAAAAAAAA////////AAAAAAEAAQAAAAAA////////////////AAAAAAAAAQAAAAAA//////////8AAAAAAQABAAAAAAAAAAAA///+//7///8AAAEAAQAAAAAAAQABAAEAAAAAAAAAAAAAAAAAAAAAAAEAAQABAAEAAQAAAAAAAAAAAAAAAAAAAAAAAAAAAAAA/////////////wAAAAAAAAAAAAAAAAAAAAD///7//////wAAAAAAAAAAAAABAAAAAAAAAAAAAAAAAAAAAAAAAAAAAAAAAAAAAAAAAAAAAAAAAAAAAAAAAAEAAQACAAIAAQAAAAAAAAAAAAAAAAAAAAAAAAAAAAAAAAAAAAEAAQABAAAAAAAAAAAAAQAAAP7//v8AAAAAAAAAAAEAAQAAAAAAAQABAAAAAAD///7//v/+/////////wAAAAABAAAA//8AAAEAAQAAAP3//v8AAAAAAAAAAAAAAQAAAP////8AAAIAAQD///7/AAACAAIAAAD+/wAAAgACAAEAAAABAAIAAQD+//7/AAABAAEAAAD9//3/AAAAAAEAAgABAAEAAAAAAAAA//8AAAAAAAABAAEAAAAAAAAAAAAAAAAA//8AAAAAAAAAAAAAAQADAAEAAAD+//7/AAAAAAAAAAAAAAAAAAAAAAAAAAABAAEAAAD+//7///8AAAAAAAAAAAAA////////AAAAAAAAAAAAAAEAAQABAAAAAAAAAP///////wAAAAABAAIAAAAAAAEAAAD//////////wAAAAAAAAAAAQABAAAAAAAAAAEAAQAAAP//AAAAAAEAAgAAAAAAAAAAAAEAAQAAAAEAAAAAAAAA////////AAAAAAEAAAD/////AAAAAAAAAAAAAAAAAAAAAAAAAAAAAAAAAAAAAAAAAAAAAAEAAAAAAAAA///9//3//v8AAAAAAAAAAAAAAAAAAP///v//////AAAAAAAAAQACAAIAAwADAAAAAAAAAAAAAAAAAAAAAAAAAAAAAAAAAAAAAAAAAAAAAAABAAEAAQAAAAAAAAAAAAAAAAAAAAAAAAABAAIAAgACAAEAAAAAAP7//f/9//7/AAAAAAAAAAACAAIAAQAAAAAAAAAAAAAA/f/9/wAAAgACAAAAAAABAAIAAAD+////AAAAAP///f///wEAAwAAAP3//P///wAAAAAAAAAAAQACAAAA/v///wAAAQABAP////8AAAAAAQABAAAAAQAAAP//////////AAABAAEAAQAAAP////8AAAAA///+////AAACAAIAAQAAAAAAAAAAAP////8AAAEAAAD//wAAAQACAAEAAAD//wAAAAABAAAAAAAAAAAAAAABAAAAAAAAAP///v/+////AAAAAAAAAAAAAAAAAAAAAAAAAAD/////////////AAACAAEAAQABAAAA////////AAAAAAAAAQAAAAAAAAAAAAEAAQAAAAAA/////wAAAAAAAAEAAAAAAAEAAQAAAAAAAAAAAAAAAAAAAAAAAAAAAAEAAAAAAAAAAAAAAAAAAAAAAAAAAQAAAAAA///+////AAAAAAAAAAABAAEAAgABAAEAAAD+//3//f///wAAAAAAAAEAAQACAAEAAAD/////AAAAAAAAAQABAAAAAAAAAAEAAAAAAP////8AAAAAAAAAAAAAAAAAAAAA/////wAAAAAAAAAAAQABAAEAAQAAAP//AAAAAAAAAAAAAAEAAQACAAIAAQABAAAA///9//3///8AAAAAAAAAAAAAAQAAAP3//v8AAAIAAAD+//7/AAABAAIAAQAAAAEAAgABAAAAAAABAAEAAAD///7/AAACAAAA/v/+/wAAAQAAAP//AAABAAEAAAD+//7///8AAAAA/v/9////AAAAAAAAAAABAAEAAAD/////AAAAAAAAAQABAAAA/////wAAAAAAAP//AAABAAIAAQABAAAAAAABAAIAAQAAAAAAAAAAAAAAAAAAAAAAAAAAAAAAAAACAAEAAAAAAAAAAAABAAAA//////////8AAP//AAAAAAAA//8AAAAAAAABAAAAAAD///////8AAAAAAAABAAEAAAAAAAAAAAD//wAA/////wAAAAAAAAAAAAAAAAAAAAAAAAAAAAAAAAAAAAAAAAEAAQAAAAAAAAAAAAAAAQABAAAAAAAAAAAAAAAAAAAAAAAAAAAA//8AAAAAAAAAAAAAAAABAAEAAAAAAAAA//8AAAAAAAAAAAAAAAACAAIAAgAAAP///v/+////AAAAAAAAAAAAAAAAAAAAAAAAAAD///7///8AAAEAAgAAAAAAAAAAAAAAAAD//wAAAAAAAAAAAAAAAAAAAAAAAAAAAAAAAAAAAAAAAAAAAQAAAAAAAAAAAAAAAAAAAAAAAAABAAEAAQAAAAEAAgABAAAA/v/9/wAAAAAAAAAAAAABAAEAAAD/////AQABAAAA/v/+/wAAAQAAAAAAAAACAAEA///+////AAAAAP7//f/+/wEAAwAAAP////8BAAMAAgAAAAAAAQABAAAA/v8AAAAAAAAAAP7///8AAAAAAAABAAIAAQAAAAAA//8AAP////8AAAAAAQAAAP////8AAAAA///+////AAAAAAAAAQACAAMAAgABAAAA//8AAAAAAAAAAAAAAAABAAEAAAAAAAAAAQAAAAAAAAAAAAAAAAAAAAAAAAAAAP///v/+////AAAAAAEAAAAAAAAAAAAAAAAAAAAAAAAA/////wAAAAAAAAIAAwABAP///v/9//7/AAAAAAAAAAAAAAAAAQABAAEAAAAAAAAA//8AAAAAAQABAAAAAAAAAAIAAwACAAEA////////AAAAAAAAAAAAAAAA//////////8AAAAAAAABAAEAAAAAAAAA/////wAAAAAAAAAAAAAAAAEAAgACAAAAAAD///7//v///wAAAAAAAAAAAAAAAAAAAAAAAP///v//////AAABAAEAAQAAAAAAAAABAAEAAAAAAAAAAAAAAAAAAAAAAAAAAAAAAAAAAAAAAP//AAAAAAEAAQABAAAAAAD///7/AAAAAAAAAQAAAAAAAAABAAAAAAD9//7///8AAAAAAAAAAAAAAAAAAAAAAAABAAEAAAD+////AQADAAQAAQAAAAEAAAAAAP//AAABAAAA///+/wAAAAABAAAA/v/+/wAAAQABAAAAAAACAAEAAAD//wAAAAAAAP///f/+/wAAAQABAAIAAgACAAEAAAD//////////wAAAAAAAAAA/////wAAAAD///////8AAAAAAAAAAAAAAAAAAAAAAAAAAAAAAAAAAAAAAAD//wAAAAAAAAAAAAAAAAAAAAAAAAAAAQABAAAAAAAAAAAAAAAAAP//AAAAAAAAAQADAAIAAQACAAAAAAAAAP////8AAAEAAQAAAAAAAQABAAEAAAD+//7//v///wAAAAAAAAAAAAAAAAAAAAAAAP///////wAAAAAAAAAAAAAAAAAAAAAAAAAAAAAAAAAAAAAAAAAAAAD//////v///wAAAAAAAAAAAAAAAAEAAQABAAAAAAAAAAAAAAD/////AAABAAEAAgACAAEAAAD//////v/+////AAAAAAAAAAABAAEAAAAAAAAAAAAAAAAAAAABAAIAAgABAAEAAAAAAAAAAAAAAP///////wAAAAAAAAAAAAAAAP//AAAAAAAAAAABAAEAAAAAAAAAAAAAAP///////wAAAAAAAAAAAAAAAAEAAgABAP///f/8//3//v8AAAEAAgACAAEAAAD+////AAABAAAAAAABAAIAAwABAAAAAAACAAIAAAAAAAAAAAAAAP7//f///wEAAwABAAAA//8AAAAAAAAAAAEAAgAAAP///v8AAAAA/v/+//7/AAABAAEAAAAAAAEAAAAAAP////////////8AAAEAAQABAAAAAAAAAP///v///wAAAAAAAAAAAQABAAEAAAD//wAA//////////8AAAAAAQABAAAAAAAAAAEAAQAAAAAAAAAAAAIAAgABAAAAAAD///7//v///wAAAAAAAAEAAQABAAIAAQAAAAAA////////AAAAAAEAAQABAAIAAQAAAP///v/9//3///8AAAAAAAAAAAAAAAAAAAAAAAD///////8AAAAAAQACAAAAAAAAAAAAAAAAAAAAAAAAAAEAAQAAAAAA///+////AAAAAAAAAAAAAAAAAAABAAIAAgACAAEAAAAAAAAAAAD//wAAAAAAAAAAAAAAAAAA///+//3//f///wAAAAAAAAAAAAAAAAAAAAAAAAAAAAAAAAAAAAABAAEAAAAAAAEAAQABAAAAAAAAAAAAAAAAAAAAAAAAAP///v/+////AAAAAAEAAQAAAAAAAAAAAAAAAAD///////8AAAEAAAAAAAEAAQABAAAAAAD+//7///8AAAAAAAAAAAEAAAAAAP7//v8AAAEAAAD/////AAACAAEAAAAAAAAAAQAAAAAAAQACAAAA/v/9////AAABAAAA/v/9////AQABAAEAAQACAAEA///+////AAAAAAAA//8AAAAAAgACAAEAAAAAAAAA//8AAAAA/////wAAAAAAAAAA/////////////wAAAAAAAAEAAQACAAIAAgADAAEAAAD/////AAAAAAAAAAAAAAAAAAAAAAAAAAAAAAAAAQAAAAEAAQABAAEAAQAAAAAA///+//7//v8AAAAAAAAAAAAAAAAAAAAAAAAAAAAAAAD///7/AAAAAAAAAAAAAAAA///+////AAAAAAAAAAABAAEAAAAAAAAAAAAAAAAAAAAAAAAAAAAAAAEAAAAAAAEAAQAAAAAAAAAAAAAAAAAAAAAAAAAAAAAAAAAAAAAAAAAAAAAAAAAAAAAAAQACAAEAAAAAAAAAAAAAAAAAAAAAAAEAAQABAAAAAAAAAP////8AAAAAAAAAAAAAAAAAAAAAAAAAAAAAAAAAAAAAAAAAAAEAAgADAAIAAAAAAAAAAAAAAP///////wAAAAAAAP////8AAAAA///+////AAACAAIAAAD/////AAAAAAAA////////AAABAAAAAAAAAAEAAQAAAP///v/+/wAAAAAAAAEAAQACAAEAAAAAAAAAAAAAAP////8AAAIAAgACAAIAAgADAAEAAAAAAAAAAAD///3//v8AAAEAAAD///7/AAACAAMAAgABAAIAAgAAAP7//f/+//7//v/+//3//v8AAAEAAwADAAIAAAAAAAAAAAAAAP7//v///wAAAAAAAP//AAABAAAAAAAAAAEAAgABAAAA//8AAAAAAAD///7//v///wAAAAABAAEAAQAAAAAAAAAAAAEAAAD///////8BAAIAAwACAAEAAAAAAAAA//////////8AAAAAAAAAAAEAAgACAAEAAQAAAAAA//8AAAAAAAAAAAAAAAAAAAAA/////wAAAAABAAAAAAAAAAAA///+//7//v///wAAAAAAAAEAAQAAAAEAAgADAAMAAgAAAAAAAAAAAAAAAAD+//7///8AAAAAAAAAAAAAAAAAAAAAAAAAAAAAAQAAAAAA////////AAAAAAEAAQABAAEAAQAAAAAA/v/+//7///8AAAAAAQABAAEAAQAAAAAA////////AAAAAAAAAAABAAEAAgACAAEAAAABAAEAAQAAAP///v/+//////8AAP///////wAAAAABAAEAAQAAAAAAAAAAAAAAAAAAAP///////wAAAQABAAIAAQACAAEAAAD///7//v/+////AAAAAAIAAAAAAP////8AAAEAAAAAAAAAAQADAAIAAQAAAAEAAAAAAAAAAQABAAAA///+////AgADAAAA/v/9/wAAAAAAAAAAAAABAAAAAAD//wAAAAABAAAA///+////AAAAAAEAAQAAAAAAAAAAAAAA/////wAAAQACAAEAAAD///////8AAAAAAAAAAAEAAQAAAAEAAgACAAEAAAAAAAAAAAD//wAAAAAAAAAAAAAAAAAAAQACAAIAAQAAAAAAAAAAAAEAAAAAAP//////////AAAAAAAAAAAAAAAAAQAAAAAAAAD///7//v/+////AAABAAIAAQABAAAA///+//3//v8AAAAAAAABAAEAAAAAAAAAAAAAAAAAAAAAAAAAAAABAAEAAAAAAAAAAQABAAAAAQABAAEAAgABAAAAAAD///////////////8AAAAAAAAAAAAAAQABAAAAAAAAAP////////////8AAAAAAQACAAEAAAD///7//////wAAAAAAAAAAAAAAAAEAAQAAAAAA/v/+//7///8AAAIAAgACAAEAAAAAAAAAAQABAAEAAQAAAAAAAAAAAAAAAAAAAAAAAAAAAAEAAQAAAAAAAAD//wAAAAAAAAAA/////wAAAAABAAEAAQABAAAAAAD///7//f/+/wAAAAAAAAAAAQACAAEAAAAAAAAAAAAAAP///v8AAAIAAwACAAEAAAABAAAAAAAAAAEAAQAAAP7/AAABAAMAAQD///7///8AAAAAAAAAAAEAAQAAAP7//v8AAAAAAAD/////AAAAAAAAAAAAAAEAAAD///////////7//v///wAAAQAAAAAA/////wAAAAAAAAEAAQABAAAAAQABAAEAAQAAAAAAAAAAAP//AAAAAAEAAwACAAAAAAAAAAEAAQAAAP//AAAAAAAAAAAAAAAAAAAAAP///////////////wAAAAACAAIAAQAAAP///////wAAAAAAAAEAAAABAAAAAAAAAP7//v/+////AAAAAAAAAAAAAAAAAAAAAAAAAAAAAAAAAAAAAAAAAAABAAEAAAAAAAAAAAABAAEAAQAAAAAAAAAAAAAAAAAAAP////8AAAAAAAD+//7/AAABAAMAAgAAAAAAAAAAAP///////wAAAQABAAEAAQAAAAAAAAD///3//f///wAAAQABAAEAAAAAAAAAAAAAAP////8AAAAAAQABAAIAAgABAAEAAQABAAEAAAAAAAAAAAAAAP//////////AAAAAAAAAAAAAAAAAAAAAAAAAAD//wAAAAAAAP7//v///wAAAAAAAAAAAAAAAAAA//////7////+////AAABAAIAAgAAAP//AAAAAAEAAAD//wAAAgACAAEAAAABAAIAAgD///7///8BAAEA///+/wAAAwAEAAEA/////wEAAgACAAEAAQACAAIAAAD+////AAAAAAAA/v///wAAAAD//wAAAAAAAP3//P/+/wAAAAAAAAAAAAAAAAAAAAAAAAAA///+//7/AAAAAAAAAAAAAAAAAAABAAAA//8AAAAAAQAAAAAAAAAAAAAAAAAAAAAAAgADAAIAAAAAAAAAAAABAAAAAAAAAAAA///+//7/////////AAAAAAEAAgABAAAAAAAAAP////8AAAAAAQABAAAAAAABAAAA//////7///8AAAAAAAAAAAAAAAAAAAAAAQAAAAAAAAD/////AAAAAAAAAAAAAAEAAQAAAAAAAQAAAAAAAQAAAAAA//////7///8AAAAAAAAAAAAA/////wEAAgAAAAAAAAD//wAA//////////8AAAAAAAAAAAEAAAAAAP/////+////AAAAAAAAAAABAAEAAQAAAAAAAAAAAAAAAAAAAAEAAgABAAEAAQABAAEAAgACAAEAAAAAAAAAAAAAAAAAAAAAAAAAAAD//wAAAQABAAEAAQAAAAAA//////7//v///wAAAAAAAAAAAAAAAAAAAAAAAP7//v/9//7//////////////wAAAAAAAAAAAQAAAP////8BAAMAAwABAAAAAgAEAAIAAAD//wAAAgAAAAAAAAACAAMAAQAAAP7/AAABAAAAAAAAAAEAAQAAAP//AAABAAAA///+////AAABAAAAAAAAAAAAAAD/////////////AAAAAAAAAAD///7///8AAP///////wAAAAAAAAAAAAABAAEAAQABAAAAAAAAAAAA//8AAP///////wAAAAABAAEAAQAAAAAAAQAAAAAAAAAAAAAAAAAAAAAA//8AAAAA/////wAAAQACAAMAAAD///7///8AAAAAAAAAAAEAAgACAAEAAAD///7//v///wAAAQABAAAAAAAAAAAAAAABAAEAAAD///7//v///wAAAAAAAAAAAAABAAAAAAAAAAAAAQAAAAAAAAD///7//f/9////AAAAAAAAAAD/////AAABAAEAAQABAAAAAAD///7//v8AAAEAAgACAAIAAQABAAEAAAAAAP7///8AAAAAAQAAAAEAAQABAAEAAAD/////AAAAAAAAAgACAAIAAwACAAAAAAAAAAAAAAABAAAAAAAAAP7//v//////////////AAAAAAEAAQAAAP////////////////////8AAAAAAAAAAAAAAAAAAAAA/v/9//7//////wAA//8AAAIAAgAAAP////8BAAIAAAAAAAAAAQABAAAAAAAAAAEAAgAAAP7//////wAAAAAAAAAAAgACAAAA/////wAAAQAAAAAAAQACAAIAAAD//wAAAQAAAAAA//8AAAEAAQABAAAAAAABAAAA/////wAAAAAAAAAAAAABAAAA///+//7/AAAAAAAAAAAAAAAAAAAAAAAAAAAAAAAA/v8AAAAAAAAAAAAAAAAAAP///////wAAAgACAAAA///+/wAAAQABAAAAAAAAAAAAAAAAAAAAAAAAAP//AAACAAIAAQAAAAAA/////wAAAAAAAAAAAQABAAAAAQABAAAA///9//////8AAAAAAAAAAAAAAAAAAAAAAAAAAAAAAAD//wAAAQABAAEAAAAAAAEAAQABAAEAAAAAAAAAAAAAAAAAAAD/////AAAAAAAAAAAAAP////8AAAAAAgACAAAAAAAAAP//AAAAAP//AAAAAAEAAQABAAAAAAAAAP/////+//7/AAAAAAAAAAAAAAEAAQAAAAAA/////wAAAAAAAAIAAgADAAIAAQAAAAAAAAAAAAAAAAAAAAAAAAAAAAAA////////AAAAAAAAAAAAAAAAAAAAAAAAAAAAAAAAAAD/////AAABAAEAAAAAAAAAAAAAAP///v/+/wAAAAD//wAAAQABAAAA///+/wAAAQAAAP////8BAAMAAgABAAAAAgADAAEA/v/+/wAAAQABAP////8AAAIAAQD+//3//v8AAAEAAAAAAAEAAQAAAP7///8AAAEAAAD///7/AAAAAAEAAQABAAIAAQAAAP//AAAAAAAAAAAAAAEAAQAAAP////////7//v///wAAAAAAAAAAAQABAAEAAAAAAAAAAAAAAP//AAAAAAEAAAAAAAAAAAABAAIAAgAAAP//AAAAAAAAAAAAAP////////7//f///wAAAAAAAAEAAQABAAEAAAAAAP///v///wAAAAABAAEAAAAAAAEAAgAAAP//////////AAAAAAAAAAAAAAAAAAAAAAAAAQAAAP////8AAAEAAgACAAEAAAABAAEAAQABAAAAAAAAAAAAAAAAAP///////wAAAAAAAAAAAAD/////AAAAAAAAAAAAAAAA/////wAAAAAAAAAAAAABAAEAAQAAAAAA/v/9//7///8AAAAAAAAAAAAAAAAAAAAAAAD//wAAAAAAAAAAAQABAAEAAgACAAEAAAAAAAAAAAAAAAAAAQAAAAAAAAAAAAAAAAAAAAAAAAAAAAEAAQACAAEAAAAAAP//AAAAAAAAAAAAAAEAAQAAAAAAAAABAAEA///8//z//v8AAAAAAAAAAAEAAQAAAP7//v8AAAAAAAD//wAAAQACAAEAAAAAAAEAAAD/////AAACAAEA/////wAAAgACAAAA/v///wAAAQAAAAAAAgADAAAA/v/9////AAAAAAAA//8AAAEAAQABAAEAAQABAAAAAAAAAAAAAAD//wAAAAAAAAAA/////wAAAAD+//7///8AAAAAAAAAAAAAAgACAAAA///+/wAAAAAAAAAAAAAAAAAAAAAAAAAAAQABAAAAAAAAAAAAAQACAAIAAAD///7//v8AAAAAAAAAAAAAAAABAAEAAQAAAAAAAAAAAP//AAABAAEAAgACAAEAAAAAAAAA//////7//v///wAAAAAAAAAAAAAAAAAA/////wAAAAAAAAAAAAAAAAEAAQABAAEAAQAAAAEAAQAAAAAAAAAAAAAAAAD///7//v///wAA//////////8AAAAAAAAAAAEAAAAAAAAAAAAAAAAAAQABAAEAAAAAAAAAAAAAAAAA/v/9//7/AAAAAAAAAAAAAAAAAAAAAAAA/v//////AAABAAEAAgACAAMAAgABAAAAAAAAAAAAAAAAAAAAAQAAAAAA/////wAAAAAAAAAAAAABAAEAAQAAAAAAAAAAAAAAAAD//wAAAAAAAAEAAAAAAAAAAAAAAP///f/+/////////wAAAAAAAAAA/v///wAAAAAAAP////8BAAMAAwABAAAAAAABAAAA/////wAAAAD///7/AAABAAIAAAD/////AAACAAEAAAAAAAEAAQAAAP////8AAAEAAAD/////AAAAAAEAAQABAAIAAgAAAAAA/////wAAAAAAAAEAAAAAAAAAAAAAAP///v/+////AAAAAAAAAAACAAMAAgAAAAAAAAD//wAAAAAAAAAAAAAAAAAAAAAAAAEAAAAAAP////8AAAEAAQAAAAAA///+//7//v///////v///wEAAAAAAAAAAAAAAAAA/////wAAAQACAAIAAAAAAAAAAAD///////8AAAAAAQABAAAAAAAAAAAAAAAAAAAAAAAAAAAAAAABAAEAAQAAAAAAAQABAAEAAQAAAAAAAAAAAAAAAAAAAAAAAAAAAAAAAAAAAP///////wAAAAAAAAAAAAAAAAAA///+//7///8AAAAAAQAAAAAAAAAAAAAA///+//7///8AAAAAAAAAAAAAAAAAAAAA///+//////8AAAAAAAABAAEAAQABAAEAAAAAAAAAAAAAAAAAAAAAAAAAAAAAAAAAAAAAAAAAAAAAAAAAAAAAAAAAAAAAAP//AAAAAAAAAAAAAAAAAAABAAAAAQABAAAA///+////AAAAAAAAAAAAAAEAAAAAAP//AAACAAEAAAD//wAAAwAEAAIAAAAAAAEAAAAAAP//AAAAAP///f/+/wAAAwACAAAA/v///wAAAAAAAAAAAAABAAAA///+////AAAAAAAA//8AAAEAAQABAAEAAAAAAAAAAAD///7//v///wAAAAAAAAAAAAAAAAAAAAD/////AAAAAAAAAAABAAEAAQABAAAAAAABAAEAAAAAAAAAAAAAAAAAAAD//wAAAQABAAAA/////wAAAgACAAAAAAD//////////wAAAAD/////AAABAAIAAQABAAAAAAAAAAAAAAAAAAAAAQABAAEAAQABAAAA/v/+//7///8AAAAAAAAAAAAAAAAAAAAAAAAAAP////8AAAAAAAAAAAAAAAAAAAAAAQABAAEAAQAAAAAAAAAAAAAAAAAAAP////8AAP////8AAAAAAAAAAAAAAQABAAEAAAD///7///8AAAAAAAAAAAAAAQACAAIAAAD///7//v/+//////8AAAAAAAAAAAAAAAAAAP///v////7///8AAAEAAgACAAEAAAAAAAAAAAAAAAEAAAAAAAAAAAAAAAAAAAAAAAAAAAAAAAAAAAABAAEAAQAAAP////8AAAAAAAAAAAAAAQACAAIAAQAAAAEAAQAAAP///v/+////AAAAAAEAAQAAAAAA//8AAAEAAQAAAP3//f8AAAMAAwAAAP//AAABAAAAAAAAAAAAAAAAAP7///8AAAIAAAD+//z/AAABAAEAAAAAAAAAAQAAAP//AAAAAAAA///+//7/AAACAAEAAQABAAEAAAD+//3///8AAAAAAQAAAAEAAgAAAP////8AAAAA////////AAAAAAEAAQABAAIAAgAAAAAAAAAAAAAAAAABAAAAAAAAAP//AAABAAIAAQAAAP7///8AAAEAAQAAAAAA//////7///////7///8AAAEAAQABAAEAAAAAAP//AAD/////AAAAAAIAAAAAAAEAAAD///7//f/9/wAAAQABAAAAAAD/////AAAAAAAAAAAAAP//AAAAAAAAAQABAAAAAAABAAEAAQABAAAAAAABAAIAAgAAAAAA///+////AAAAAAAA/////wAAAQABAAAAAAAAAAAA///+////AAAAAAAAAAAAAAIAAgABAAEAAAD///7//v8AAAAAAAACAAAAAAAAAAAA////////AAAAAP//AAAAAAAAAQAAAAAAAAABAAEAAQAAAAAA/////wAAAAAAAAAAAAAAAAAAAAABAAIAAgABAAAAAAD///7/AAAAAP//AAAAAAIAAgAAAAEAAgABAAAA///9//7/////////AAABAAIAAAD/////AAACAAEAAAD+/wAAAgACAAAAAAAAAAIAAQAAAP//AAABAAAA/f/9////AgACAAAA/f///wEAAQAAAAAAAAABAAAA/v/+/wAAAQAAAP////8AAAEAAQAAAAEAAQABAAAA/////wAAAAAAAAAAAQABAAAA//8AAAAAAAAAAAAAAAAAAAAAAAABAAIAAgABAP////8AAAAAAAD/////AAAAAAAAAAAAAAAAAQABAAAAAAAAAAAAAAAAAAAAAAAAAAAA/v/+////AAD//wAAAAABAAAAAAAAAP//AAD///////8AAAAAAQABAAEAAAABAAAA//////7///8AAAAAAAAAAAAAAAABAAEAAAD+//7///8AAAAAAQABAAEAAQABAAEAAQAAAAAAAAAAAAAAAQAAAAAAAAAAAAAAAAAAAAAAAAAAAAAAAAAAAAAAAAAAAAAAAAAAAAAAAAD/////AAAAAAEAAAAAAAAAAAAAAAAA/v/9////AAABAAEAAQAAAAAAAAAAAP///////wAAAAAAAAEAAQACAAEAAAAAAP///////wAAAgACAAAAAAD+////AAAAAAAAAAAAAAIAAQAAAP//AAAAAAAA/v///wAAAAABAAAAAAABAAIAAQABAAEAAAAAAP///v//////AAAAAAAAAAAAAAEAAAAAAAAAAQAAAP7//v8AAAAAAAAAAAAAAQACAAAA/////wAAAAAAAP//AAACAAIAAAD+////AAABAAEAAAAAAAIAAQAAAP3//v8AAAEAAAD+////AAAAAAAAAgACAAEA///9////AQABAAAAAAAAAAEAAAD///3///8AAAAAAAAAAAAAAQAAAAAAAAABAAEAAQD//wAAAQAAAAAA//8AAAAAAQAAAAEAAQACAAEAAAD//wAAAAAAAAEAAQAAAAAAAQD///7//f/+////AAABAAEAAgABAAAAAAD//wAAAAAAAAAA//8AAAEAAAAAAAAAAAD+//7//////wAAAAD//wAAAAAAAAAAAAAAAAAAAAAAAP//AAAAAAAAAAAAAAAAAAAAAAAAAAAAAAAAAQABAAAAAAD///////8AAP////8AAAAAAQABAAAAAAABAAEAAAAAAAAA//8AAP//AAAAAAAAAQABAAEAAQABAAAAAAAAAP//AAAAAAAAAQABAAIAAQAAAAAA///+//7//v///wAAAAAAAAEAAAABAAEAAAAAAP////8AAAAAAAABAAAAAAAAAAAA/////wAAAAAAAAAAAAAAAAAAAAAAAAAAAQAAAAAAAAAAAAEAAQAAAAAAAQABAAAA/////wAAAAAAAAAA//8AAAEAAgABAAEAAQAAAP///v/9////AAABAAEAAQABAAEA////////AAABAAAA/////wAAAQAAAP///v///wAA/////wAAAQACAAAA//8AAAAAAAAAAAAA//8AAAAAAAAAAAEAAgAAAP///v/+////AAAAAAEAAgABAAEAAAD//wAAAAD9////AAAAAAEAAgADAAMAAwABAAAA///+///////+/wAAAAACAAIAAAD//wAAAQAAAAAAAAD//wAAAAAAAAAAAAAAAP/////9////AAAAAAAAAAD//wAAAQABAAEAAAAAAAAAAAAAAAAAAAAAAAAAAAABAAAAAAAAAP////8AAAEAAAAAAAAAAAAAAAAAAAAAAAAAAAAAAAAAAAAAAAEAAAAAAAAAAAABAAAAAAAAAAAAAAAAAAAAAAD/////AAAAAAAAAAAAAAAAAAABAAEAAAAAAAAA//8AAAAAAAAAAAAAAQACAAAAAgACAAAAAAD//wAAAAAAAP///////wAAAQABAAEAAAAAAP///v/+////AAABAAAAAAABAAEAAAD///////8AAAAAAAAAAAAAAAAAAAAAAAAAAAAAAAAAAAAAAAAAAAAAAAAAAAAAAAAAAAAAAAAAAAAAAAAAAAAA//8AAAAAAAD+//z//f8AAAAAAAAAAAAAAAABAAAAAAAAAAAAAAAAAP////8AAAIAAgAAAAAAAQACAAEA///+//7/AAAAAP7/AAAAAAAAAAD///7///8AAAEAAAAAAAAAAAAAAP//AAAAAAAAAAD///////8AAAAAAAABAAAAAAAAAAAAAAAAAAAAAAAAAAAAAAAAAAAA///+/////////wAA//8AAAAAAgACAAEAAAD/////AAD/////AAABAAEAAAAAAAAAAAAAAAAA/////wAAAAAAAAAAAAD//wAA/////////v///wAAAQAAAAAAAAAAAAAAAAD///7///8AAAAAAAAAAAEAAAAAAAAAAAAAAAAAAAAAAAAAAAAAAAAAAAAAAAAAAAAAAAEAAQAAAAAA/////wEAAQABAAAAAAAAAAEAAAAAAAAAAAACAAAAAAAAAAAAAAAAAAAA/////wAAAAAAAP//AAABAAEAAQABAAAA//8AAP//AAAAAAAAAAAAAAAAAAAAAP//AAD///7/AAD//wAAAAAAAAAAAAAAAAAAAAD//wAA//8AAAAAAAAAAAAAAAAAAAAAAAABAAAA/////wAAAAD/////AAAAAAAAAAAAAAAAAAABAAIAAAAAAAAAAAAAAAAA/v///wAAAAABAAEAAQAAAAAAAQABAAAA///+//7/AAD//wAAAAAAAAAAAAAAAAAAAAAAAAAAAAAAAAEAAQABAAEAAAAAAAAAAAAAAAAAAAAAAP///v///wAAAgABAAAA//8AAAEAAQAAAAAAAAAAAP///v/+/wAAAAD///7///8AAAAAAQAAAAAAAQABAAAA///+//3//v///wAAAQABAAAA//8AAAAA///+////AAD//wAAAAAAAAEAAQACAAAA//8AAAAAAAAAAAAAAQACAAIAAAAAAAAAAAABAAAAAAAAAAAAAAAAAAAAAAD//wAA///+//7/AAAAAAEAAAAAAP////8AAAAAAAAAAAAA//8AAAEAAgABAAEAAQAAAAAA///+/wAAAAABAAEAAAAAAAAAAAAAAAAAAAAAAAAAAAAAAAAAAQABAAEAAAABAAEAAAAAAAAAAAAAAAAAAAAAAAAAAAD///3//v///////v/+//////8AAAAAAAAAAAAAAAD///////8AAAAAAQACAAEAAQAAAAAAAAD///7//v8AAP//AAD//wAAAQAAAAAA/////wAAAAAAAP7///8AAAEAAgACAAIAAQABAAAAAAAAAAEAAAAAAAAAAQAAAAAA/////wAAAAAAAAAA//8AAAEAAQAAAAEAAAAAAAEAAAAAAAAAAAABAAAAAAAAAAAAAAAAAP7//v8AAAAAAAAAAAAAAAAAAAAA//8AAAAA//////7/AAABAAAAAAAAAAAAAAAAAP////8AAAAA///9//7///8AAAAA///+/wAAAAAAAAAAAAABAAEAAAD/////AAAAAAAAAAAAAAAA/////wAAAAAAAP///v/+/wAAAAD/////AAAAAAAAAAAAAAAAAAAAAP7/AAAAAAEAAQABAAAAAAAAAAAAAAAAAAAAAAAAAAAAAQABAAEAAQAAAAAAAAABAAEAAAAAAAAAAAAAAAAAAAAAAAAA//////////////7/AAAAAAAAAAAAAAAAAAAAAAAA/////wAAAAAAAAAAAQAAAAAAAAD+//7//v///wAAAAAAAAAA//8AAAAAAAAAAP///v///wAAAAAAAAEAAQAAAAAAAAD//wAAAAAAAAAAAAAAAAAAAAD//wAA///+/////////wAAAAAAAP//AAABAAEAAQAAAAAAAAAAAP//AAAAAAAAAQAAAAAAAAAAAAAA///+//3//f8AAAAAAQABAAAAAAABAAEAAAD///7//////wAAAAAAAAIAAwABAAAAAQABAAEAAAD///7///8AAAAAAAAAAAAAAAAAAAAAAAABAAEAAAABAAAAAAAAAAAA//8AAP//AAAAAAAAAQABAAEAAAAAAP///v/+//3//v////////8AAAAAAAAAAP//AAAAAAAA/v/+/wAAAgABAAAAAAAAAAIAAAD/////AAABAAAA/v/+/wAAAgACAP///////wAAAAAAAP//AAAAAP////8AAAEAAQAAAP///v8AAAIAAgAAAAAAAAAAAAAAAAD/////AAAAAAAAAAAAAAAAAAAAAAAA//8AAAAAAAABAAAAAAAAAAAAAQAAAP/////+/wAAAAAAAAAAAAAAAAAAAAAAAAAAAQAAAAAA/v///wEAAQAAAAAAAAD/////////////AAAAAP///////wAAAAAAAAAAAAD///7/AAAAAAAAAAAAAAAAAAAAAAAAAAAAAAAAAAAAAP///v8AAAAAAAAAAAAAAAAAAAAAAAAAAAAAAAAAAAAAAAABAAAAAQABAAAAAAAAAAAAAAAAAAAAAAAAAP//AAAAAAAAAAAAAAAA//8AAAAAAAAAAAAA////////AAD/////AAAAAAAAAAABAAEAAAD+//3//v///wAAAAAAAAAAAgACAAEAAAD/////AAAAAP//AAACAAEAAQAAAAAAAAAAAP///v/+////AAABAAAAAAAAAAAAAAD+//7///8BAAEAAAAAAAAAAQAAAAAAAAAAAAAAAAAAAAAAAQABAAEAAQABAAEAAAD+//7//v8AAAAAAAAAAAAAAAAAAP////8AAAAAAAAAAP//AAACAAEAAAAAAAEAAQAAAAAA//8BAAQAAQAAAP//AAAAAAAA/////wAAAAAAAP//AAAAAAEAAAD/////AAD//wAAAAAAAAEAAQACAAEAAAABAAAAAAAAAAAA/////wAAAAAAAAAAAQABAAAA///+//7//////wAAAAAAAAAAAAACAAIAAAD//wAAAAAAAAAAAAAAAAAAAAAAAAAAAQABAAAAAAAAAAAAAAAAAAAAAAAAAAAA///9//7///8AAAAAAAABAAEAAgABAAAA////////AAD//wAAAAABAAAAAAACAAIAAAD///3//v8AAAAAAAAAAAEAAQAAAP//AAAAAAAAAAD//wAAAAACAAIAAAD/////AAAAAAAAAAABAAAAAAABAAEAAAAAAAAAAAD/////AAAAAAAA//8AAAAAAAABAAIAAAD///7///8AAP//AAAAAAAAAQAAAAIAAQAAAAAA/v/9//7/AAAAAAEAAQACAAEAAAAAAAAA//////////8AAAEAAgACAAAAAAAAAAAAAAD//wAA/////wAAAAAAAAEAAAD+//////8AAAAAAAABAAEAAAAAAAEAAAAAAAAAAAAAAP//AAAAAAEAAQAAAAAAAAAAAP7//f/+////AAAAAAAAAQABAAAAAAD+////AAAAAAAA//8AAAIAAgABAAAAAAAAAAAAAAD//wAAAAAAAAAA//8AAAAAAAAAAP7///8AAAEAAQAAAAAAAAAAAP////8AAAEAAAABAAAAAAAAAAAAAAABAAAAAAAAAAAAAAAAAAAAAAAAAAAAAAABAAAAAAAAAAAA/////wAAAAAAAAAA//8AAAEAAgABAAAAAAAAAAAAAAAAAP////////////8AAAEAAgABAAAA//8AAAAAAQACAAAAAAAAAAAAAAAAAP//AAAAAAAAAQAAAAAAAAD///7//f/+//7/AAAAAAEAAAAAAAEAAAAAAP///v//////AAAAAAAAAQAAAAAAAAAAAP/////9//7//////wAAAQACAAAAAAAAAAAAAAAAAP//AAABAAEAAQAAAAAAAAAAAAAA//8AAAAAAAAAAP//AAAAAAEAAQAAAAEAAAAAAAAA/////wAAAAAAAAAAAAABAAEAAAD///7//v8AAAAAAAAAAAAAAAAAAAIAAQAAAP///////wAAAAAAAAAAAAADAAMAAQAAAAAA////////AAAAAAAAAAAAAAAAAAAAAAAAAAAAAAAAAAAAAAAAAAAAAP//AAAAAAAA//////////8BAAIAAQABAAEAAAD+//3//f//////AAAAAAEAAgAAAAAAAAAAAAAAAAAAAP////8AAAAAAAAAAAAAAAAAAAAAAAABAAAAAAAAAAAAAAAAAAAA//8AAAAAAAAAAAEAAgABAAAAAAAAAAAA//////////8AAAAAAAAAAAEAAQABAAAAAAAAAAAAAAAAAAAAAQACAAEAAAAAAAAAAAAAAP//AAAAAAEAAAAAAAEAAAABAAAAAAAAAP////8AAAAAAQAAAAAAAAAAAAAA//8AAAAAAAAAAAAAAAABAAIAAAAAAP7//v///wAAAAAAAAEAAQABAAAA//8AAP////8AAP//AAAAAAEAAAAAAAAAAQAAAAEA///9//////8AAAEAAQAAAAAAAAAAAAEAAQABAAAAAAAAAAAAAAAAAAAAAAAAAAAAAAAAAAAAAAAAAAEAAQAAAAAAAAAAAAAAAAAAAAAAAAAAAAAAAAAAAAAAAAAAAAAAAQAAAP7///////7///8AAAAAAAABAAEAAAAAAP///v/+//7/AAD//wAAAQACAAIAAAAAAP///////wAAAAABAAEAAQAAAAAAAAAAAAAAAAAAAAAAAAAAAAAAAAAAAAAA//////////8AAAAAAAAAAAAAAQAAAAAA/////wAAAAAAAP////8AAAAAAQAAAAAAAAAAAAAA////////AAAAAAAAAQAAAAAAAAD+//7/AAAAAAAAAAAAAAAAAQAAAAAAAQABAAEAAAAAAP//AAD/////AAAAAAAAAAAAAP//AAAAAAAAAAAAAAAAAAAAAAAAAAAAAAAAAAD///7/AAAAAAAAAAAAAAAAAAAAAAAAAAAAAAAA//8AAAEAAQABAAAAAAAAAAAAAAD//wAAAAABAAAAAAAAAAEAAAD/////AAABAP///////wAAAQAAAAAAAAABAAEAAAD+//7/AAAAAAEAAAAAAAAAAAAAAP////8AAAAAAAAAAAAAAAACAAAAAAABAAEAAAD+//7///8AAAAAAAAAAAEAAgAAAP//AAAAAP//AAAAAAAAAAD//wAAAAAAAAAA//8AAAAAAAAAAAAAAQABAAAAAAAAAAAAAAAAAAAAAAAAAAAAAAAAAP/////+////AAAAAAAA////////AAABAAEAAAAAAP7///////////8AAAEAAQAAAAAAAAAAAAAAAAD///3///8AAAAAAAAAAAEAAQACAAEAAAD/////AAAAAAAAAgABAAEAAgACAAAAAAAAAAAAAQABAAAAAAAAAP//AAAAAAAAAAAAAAAA//8AAAAAAAACAAIAAQAAAAAAAAD///7///8AAAAAAAAAAAAAAAAAAAEAAAD//////v8AAP////8AAAAAAQD//////v8AAAAAAAAAAAAAAAADAAMAAgAAAAAAAQAAAP////8AAAAAAAD+////AAACAAIAAAD+//7///8AAAAAAAAAAAEAAQAAAP///v8AAAAA///+/wAAAAAAAAEAAAABAAEAAAAAAP////8AAAAAAAAAAAAAAAAAAAAAAAD/////AAAAAAAAAAAAAAEAAQABAAAAAAAAAAAAAAAAAAAAAAABAAEAAQABAAAAAAABAAAAAAAAAAAAAAAAAAAAAAAAAAAA///+//7////+/wAAAQAAAAAAAAAAAAAA/v/9//3//v/+/wAAAgABAAIAAQABAAAA///+//7//v///wAAAAABAAEAAAABAAEAAAAAAAAAAAD/////AAABAAIAAAAAAAAAAQAAAAAA///+//////8AAAAAAAAAAAAAAAAAAAAA//8AAAEAAAAAAAAAAAABAAAA///+////AAD//wAAAAAAAAEAAQAAAAAAAAAAAP///f/9////AAAAAAAAAAAAAAEAAQAAAAAAAAAAAAAAAAAAAAEAAgACAAMAAwACAAIAAgAAAAAA//////7//////////v/9////AAAAAAAAAAD//wAAAAAAAAAAAAAAAAAA//8AAAAAAQABAAIAAAAAAAEAAQAAAP////8AAAAAAAD///7//v8AAAAAAAAAAAEAAQABAAAA//8AAAEAAAAAAAAAAAAAAP///////wAAAAAAAAAA//8AAAEAAAD/////AAAAAAAAAAAAAAIAAQAAAP////8AAP///////wAAAAAAAAAAAQACAAIAAQAAAP//AAD///////8AAAEAAQACAAEAAAABAAAAAAABAAEAAAAAAAAAAAAAAAAAAAAAAAAA////////AAAAAAEAAQAAAAAAAAAAAAEAAAD+////AAAAAAEAAAAAAP////8AAAAAAAD/////AAAAAAEAAQACAAIAAAD///7/AAAAAAAA/////wAAAQACAAEAAAAAAAAAAAD/////AAAAAAAAAAAAAAAAAAAAAAAAAAAAAAAAAAAAAAAAAAAAAAAAAAABAAAAAAAAAAEAAQABAAEAAQAAAAAAAAAAAP////8AAAAAAAAAAAAAAAABAAAAAAAAAP//AAAAAAAAAAAAAAAAAQAAAAAAAAABAAAAAAD+//3//v8AAAEAAAAAAAAAAAABAAEAAAAAAAAAAAAAAP//AAAAAAAAAAAAAAAAAAABAAIAAQAAAAAAAAD+//7//v8AAAIAAAD/////AAAAAAAAAAAAAAAA////////AAAAAAAAAAACAAEAAQACAAEAAgABAAAA/v/9//7/AAAAAP//AAABAAAAAAD//wAAAAABAAAA////////AAABAAAAAAAAAAAAAgABAAAAAAABAAAA/////wAAAAABAAAA//8AAAEAAgAAAP//AAABAAEA///+////AAABAAAA/v/+/wAAAAABAAEAAAAAAP///////wAAAAAAAP//AAAAAAAAAAAAAAAAAAAAAAAA////////AAAAAAAAAQABAAAAAQABAAAAAAAAAP////8AAAEAAAAAAAAAAAAAAAAAAQAAAAAAAAAAAAAAAAAAAAAA//////7//v///wAAAAAAAAEAAQABAAEAAAD+////AAAAAAAAAAABAAAAAAAAAAAA///+//7///8AAAEAAAABAAAAAAAAAP////8AAAAAAAAAAAAAAAAAAAAAAAAAAAAAAAAAAAAAAAABAAMAAQABAAAAAAAAAAAAAAAAAAAAAAAAAP7///8AAAAAAAACAAEAAAAAAAAA/////wAAAAABAAEAAAAAAAAAAAAAAAAA////////AAAAAP////8AAAAAAAAAAAAAAAAAAP//AAAAAAAAAQABAAIAAgABAAAAAAAAAAAAAQABAAAAAAAAAAAAAAD///7///8AAAAAAAABAAIAAAD+//7///8AAAAAAAAAAAAAAQABAAEAAQABAAAAAAAAAP//////////AAAAAAAAAAABAAEAAAD+//7/AAAAAAAAAAAAAAEAAgABAAAAAQABAAEAAQAAAAAAAAD+//7///8AAAEAAAAAAP//AAAAAAAAAAAAAAAAAAD+//7///8AAAAA///+//3//v8AAAAAAQABAAEAAQAAAAAAAAD///7///8AAAAAAAAAAAAAAAAAAAAAAAAAAAAAAAAAAAEAAAAAAAAAAAAAAAAAAAAAAAAAAAAAAAAAAAAAAAAA//8AAAAAAQABAAEAAAAAAAAAAAABAAAA/////////v///////v8AAAAAAAAAAAAAAAAAAP/////+/wAAAAABAAEAAAABAAAAAAD////////+////AAAAAAAAAAAAAAAAAAABAAAA/////wAAAAAAAAAAAAAAAAEAAQABAAAAAAAAAP///v8AAAAAAAAAAAAAAAAAAAAAAQAAAAAAAAAAAAAAAAAAAAAA//8AAAAAAAAAAAAAAAAAAAAAAgACAAEAAAAAAP7//v/9//7//v///wAAAAABAAEAAQAAAAAA///+//7/AAABAAEAAQACAAEAAAAAAAAAAAAAAAAAAAAAAAAAAAAAAAAAAAAAAAAAAAAAAP//AAAAAAAAAAAAAAAAAAAAAAAAAAD//wAAAAABAAEAAAAAAAAAAQABAAEAAAD//wAA//////////8AAAAAAAD+//7///8AAAAAAAD/////AAAAAAAA//8AAAEAAAAAAAAAAQACAAEAAAAAAAAAAAAAAP///v8AAAIAAgABAAEAAQACAAAAAAD//wAAAAAAAAAAAAAAAAAAAQABAAAAAAAAAP///v/+/wAAAAAAAAEAAQABAAAAAQAAAAAA/v/+////AAAAAAAAAAAAAAAAAAAAAP///v///wAAAAABAAEAAAAAAAAAAAAAAAEAAgACAAAAAAAAAAEAAgABAAAAAAAAAAAAAAAAAAAAAAD///7///8AAAEAAQAAAAAA///+//7//v8AAAAAAAAAAP7///8AAAAA///+//7//v///wAAAAAAAAAAAAAAAAAAAAAAAAAAAAAAAAEAAAABAAIAAQAAAAEAAAAAAAAAAAAAAAAAAQACAAAAAAAAAAAAAAD/////AAAAAP////8AAAAAAQABAAAAAAAAAAAA/////wAAAAAAAAAAAAABAAIAAAAAAAAA//////////8AAAAAAAAAAAAAAQAAAAAA//8AAAEAAAAAAAAAAQABAAEAAQAAAAAAAAAAAP////8AAAEAAAAAAAAAAAD///////8AAAEAAQABAAAAAAAAAAEAAAAAAAAAAAAAAAAAAQAAAAAAAAD//wAAAAABAAEA///+//7///8AAAAAAQABAAAA/v///wAAAAAAAAAA//8AAAEAAQAAAAAAAAAAAAAA/////wEAAQAAAP7///8AAAEAAQD///////8AAAAAAAABAAIAAQD///7///8AAAAAAAD///3/AAABAAEAAQAAAAAAAAAAAAAAAAAAAAAAAAAAAAEAAQABAAAAAAD+////AAAAAAAA//8AAAAAAAABAAEAAQAAAP////8AAAAAAAAAAAEAAAAAAAAAAAACAAIAAAAAAP////8AAAEAAQAAAAAA//8AAP////////////8AAAAAAgACAAAAAAAAAP///////wAAAAAAAAAAAQABAAEAAAAAAAAA///+////AAABAAEAAAABAAAAAAAAAAAA//8AAAAAAAAAAAAAAAAAAAEAAQABAAEAAAAAAAAAAAAAAAAAAAAAAAAAAAAAAAAAAAD//////v8AAAAAAAAAAAAAAQABAAEAAAD+//3//f/+/wAAAQACAAEAAAD/////AAD/////AAAAAP//AAAAAP//AQACAAAAAAD//wAAAQAAAAAAAAAAAAEAAQABAAEAAgABAAEAAAD//wAA/////wAA//8AAAAAAAAAAAAA////////AAAAAAAAAAAAAAAAAAAAAAAAAAAAAAAAAAABAAAAAAABAAAA/////////////wAAAAAAAAEAAAD//wAAAAAAAAAA//8AAAAAAAABAAEAAAABAAIAAAD+////AAAAAAAA/v/9//7/AAAAAP///v8AAAEAAgAAAAAAAQACAAEAAAAAAAAA////////AAAAAAEAAQAAAAAAAAABAAAAAAAAAAAAAAAAAAAAAAAAAAAAAAD//////////wAAAQABAAAA//8AAAAAAAAAAAAAAAAAAAAAAAD//wAAAQABAAEAAAAAAAAAAAAAAAEAAAAAAAAAAAAAAAEAAAAAAP/////+//7//////wAAAQACAAAAAQAAAP7/////////AAAAAAAAAAACAAEAAAABAAAA///+//7/AAAAAAAAAQAAAAAAAAAAAAAAAAAAAAAAAAD//wAAAAAAAAAAAAD//wAAAAAAAAAAAAAAAAAAAAAAAAAA/////wAAAAD/////AAAAAAAAAQAAAAAAAQABAAAA/////wAAAAAAAAAA//8AAAAAAQABAAAAAAAAAAAA/////wAAAAAAAAEAAQAAAAAA/////////v///wAAAAAAAAAAAAAAAAAAAAABAAEAAAAAAAAAAAAAAAAAAAAAAAAAAAAAAAAAAAAAAAAA//8AAAAAAAAAAAAA//8AAAAA//8AAAAAAQABAAAAAAAAAAAAAQAAAP////8AAP//AAD//wAAAQABAAAA//8AAAAAAAD///3///8AAAEAAgAAAAAAAgACAAAAAAD//wAAAAD+//z//v8AAAEAAAD//wAAAgACAAEA//8AAAEAAQAAAP////8AAAAAAAD+/wAAAAAAAAAAAAAAAAAAAAAAAP///////wAAAAAAAAEAAAAAAAAAAAD/////AAAAAP//AAAAAAAAAQADAAEAAAD/////AAAAAAAAAAAAAAAAAAAAAP7/AAACAAIAAQAAAAAAAAAAAAAAAAAAAAAA///+//7///8AAAAAAAD/////AAAAAAAAAAAAAAEAAAD/////AAABAAAAAAAAAAAAAAD///7//v/+/wAAAQABAAAAAAAAAAAAAAAAAAAAAAAAAP/////+////AAABAAAAAAAAAAAAAgABAAAAAQACAAIAAQAAAAAAAAAAAP///v8AAAAAAAAAAAAAAAAAAAAAAAD/////AAD///7///8BAAIAAQAAAAAAAAAAAAAAAAD///7//v//////AAAAAAAAAAD///////////////8AAAAAAQACAAIAAgACAAEAAQABAAAAAAAAAAAAAAAAAAAAAAAAAAAAAAAAAAAAAAABAAEAAQABAAEAAAAAAAAAAAAAAP//AAAAAAAAAAAAAAEAAwABAAAAAAD////////+//7/AAAAAP///v///wAAAAABAAAA//8AAAAAAAAAAAAAAAABAAAA/////wAAAAAAAAAA//8AAAAAAAD/////AAAAAAAAAAAAAAAAAAAAAP///v/+////AQAAAAAAAAAAAAAAAAAAAAEAAgAAAAAAAAD//wAAAAAAAAAAAQAAAP////8AAAAA///+/wAAAAABAAEAAAABAAIAAgABAAIAAQAAAAAAAAABAAAAAAABAAAA///+/wAAAAAAAAAAAAAAAAAA///+//7///////7//f/+/wAAAQACAAEAAAABAAAAAAAAAP//AAAAAAAAAAAAAAEAAQABAAAAAAD//////v/+//////8AAAEAAAABAAAAAAAAAAEAAQAAAAAAAQAAAAAAAAAAAAEAAQABAAEAAQABAAAAAAAAAAAAAAD///7//v8AAP///v/+////AAAAAAAAAAAAAAEAAAAAAAAAAQAAAAAA//8AAAAAAQABAAEAAQABAAEAAAAAAP7//v///wAAAAAAAAEAAgACAAEAAQAAAAAA/////wAAAAAAAAAAAAAAAAAAAAAAAAAAAAAAAAEAAQABAAAAAAD+//7//////wAAAAAAAAEAAQABAAEAAAAAAAAA//8AAAAAAAAAAAAAAAABAAEAAAAAAAAAAAD///////////////8AAAAAAAABAAAAAAAAAAAAAAAAAP////8AAAAA//8AAAAAAgABAAAAAAAAAAAAAAAAAAAAAAABAAAAAAD+////AAABAAAAAAAAAAEAAQAAAP//AAAAAAAA///+////AAABAAAAAAABAAEAAAAAAAAA//8AAP//AAAAAAIAAQAAAAAAAAAAAAAAAAD//wAAAAAAAAAAAAAAAAIAAAAAAAAAAAAAAAAAAAAAAAEAAQAAAAAAAAABAAEAAAD+/////v8AAAAAAAAAAP//AAAAAAAAAAAAAAAA//8AAAIAAQAAAAAAAAAAAP///v/+/wAAAQAAAAEAAAAAAAEAAAAAAP7/////////AAD//wAAAAAAAAAAAAD//wAAAAAAAP//AAAAAAAAAAAAAAAAAQACAAIAAgACAAIAAwABAAAAAAAAAP7//f/8//7/AAAAAAAAAQACAAIAAgABAAAA/////wAA/////wAAAAAAAAEAAgACAAIAAAD///7//v/9//7//f/+/wAAAQAAAAEAAgACAAIAAQAAAP7//v//////AAAAAAAAAAABAAIAAAAAAAEAAQAAAAAAAAD///7//f///wAAAAAAAAAAAQACAAEAAQAAAAEAAAD+//////////7///8AAAEAAgAAAAAAAAABAAAA////////AAAAAAAAAAAAAAEAAAD/////AAAAAP////8AAAEAAQAAAAAAAAABAAEAAAAAAAAAAAAAAP///v/+/wAAAQAAAAAA//8AAAAAAAAAAAEAAAAAAP//AAAAAAAAAAAAAAAAAAAAAAAAAAABAAEAAQD//////////wAAAAAAAAEAAgABAAAA//8AAAAAAAD/////AAAAAAEAAAAAAAAAAAAAAAAA//8AAAAAAQABAAAAAQABAAIAAQAAAAAAAQAAAP///v/+/wAAAAAAAAEAAAAAAAAA/v/+////AAAAAAAAAAAAAAAAAAAAAAAAAAAAAAAAAAAAAAEAAgABAAAAAAAAAP///v8AAAAAAAABAAAA//8AAAAAAAAAAAAAAAAAAAAAAAD//wAAAAAAAAEAAQACAAIAAQAAAAAAAAAAAAAAAAD/////AAAAAP//////////AAAAAAAAAAAAAAEAAAAAAAAAAAD///7//v/9////AAABAAMAAQABAAAAAAAAAAAAAAD+////AAAAAAAAAQABAAAAAAD//wAAAAABAAAAAAAAAAIAAQAAAAAAAQACAAAAAAAAAAEAAQABAAAAAAAAAAAA///+/wAAAQACAAEAAAAAAAAAAAAAAP////////7//////wAAAAABAAAAAAAAAAAAAAD+//3//f/+/wAAAAAAAAAAAQAAAAAAAAAAAAAA////////AAABAAIAAgABAAAAAAAAAAAAAAAAAAEAAAAAAP//AAABAAEAAQD/////AQABAAAA/////wAAAAAAAAAAAAAAAAAAAAD/////AAABAAEAAQAAAAAAAQAAAAAA/v///wAAAAAAAAAAAAAAAAAAAAAAAAAAAAABAAEAAAAAAAAAAQAAAAAAAAAAAAAAAAAAAAAAAAAAAAAAAAAAAAAAAAAAAAAAAAAAAAAAAAD//wAAAAAAAAAA/////wAAAAD///////8AAAAAAAAAAAAAAAAAAAAAAAAAAAAAAQABAAAAAQABAAAA///+//////8AAAAAAAAAAAEAAQAAAAIAAQAAAAAAAAAAAP//AAABAAEAAQAAAAEAAQABAAEAAQABAAIAAgABAAEAAAAAAAAA//8AAAAAAAD//wAAAAAAAAAAAAAAAAAAAAAAAAAA//8AAAAAAAAAAAAAAAABAAAAAAAAAP///f/+/////v///wAAAAAAAAAAAAD///////////7///8AAAAAAQAAAAAAAAABAAIAAgABAAEAAQABAAEAAQAAAAAAAAD///////8AAAAAAQABAAAAAQABAAAAAAAAAP//AAD/////AAAAAAAAAQAAAAEAAQAAAAAA///+//7//v/9////AAAAAAAAAAAAAAAAAAD///7//v///wAAAgABAAAAAQACAAIAAAAAAAAA//8AAAAA//8AAAAAAQAAAP7//f8AAAAAAAD+//3/AAACAAAA//8AAAAAAQAAAP//AAAAAAEAAAD/////AAAAAAAA//8AAAAAAAAAAAAAAAAAAAAA/v////7//P/+//////8AAAAAAAACAAIAAQAAAAAAAAAAAAAAAAAAAAAAAAABAAAAAQACAAIAAQAAAAAAAAAAAAAAAAD//wAAAAAAAAAA////////AAAAAAAAAAAAAAEAAAAAAAAAAAD//////v/9////AAAAAAEAAAD//////v/9//7///8AAAAAAAAAAAEAAQACAAIAAAABAAEAAAAAAAAAAQACAAEAAQAAAAEAAgAAAP//AAAAAAAA///+//7/AAAAAAAAAAD//wAAAAAAAAAAAAAAAAAAAAD/////AAABAAEAAAAAAAAA//8AAAAAAAAAAP///v/+//z//f//////AAAAAP//AAAAAP//AAAAAP//AAD/////AAAAAAEAAAABAAEAAAAAAAAAAQABAAEAAAAAAAAAAAAAAAAA//8AAAAAAAAAAAEAAgADAAIAAQABAAAAAAAAAAAAAAAAAAEAAAAAAAEAAQABAAAAAAAAAP7///////7//v8AAAAAAAAAAAAAAAAAAAAAAAD//wAAAQACAAMAAQABAAIAAwABAAAAAAAAAAAA///+////AAAAAAAA///+/wAAAAAAAP//AAABAAEAAAD/////AAAAAAAAAAD//wAAAAAAAAAAAAAAAAEAAAAAAAAAAAD//wAA//8AAAAAAAD/////////////AAACAAIAAQABAAAAAAABAAEAAAD+////AAAAAP////8AAAAAAAAAAP//AAABAAEAAAAAAAAAAAAAAAAAAAAAAP///v//////AAAAAAAAAAAAAAAAAAABAAAAAAAAAAAAAAAAAAAAAAABAAIAAQAAAP/////+//3//v//////AAAAAAAAAQACAAIAAQAAAAAAAAABAAAAAAAAAAAAAgAAAAAAAAAAAAEAAAAAAAAAAAAAAAAAAAAAAAAAAAAAAP//AAAAAP///////wAAAQABAAEAAAAAAP///v/+////AAABAAIAAgACAAIAAgAAAP//AAD///////8AAAAAAQABAAEAAQABAAAA///+////AAAAAAAA//8AAAEAAgABAAAAAAABAAAAAQAAAAAAAAAAAAAA/v/+//////8AAAAAAAAAAAAAAAAAAAAAAAABAAAAAAAAAAAAAAAAAAAAAQACAAAAAAAAAP7//v/9////AAD//wAAAAAAAAEAAAAAAAAAAAAAAAAAAAABAAMAAQAAAAAAAAACAAIAAAAAAAAAAQABAAAA//8AAAAAAQAAAP////8AAAAAAAAAAAAAAAAAAP/////+//////8AAP///v8AAAAAAAAAAAAAAAAAAAAAAAAAAP//AAAAAAAAAQAAAAAAAAD///7///8AAAAAAAAAAAAAAAABAAIAAgABAAEAAQAAAP////8AAAEAAgACAAIAAgACAAEAAAD///7///8AAAAAAQAAAAAAAAAAAAAAAAAAAAAAAAAAAAAA//8AAAAAAQAAAAAA/////wAAAAABAAIAAQABAAAAAAD///7//v/9//7/AAD//wAA/////wAAAAAAAAAA//8AAAAAAAAAAAAAAQACAAIAAgACAAEAAAAAAAEAAAAAAAAA//8AAAAAAAAAAP//AAAAAAAA////////AAABAAIAAQAAAAEAAAAAAP//AAAAAAAAAAAAAAEAAgACAAIAAAD/////////////AAAAAAAAAAD///////8AAAAAAAAAAAAAAQABAAEAAQABAAEAAQABAAAAAAAAAAAAAAD//////v///wAAAAAAAAAAAAABAAEAAgAAAAAAAAD///7//v///wAAAAAAAAAAAAABAAIAAQACAAEAAAD/////AAAAAAAAAAAAAAAAAQABAAAAAAAAAAEAAAD//wAAAQACAAEAAQAAAAAAAQAAAAAAAAABAAIAAAD/////AAAAAAAA///+/wAAAgACAAAAAAAAAAAA///+//7///8AAP//AAAAAP//AQACAAEAAQABAAAA//8AAAAAAAAAAAAAAAAAAAEAAAAAAP7//v8AAP//AAAAAAEAAAABAAAAAAABAAAA///+////////////AAAAAAAAAAABAAAAAAABAAAAAAD//wAAAQAAAAAAAAAAAAAA//////////8AAAAA//8AAAEAAAAAAAAAAQAAAP//AAD//wAAAQACAAEAAgACAAIAAQD/////AAAAAAAAAAAAAAAAAAAAAAAAAAD//wAAAAD/////AAAAAAAAAAAAAAAAAQABAAAAAAAAAAAA//8AAAAAAAAAAAAAAAAAAAAAAAAAAAAAAAAAAAAAAAAAAAAA///+//7//v/+////AAAAAAEAAAABAAAAAAD///7////9//7//v/+////AAAAAAEAAgABAAAAAAD///7/AAAAAAAAAAAAAAEAAAAAAAAAAAAAAAEAAgABAAEAAQAAAAAAAAD+//7/AAD//wAAAAAAAAIAAwACAAAAAAD/////AAAAAAAAAAAAAAEAAQABAAEAAQAAAAAA///////////+//7/AAAAAAAAAAAAAAAAAAAAAAAA//8AAAAAAQAAAAAAAAAAAAAA///+////AAD//////v8AAAAAAAAAAP3//v8AAAAAAAAAAAAAAQABAAAAAAAAAP//////////AAABAAEAAQAAAAAAAAD////////+//3///8AAAAAAAAAAAAA/////wAAAAAAAAAAAAAAAAAAAQABAAIAAQAAAAAAAAAAAAEAAQABAAEAAAABAAAAAAABAAEAAQAAAAAAAAAAAAAAAAAAAP///////////////wAA//8AAAAAAAAAAAAAAAAAAP//AAAAAAAAAAAAAAEAAAAAAAAAAAD///7//////wAAAAAAAAAAAAAAAP////8AAAAAAAD/////AAAAAAAAAAABAAAAAAAAAAEAAAABAAEAAQABAAEAAQABAAAAAAAAAP//AAAAAAAAAAAAAAAAAQABAAIAAQAAAAAA///+//3//v8AAAIAAgAAAAAAAgABAAAAAAD///7//v//////AAABAAIAAgACAAEAAAD//////////wAAAAAAAAAAAAAAAAAAAQABAAAA//8AAAAAAAAAAAAAAAAAAP////8AAAAAAAD/////AAAAAAAAAAAAAAAAAAD///7//v8AAAAAAAAAAAAAAQACAAEA//////7//v////7//v///wAAAQAAAAAAAAACAAIAAAD+//7/AAACAAMAAQABAAIAAQAAAAAAAAAAAAAA/v/+/wAAAgADAAAA//8AAAEAAQAAAP////8AAAAAAAAAAP///////wAA//8AAAAAAAABAAEAAgABAAAAAAABAAAAAAD//wAAAAAAAAAAAAAAAAEAAAD+//7/AAAAAAAAAAAAAAAAAQACAAAA/////wAAAAAAAP//AAABAAEAAAAAAAAAAQABAAAAAAAAAAAAAAAAAAAAAAAAAAAA///8//7///8AAAAAAAABAAAAAAAAAAAAAAAAAP//AAD//wAAAAABAAEAAAAAAP///v/+//7/AAAAAAAAAAAAAAAAAQAAAAAAAAAAAAAAAAAAAAAAAAAAAAAAAAD//wAAAAABAAEAAAAAAAAAAAAAAAAAAAAAAAAAAAAAAP//AAAAAAAA//8AAAEAAgABAAAA/////wAAAAAAAAAAAAAAAAEAAQABAAEAAQABAP///f/+/wAAAAAAAP//AAAAAAIAAQAAAAAAAAAAAAAAAAAAAAAAAAAAAAAAAAAAAAEAAQAAAAAAAAAAAAAAAAAAAAAAAAAAAAAAAAAAAAAAAAAAAAAAAAAAAAAAAAAAAAAAAAD/////AAABAAAA//8AAAAAAAABAP///v///wAAAQAAAAAAAAABAAEAAAAAAAAAAAAAAAAAAAAAAAMAAgAAAAAAAAABAAAAAAAAAAAAAQD///7//v///wEAAQD///7/AAABAAEA///+/wAAAgAAAP///v8AAAEAAQAAAP7///8AAAAAAAAAAAEAAQAAAP3//v8AAAEAAAAAAAAAAAAAAAAA//8AAAAAAAD/////AAD//wAAAAAAAAAAAAAAAAAAAAAAAAAA////////AAAAAAAAAAABAAIAAgABAAAAAAAAAAAAAAAAAP///v8AAAAA//8AAAAAAAABAAIAAgAAAAAAAAD///7//v/+/wAAAAABAAIAAgAAAAAAAAAAAP/////+////AQACAAEAAQABAAAAAAAAAP////8AAAAAAAAAAAAAAAAAAAAA//8AAAAAAAAAAAEAAQABAAAA/////wAA/////wAAAAAAAAAAAAAAAAAAAAAAAAAAAQABAAAAAAD///3//v8AAAAAAgABAAEAAAABAAEAAAD/////AAAAAAAAAAAAAAAAAAAAAAAAAAAAAAAA//////7///8AAAAAAAACAAEAAQAAAAAAAAAAAAAA/v/+/wAAAAABAAEAAAABAAEAAAAAAAAAAAAAAAAA////////AAABAAEAAAAAAAAAAAAAAAAAAAAAAAAA///+//7//v/+////AAABAAIAAAAAAP////8AAAAAAAD/////AAAAAAAAAQACAAEAAQAAAAAAAAAAAAAA/////wAAAQAAAP////8AAAAAAAD/////AAACAAAA///+//////8AAP///v8AAAEAAAAAAAEAAgABAAAA//8AAAAAAAAAAAAAAAABAAEAAAAAAAAA/////wAAAAAAAAAAAAAAAAEAAQABAAAAAAD///7//v///wAAAAAAAAAAAAAAAAAAAAAAAAAAAAAAAAAAAAAAAAEAAQABAAAAAAAAAAAA//8AAAAAAAAAAAAAAAAAAAAAAAD/////AAD//wAAAAAAAAEAAgADAAEAAAD///7//v////////8AAAAAAAABAAEAAQAAAAAAAAD//wAAAAABAAEAAAAAAAAAAAAAAAAAAQABAAEAAgABAAEAAAD//////////////v///wAAAAAAAAAAAAABAAAAAQAAAP7//v/+//////8AAAAAAQABAAEAAAD///7/AAAAAAAAAAAAAAAAAQACAAAAAAAAAAAA//////7///8AAAAAAAAAAAEAAQABAAAAAAAAAAEAAAD/////AAAAAAAAAAAAAAAAAQAAAAAAAAAAAAEAAgABAAAAAAAAAAAAAAAAAAAAAAABAAEAAgABAAAAAQAAAP7//v//////AAAAAAAAAAABAAAA////////AAAAAP7//v8AAAEAAgACAAAAAAAAAAAA/////wAAAAAAAAAA//8AAAAAAAD/////AAAAAAAAAQABAAEAAQAAAAAAAAAAAAAAAAD//wAAAAAAAAAAAAAAAAAAAQAAAP////8AAAEAAAAAAP//AAAAAAAAAAAAAAAA/v///wAAAAABAAAAAAAAAAAAAAAAAAAAAAACAAEAAQABAAEAAAAAAAAA//8AAAEAAQAAAAAAAQACAAEAAAD///////8AAP////8AAAEAAQAAAAEAAQAAAAAAAAAAAP///v/+/wAAAAABAAEAAQABAAAAAAAAAP//AAD//wAAAAAAAAAAAAAAAP//AAACAAIAAAD/////AAAAAAAA//8AAAAAAAAAAAEAAQAAAAAAAAAAAAAAAQAAAP///v///wAAAAAAAAAAAAAAAAAAAAAAAAAAAQAAAP///v///wAAAAAAAAAA//8AAAAAAAAAAAAAAAD///////8AAAAAAAAAAAEAAAAAAAAAAAAAAAAAAAAAAAEAAQAAAAAAAQABAAAAAAABAAAAAAAAAAAAAAD///////8AAAEAAAAAAAAAAAAAAAAAAAAAAAAAAAAAAAAAAAAAAAAA/////wAAAAAAAAAAAAAAAAAAAAD///////8AAP///v///wAAAQABAAAAAAABAAEAAAAAAAAAAgADAAEAAAD//wAAAQAAAAAAAAABAAIAAAD///7/AAAAAP///v///wAAAQAAAAAAAAAAAAAA//////7//v///////f/+/wAAAAABAAEAAQAAAAAAAQAAAAAAAAAAAAAAAAAAAAAAAAAAAAAAAAAAAP//AAAAAAAAAAAAAAEAAQABAAAA//////////8AAAAAAAAAAAAAAAAAAAAAAgABAAAAAAAAAAAAAQAAAAAAAAABAAAA/v/+//7/////////AAAAAAAAAQABAAAA/////wAA/////wAAAAAAAAEAAQABAAEAAAAAAP//AAAAAAEAAQAAAAAAAQABAAEAAAAAAAAAAAD///7//v///wAAAAAAAAAAAQAAAAAAAAAAAAAAAQABAAAAAAAAAP//AAAAAAAA//8AAAAAAAAAAAAAAAAAAAAAAAD///7//////wAAAAAAAAAAAQACAAEAAAAAAAAA///+////AAAAAAAAAAAAAAAAAAAAAAAA/////wAAAAAAAAEAAQAAAAAAAAAAAAEAAQABAAEAAAAAAAAA/v///wAAAAAAAAAAAAD/////AAABAAEAAAD///////8AAAAAAAAAAAAAAAAAAAAAAAAAAAEAAAAAAP7//v/+////AAAAAAAA//8AAAAA//8AAAAAAAAAAAAAAAAAAAEAAgABAP///////wAAAAAAAAAAAQAAAP////8AAAAAAAD///7///8AAAAAAAAAAAAAAAAAAP//AAAAAAAAAAAAAAAAAAAAAAAAAAAAAAEAAAAAAAEAAQACAAEAAAAAAAAAAAD/////AAAAAAAA////////AAABAAEAAAAAAAAAAAAAAAAAAAAAAAAAAAABAAEAAAAAAP////8AAAAAAAAAAP//AAABAAAAAAD//////////////////wAAAAAAAAAAAAAAAAAAAAD///////8AAP////8AAAAAAAACAAIAAQD+//3//////wAAAAABAAAAAQABAAAAAAABAAIAAQAAAAAAAAD//wAAAQABAAAAAAAAAAAAAQAAAAAAAAAAAAAAAAD//////v///wAAAAAAAAAAAAAAAAAAAAAAAAEAAAAAAP////8AAAAAAAAAAAAAAAAAAAAAAAABAAAAAAAAAAAA/////wAAAAAAAAAAAQAAAAAAAAAAAP////8AAAAAAQABAAEAAAAAAAAAAAAAAAAAAQAAAP//AAAAAAAA/////wAAAQABAAAAAAAAAAAAAAD/////AAAAAAAAAAAAAAAAAAAAAAAAAAAAAP//AAAAAAAA/v/9//7//v///wAAAQABAAEAAAD///3///8AAAAA/////wAAAQABAAAA//8AAAAAAAD/////AAABAAEA/v/+/wAAAQACAAAA//8AAAAAAwAAAAAAAAAAAAEA/////wAAAAAAAAAA/////wAAAAAAAAAAAQACAAAAAAAAAP//AAAAAAAAAAAAAP////8AAAAAAAD/////AAAAAAAAAAAAAAEAAgABAAAAAAAAAP///////wAAAAABAAEAAAAAAAEAAwABAAAAAAD/////AAAAAAAAAAAAAAAA/////wAAAQAAAAAAAAAAAAAAAAAAAP7//f/+//3///8AAAEAAgACAAEAAQABAAAA/v/8//3/AAABAAEAAAAAAAAA//8AAAEAAQAAAAAAAAD/////AAAAAAAAAAAAAAAA//8AAAEAAgABAAEAAAAAAP//AAAAAAAAAAAAAP////8AAAAAAAAAAAAAAAAAAAAAAAAAAAAAAAAAAAAAAAAAAAAAAgACAAAAAQAAAP/////+//////8AAAAAAAAAAAAAAAAAAP////8AAAAAAAABAAEAAQABAAAAAQAAAAAAAAAAAAAAAAAAAAAA/////wAAAAAAAAAAAAAAAAAAAAAAAAAAAAAAAP////8AAAAAAAAAAAAAAQABAAIAAgACAAEAAQAAAAAA//////////8AAP//AAAAAAAA/v///wAAAAAAAP//AAAAAAIAAQABAAAAAQAAAAAAAAAAAAAAAAAAAAAAAAAAAAAA/v//////AAABAAAAAAAAAAEAAAD///7///8AAAAA//8AAAAAAAAAAP//AAAAAAAAAAAAAAAAAQABAAAAAAAAAAIAAQAAAP///////////v8AAAAAAAAAAAAAAgACAAIAAgAAAP////////////8AAAAAAAABAAEAAAAAAAEAAQAAAP///v///wAAAAAAAAAAAAD///7///8AAAAAAAAAAAAAAAAAAAAA///+//7///8AAAAAAAAAAAEAAQABAAEAAAD///////8AAAAAAAABAAAAAAAAAAAAAAAAAAAAAAAAAAAAAAABAAAAAAAAAAEAAQAAAAAA//8AAAAAAAAAAAAAAAAAAAAAAAD//wAAAAD//wAAAAAAAAAAAQABAAAAAAD//////////wAAAAAAAAEAAAAAAAAAAQAAAP7//f/9/wAAAAD//wAAAAAAAAAAAAABAAEAAAAAAAAAAAAAAAAAAAAAAAIAAgAAAAEAAAABAAIAAQAAAAAAAAAAAP//AAAAAP////8AAAEAAAABAAAAAAABAAAAAAAAAAAAAAD///7/AAAAAAAAAAAAAAAAAAAAAAAAAAD///7//v///wAAAAABAAEAAQABAAAAAAAAAAEAAAD/////AAABAAAA//8AAAEAAQAAAP////8AAP////8AAAAAAQAAAP7///8AAAAAAAAAAAAAAQAAAAAA/////wAAAAAAAP///////wAAAQAAAAEAAQABAAAAAAD/////AAAAAAAAAAAAAAAAAAAAAAAAAAAAAP//AAAAAAAAAgABAAAAAAAAAP///////wAAAAAAAAEAAAAAAAAA/v///wEAAgAAAAAAAAAAAAEAAQAAAAAAAAD//wAAAAAAAAAAAAAAAAAAAAABAAIAAQABAAAAAAAAAAAAAAAAAAAAAAAAAAAAAAAAAAAA///+////AAAAAAAAAAAAAAAAAQABAAAAAAAAAAAAAAABAAAAAAAAAAAAAQABAAEAAQABAAAAAAAAAAAAAQAAAAAAAAAAAP//AAAAAAAAAAD/////AAABAAEAAgAAAP///////wAAAAAAAAAAAAAAAAAA//8AAAAA///+//3//v///wAAAAAAAAAAAAAAAAAA//8AAAAAAAD//wAAAQABAAAAAAAAAAAAAAAAAAEAAQACAAEAAAAAAAEAAQAAAAAAAAD//wAAAAAAAAEAAQABAAAAAAAAAAAAAAAAAP//AAAAAAAAAQAAAAEAAAAAAAAAAAAAAP//////////AAAAAAAAAAAAAP7///8AAAEAAgAAAP//AAACAAIAAAAAAAAAAAAAAAAAAAABAAEAAAD+//3/AAACAAMAAQD+////AAAAAP////8AAAAAAQAAAP////8AAAAAAAD/////AAAAAAAAAQACAAEAAAAAAAAAAAAAAAAAAAABAAEAAAD//wAAAAAAAAAA//8AAAAAAAAAAAAAAQADAAMAAQAAAAAAAAAAAAAAAAABAAAA////////AAAAAAAAAAAAAAAAAQABAAEAAQAAAAAAAAD//////////wAAAAAAAAAAAAABAAAA///+//7/AAAAAAAAAAAAAAEAAQABAAAA///9//7///8AAAEAAQAAAAAAAAAAAAAAAAAAAAAAAAAAAAAAAAD/////AAAAAAEAAQAAAAAAAAAAAAEAAQAAAAAAAAD//wAAAAAAAAAAAAAAAP///////wAAAQABAAAAAQAAAP///v/9////AAAAAAEAAgACAAEAAAD///3//f/9////AAAAAAAAAQACAAIAAQAAAAAAAAD//wAAAAAAAAAAAAAAAAAAAQAAAAAAAAABAAEAAAD//wAAAAABAAEAAAAAAP7/AAAAAAAAAAABAAEAAQAAAAAAAAAAAAAAAAAAAAAAAAABAAEAAAAAAAAAAAAAAP///v/+////AAAAAAAAAAAAAAAA////////AAAAAAAAAAD//wAAAQAAAAAAAAAAAAAAAAD//wAAAAAAAP////8AAAEAAgAAAP3//v///wAAAAAAAAEAAgABAAAA//8AAAEAAAAAAP7/AAAAAAAAAAD//wAAAAAAAAAA///+////AAAAAAAAAAAAAAAAAAAAAAAA/////wAAAAABAAEAAQACAAEAAgACAAAA//8AAP/////+////AAABAAAAAAAAAAAAAAAAAAAAAAAAAAAA//8AAAAA//////7///8AAAAAAAAAAP//AAAAAAAAAAAAAAAAAAD/////AAD//wAAAAABAAEAAAD///3//v8AAAAAAAAAAAEAAAAAAAAAAAABAAAAAAAAAP///v///wAAAAAAAAAAAAAAAAAAAAAAAAAAAQABAAAAAAAAAAAAAAAAAAAAAAAAAAIAAQAAAAAAAAAAAAEAAQAAAP//AAAAAAAA//8AAAAAAgACAAAAAAABAAEAAQD+//3//v8AAAAAAAAAAAAAAAAAAAAAAAD///7//v///wAAAAABAAIAAQAAAAAAAAAAAAEAAAAAAAAAAAAAAAAA/////////////wAAAAAAAAAAAAAAAAAAAAD///3//v///wAA////////AAABAAAAAAAAAAAAAAD/////AAAAAP////8AAAEAAQAAAAAA////////AAAAAAAAAQABAAIAAQAAAAEAAQAAAAAAAAAAAAEAAAAAAAAAAgABAAAAAAD//wAA//8AAAAA//8AAAAAAAAAAAAAAAAAAP/////+/wAAAQABAAIAAQAAAAAAAAD/////AAAAAAAA//8AAAAAAQAAAAAAAAD///7//v///wAAAAAAAAAAAAAAAAAAAAD///////8AAAAAAAAAAAAAAAAAAAEAAAABAAEAAQAAAAAAAQABAAAAAAAAAAAA//8AAAAAAAAAAAAAAAABAAAAAQABAAAA////////AAAAAAAAAAABAAAAAAAAAP//AAAAAAAAAAAAAAAAAAAAAAAA//8AAAAAAAABAAAAAAAAAAAAAAD///7///8BAAEAAAAAAAAAAAACAAEAAAD///7//v/+/////v///wAAAAAAAAAAAAAAAAAAAAAAAAAAAQAAAAAAAAAAAAAA//8AAAAAAAABAAIAAgACAAAAAAD+//7///////////8AAAAAAAAAAAAA///+//7///8AAAAAAQABAAEAAQAAAP////8AAAAAAAD//wAAAAAAAAAAAAAAAAEAAAD/////AAABAAIAAgAAAAAAAAAAAAAAAAAAAAAAAAABAAAAAAAAAAAAAAAAAP3//P/9//3//f/9//7/AAAAAAEAAQABAAIAAgABAAAAAAACAAQAAwABAAEAAQAAAAAA///+////AAD///3//f/+//7//v/9//7///8AAP////8AAAEAAwACAAAAAAABAAEAAgABAAEAAgACAAEAAAAAAAEAAQD///3//v//////AAAAAP////8AAAAA//8AAAAAAAAAAAEAAQABAAIAAwAEAAQAAwADAAIAAAD//wAAAAAAAAEAAAAAAAAA//8AAP////8AAP///v8AAAAAAQABAAEAAAD//////v/+/wAAAAAAAAAAAQACAAIAAQAAAAAA///+//7//v///wAAAQACAAIAAgABAAAA/v/+////AAAAAAAA/v/+//////////////8AAAAAAAAAAAIAAwACAAIAAwAEAAMAAgABAAEAAQAAAAAA/v/9//7//v/+//3//P/8//3//v/9//3//v8AAAIABAADAAMAAwACAAIAAQABAAEAAwAEAAMAAgABAAAA///9//z/+//7//3//f/9////AAAAAAAAAAAAAP////8AAAIABAAGAAYABgAGAAYABAADAAIAAQAAAP///f/8//n/+P/5//f/+P/5//v/+//8////AQACAAEAAwAEAAUABQAEAAMABQAGAAYABQAEAAMAAgABAP///P/6//r/+f/4//j/+f/6//r/+//9//7///8AAAIABAAEAAMAAwADAAIAAQABAAMAAwABAAAA/v///////v/8//3/AAAAAP7//v///wEAAwADAAAAAQACAAMAAQAAAAAAAAABAAEAAAAAAAEAAQABAAIAAQAAAAAA//8AAAAAAAAAAP7//f/+//3//P/7//v/+//9////AQADAAIAAQACAAMABAADAAAAAAD///7//P/6//v//f/+//7/AAAAAAEABQAFAAQAAgADAAUABQAEAAQAAgAAAAAA/v/9//z/+//7//v/+//7//3//f/8//v/+v/7//3/AAAFAAgACwANAAsACwAKAAcAAgAAAP///f/9//z/+//6//v//P/8//v/+//8//3//v///wEABAAEAAQABAADAAMABAAEAAMAAwACAAIAAAAAAP7/+//8//3///8AAAAAAAAAAAAAAAD+//7///////7//f/8//3//v8AAAIABAAGAAUABQAEAAIAAAD+//3//f/9/wAAAAABAAIAAQAAAP7//P/7//v//P/8////AQADAAQABgAGAAUABAACAP///v////7//f/9//7//////wAA///+//7//////wAAAwAFAAYABAABAAAA/v/8//v/+//9////AAACAAEAAgACAAIAAgACAAEAAAABAAQABAADAAMABAAFAAMAAAD9//z//P/8//z///8AAAMAAwABAAAA/f/7//n/+f/7/wAABAAHAAUABAAIAAkABgAAAP7//f/7//r/+v/8/wAAAgAFAAcABwAEAP//+v/2//X//P8GABEAGQAbABsAFgAHAP3/9f/z//j/AgAUACQAMAA3ADYAMAAgAA4AAAD5//b/9f/6/wAABAAIAAUA/v/o/9D/uP+g/4//iP+M/5r/sv/P//L/EwAxAE0AYABrAG8AawBjAFQAQgAwAB8AEAABAPj/8v/u/+n/6P/p/+v/6//s/+z/6P/j/+H/3v/d/9r/3P/a/9v/4P/m/+//9v8HAAgA+v/p/83/rv+K/27/Zv9l/3H/if+v/9v/AAAsAFAAeACfALkA2ADkAOcA2wDOAL4AqACWAIYAagArAOf/tv+W/37/eP+L/7T/2//9/x8ASwArAK3/E/9V/o39uPwk/PT7Avxb/AX99P30/u7/6QDNAXIC0wIIAxoD5wKGAhUCpwH0AOX/+P7h/YL8FPvk+R75jvh7+Bj5Pfqn+2r92P/lAhMGXAkEDdgQWhShFx0b7x4rImwk8SWUJXwh6RgpDVn+luzI2VPIdbr/r/+pUKpxsE+7r8lO26fuPAFoEWgeFCgFLdQtLyyTKfcmhyT+IzklHyd+KOMoTyfqIWAYmwvs/K/sq9zyzl3FI8CtvuLB9Mkq1QDio+/r/moOIhvQJckvqTkZQZ5G10zhUEZPlUbEOFkm0wz17iDR/rbcobqRDIuAjcKViqI/s0DIMN0178//vw4YGlkhpydwLzY2bzu4Qb1I8k1uToxLqEVZOaEnXBMz/6zqv9VExAm4drBQrbKv2bd0wq7Ncdqa53rzhvyIBdkONRgRIzcvJzwWRzZQRVg8XdldRlq6UbBCEyywEGL0BNeiuTCgbo5whY6Dy4ndlzWqKb7m0gnpvv0sDjYb/SUnL/A13zugQpRII02zT31Q2k0oRVg4xid9Eof63OK2zsy9XbFxq5SsirOrvaLLQ9wA7Av5tANEDFwS+hRmF+ca5x5bJuUvXTlBQfVG9kpaS3BHtT8XNLEixwm97YjRw7WrnCiJAYBigDeI05cSrQXFpNs18LoDHRT+IOsqXDK3OV5AvEYATpJTrVWaU9dNfkOlMs0dUAZ67NLTIb/+sTqsc6vxsJ68hss52iPo9/XaAKUIBA91FL4Zph2sIJsjjSV5Jpwpoi6EMeYwaS5wK70moB+kGP4RMwc79TnhZ88oux6msJb9kIWUhp1FrTTEStx/8RMEzxXHI4UrwTDbNYg7OkCSRDtKCk7eTFBHiT4MMaocewVN7i7X/MG6sWCqSqvzsXK9Mc4s4FTvTfyuBisNMBB8EhYWoRmZHK8ecSCOILscRBzDHxEiCyMqIqQiXSLvHWoacRerD3T+hOg81XPAyqrampWVMJvNpqW4ZNCJ51T5vgbJEu8bhSHJJh8tDjTwOpNCE0tTUG1NbkSVOIMmeA459gXhpM9CwcK4YblPv6/GBs7q18jieOqs8sf7+wRADSYVyB/4J+gqVCoaJ60gvBNXCIMHJgwFEvYXXB86J3sopiV8I10ebw/l9xTh9svEtXGjupuKn8WqV7piznHi9O+Z97z+JwZvC/YSZB/VLIo6wUWtTc9Syk6lQs806CO5Dsr5Uul93VjTiMvryBfL8cx3zRbSNtoH4tfrZfr9CagWViDZJ/Mr9im9IasYYg4ZAuL3y/Ka+VwH0BQiH2okuSeZJLQdhBkxFTINi/7W7afe5Mz8u/6x1q4fsTG5QsZD1MXgRes49nYC0g2VGJwkvC8dOK4+DUKPRFdDsTySM4oo2Bv0ClP56eiu2L7LlcSzwwTFTsnS0lfdBOjE8zwCvxDxGHUdsyBqIJYbWxRIDiAHz/4w9mX0Av9/DWEbrSPRKIUs8ikBJyAlDCHvFAIBMeyd1kHA86zrozalBawvuBbIftft4tXpdPJv/cEGJhLTIdM0skZUUdlWcVjFUTpEnzO1I74SfP1M6WDZ5ssAwaC7wrw4wYTIqNMA4cnuqvvWCkEZ6SDzIxck+iHeHBoV5gzpBAf+Y/Wp8Sn6yAZ4E4cadCAoKOIoFSgtKZUodh7uCYfzSN3oxdCwUaf1qdyx87xXyifYm+Fo5Ivnt/BK/cMLtB/LNspMaFqeXeFbb1CNPT0pRRffBzv2XuWG17vLosFOu1+7Q8AhyTHVvuQZ95wIzhheJD0p7ye4ITgbjRT6DawGX/+2+IDyYfecBJAUJCCvI4UqES5XLVosBSuwJAYRbvag22DD1q0KoTCjwK2sujvIxdRi3YLe493s4+jxNwbrHnc4P0/JXkNiKl3ZUGE+lSpuGdQLwwD19ZTnoNhqyT27ZrJosWe6Js1Y5TD+0BSkJVoubCxrIvwVTAwNBwgG2ATJAbb8ZvLl7m72LwRPE6AdNinIM3I4HjnPNWYvZB/GBMHnUs0XuROto6v5svK7RcKGxGTGM8goypHT0eVtARggDjqLT+1cGmCqWPNLb0DoNAQssCMVGqcOa/uW5KzN6bkKrXWnfq5VwcTZ3/GHBYcUkx0zHtIY9hEnDrkMYg07ECMNBQUe9pvor+oJ+foQrSRzMUE+KkOkQEY4RS2oIV8Nt/Pl2c3DK7UWrQqulrOzuLm5xLixvWTFDtAn4GD4KxlvNa9Jp1cKXQJar1BBSYpCCzpYMOcj3xbFAv7nes2Dt32s3qgxrRq8O9LM6br6GgfgEE8WfhfSFekWKhlrGHAWxBDiCLn8XOsF5SvvSwfNISIx7DkMPro8jjYULTQkXxk/Bqfst9C5t4anvKF4pzmyALvJvYa/Tcdk0fbd9e1UBrYliD/cUBNZUlnqUihJy0LDPoI4tixnHOYJKPN02Om+nq9lr5u2NMFwzqfdde3l+rEGow7tEsITMxPxFMAWMhjNF04SjgkW+3Pr4+cb9JMMQCEqLOgyTjeTOcM1RS6SJcsXuAFh5RDJULZLsAy1u769xdjGDsEnvLW9H8dj2DDxeQ9CK2M+y0aZR0lEdUCsPqA/ckFrPgU1viIJCYztIdNiwfC7X8EezIPVC9tN3C/esOVx8/gCvg5dFfsXoxYAE2UPdQxNCRsD7vmp8hn2fAc3HVgrqi9fMBQyOzNtMdktaShBHDoGmueTyW23SrW9vyfKpcuXwrW0r6wjrg27G9Mk88gUSiwPNrY1YTGAL8cx+DjMQbhHEUkTQyEylBd7+sribdek2HPgwOfR6h3n0NwY0GrJhtE65tj/bBPUGcUTGAZ9+M/xMvQs/ZwH1A4PEgES6hDSD/8RVRgeHx4kJCYKJmgjxhz1EcUD4POj5OfZPNew2xziPeT132XXxM2Kx1vJf9Ui6kb/wg2jElgNsAQhAPUFZRafKf04rz6EOL0nGRGi/TP1LvpQCPcWZB3EFs4Dm+2E34Pd9eSB8ZT/lQn/CKT8uuoC3XjavuJs8HL9GAaECCsDoPiR8LjwbfkOBn4QYxYpGAMXnxMbD3AM1wyaDrAP3wzTBcH8xfUA9Cj11PfI+nT8gPvF9071tPb3+nYAiQRfBsQEFP9s+DT0C/S19gD66/3KAd4DOgRfAzMDBQSuBL0EWgRZBF0E0AJd/0f7y/d/9ajzLfJ/8TXy9fNF9jv5WvwO/nf9Yf22/94DfwcPCvMNjBNrGhQgdiIrIaAc7hbSEOoJvAII/Z76EPtH+1D63PcT9FjwWO468C70Svfz+Ln41fZt8knstuff5tTq8fEM+rEBNQZPBtoDnwGvAgYGwApGD+kQ1w/0C9cH6AMRAH38mfhV9UPzb/K28bHwTvCV8lj3Avw1/g7+8v9rBZQMGRIEFVcY8hygIhkm4SQIH30XMxKADhwKHgS+/gj8tfsX++T3hPEO64DouOms7JftvOxm6wrpy+U64ZXeL+DP5XnuqfeU/1IEBQVSBIcEQgaxCTMO9hOUGLUZJRcUEbcJZQKx/Cz6Xfq3/OX+Jf+C/a767/iC+cn7fP7x//sA4wOoCFIOcRDHDn8NGhBRFzscCxvHFMENMAreByoF6gC2+7D43/ek+L73B/S18NTvVvG/8YDvBuxg6L/kJuHZ3v7fEuXR7Aj1dftw/1wBxQKoBLwG7whmC60PjxQxF6YV0A9VCXoDHwAPANAC0Qf/CtgLZQr6BtwC0f7J/XX//gEABNMEeAXUBQcFugKmAF4BIgYUDBgPEw3jBoIA7PvV+ib8Wf13/jf/zwAIAST+8/hH86/wkPCR8fHxsfB57tzrEuq56fjq4e1g8oH3APwr/8wBcgSrBm0IDwpeDJwPDhO3FGESzwvZAxj/4v/EBFQK9Q3UDgwN8gg+A4X9ZPr++z8BYQbrBkwCT/xt+OH3jPh++bX7j/8iBRoJIwk/BVgAmv82A0gIXgqaCDEGzQQGBHsBPfxq9rPyCvI684bza/Jt8DPuc+yY6p7p+OkW7X7z//psAesEIQb2BVkFlgW3B/kLZBCAEvMQdQyWB54EYATxBeYHxQkMC5gLUwqIBqcBFv4X/osAgAKGAcf8Ufaz8ZfxgPWr+dr7LP2X/0MEPwnCDM4Nqwy/C+QL5wzxDBgLnQibBhsF0AIh/uj2MO8S6pbphOsn7cXsCeqe5nfj+eI15vDsR/ZR/zQGzQhyB7EFVwZvCmgP/xJMFdkVbhR7EP4KogZpBKYFVgnbDEgOLwyqCDUE3v7z+Zz2G/cS+VX5MPaq8IHtou5a81b3afcq9lj4MAHODbIXuhpvFyYS0g7+DQIOGQ3zCwwM7guXCOj/JvQc69Tooezi8Evwi+pz423fAN9e4GnjrOkf9Kf/gwefCf4HXQflCT4OqhFhE7kUkxUbFNUO1gePA8YEIAraDkoPiguuBvUC8f9K/PT30fSM9JX2+/fw9avwsOst6xvwOfdO/F/++//DA9oJohAUFsgYLhgPFeMR7BD7EWQS7A+OCs0DD/3k9g/xzutQ6ILnXelW6+7qiufQ46zj5Ocr75H2Nv0KA5IHhQoBC9IJlAfjBWkGrQmxDjESQRKWDvcIrQPBAJgB5gToByYIxgVKAoj+3PrB9zP2tvYg+V/89v1s+zH14++c8Kz3iAAQBgkHKwYyB9MLwRGWFcoVChT6ErUSsBE7DkEJ/gSHAj4BEP4C92nt4uUk5DvnVevs7MnrGupU6vHsVfD58oD1IfrRAPMGZQkVCMwFNwWGB1ILeA4HD60M1AjwBB8CywBzARAESAcoCdcIywbHA0kAoPzS+Yr4H/kA+yP9jP6B/U36svZN9RP3Zvrf/QgAoQEVBA0JQhB+Fi8Z3hcYFawSeRBUDQMJEQV1AtgAH/6q+BHxKeo854To6uuE7h7vT+4W7X/s1ezY7krzZ/rNAokJCAyGCkQHvAQgBF8FJAhPCy4OXg/EDe8I1AHX+wn6Df0pAv0FTwdTBn8DCv/Q+RT2QPU593363vzf/Mr5S/VO8g/zNvj2/4wHcwujCjoI0Qg6DvsUshgTGHEVZRP0EQMPYAmhAh7+LP2P/ar77fV17yHsKu387zHxDPC17Xbs4Ow97izwufJE91P94wKUBeQEZgN0AnYCdAKoAjUE2AYbCXAIdASS/y39Bv9vA2sHfgmmCcgIswY+A/r+dPvl+mf9GQG4AtoA2fw7+c73mfhE+4H/vAQDCcYJ9gbEAzYEQwkUEH0U1BNZD2MKfweLBo0F+gOqAj4CXAFh/WL2XO9U7IPu8PLJ9ab03fBF7ZTqJ+jB5ePlhete9a//fgWlBXgC5/5w/rUA/QQECv0OexMTFNkP5gijA6sDHgeaC44N1AuLCEkFhQOUABr8d/ic+Pj8agG3AjwAuftV90/0//I09DP4z/6HBOUE+P/A+n78oAa2E8Qc9x0oGksVPhGNDWMI0wM0AmEExwVuAEj0Auev37rf2eNs54jo0OfC54zof+jz5t7mXO3a+ewGmQ5MEAMQPhAIEboQ4g6WDckO4xI3FjMUFA35BY0E/QfhCtgJywViAhUBQQCE/Y73rvFX8Mz0sfrD+8T3H/MU8gf0vPVk9tD3SPx4AyUJBAlrA5X+wAHrDGQZciCEIIUcoBbkDk4FBPv/8z/zlfdr+7H3zesc3RHUJ9XW3h7ta/o5A9AEXP9U9j7vSvB8+2INPR59J3MmhBw4DbL99fSn930EwhOqHBkaBwzy+J7p3+Sq61P5BAhRESgR2AXO9IfnG+XQ7nX+kQzIEssOeAEc8EriIt0Z4mnx5wkrJAUz0S+MIDYStBBIHWMwbDrwMPMQad8nrOyJfInAqeTZZAPCFrkS4/716gnlN/P8ETE1QlBTVKw7+w/W42DLQc0G5v4H8SESKRYay/zP3aDMxtPl8NMX+jXTPoMv3xAh8Yfcstra6b4CpRYsGoEK1O9K2YrSP+BZ/UIeozSrNygmOAlM7crcxNwi6c74ZwCA+gLpgtVlyqnLr9pg9r4auTtJSbk/pCcxE6wOsxlVLPI0GCkKA53MrpzkhfiVusSX/6stDD4vMkgVaf3X9jQECB9XOehFtDhhEsng8LcjqWu4dtyfAz8dcSO/F2gCFu/a6Uv4jBQZMFw6bi71EITvrNWVy2DT9uUF+2sG0gWQ/NXyNPGd9yoGHBZCIFwg8xTMBPDypORP3I7creWh7yv1DfSw85f1Jfgb/jkMsSBcMqw4zDWALFoh8BvtGnIeRBquCg3sccWkpwqe3LNO3IYK/yutN88vqBmNB7f9LP+xCVoW7hunDKPuTs6CuUC6is7A8HUTTyvAMlcpdhZ7AvT3VPlLAjQLGAykBJb0iOAhz8vIxNFr5FX7ZQ2mFa8UXQ8ZD1ATNxuwIRYinB0lEa8BGfHk4mbaltkP4wvu8fbM+sz8FwCQBGAKUA2qFE4fdil0Lf8pFSS8GigYBBupHz4cVQma7JDIIK5ppvK3ZNx2AqshiSsCIzkQLv5l9dXzsvtGBf0IzP9p6QnTtsQoxPnSoO7tD1QoWDKcLagddQoe+731afnJAlsKAgslBBH2yOai3VHfcOsa/RMOKhi2GIQRlwcFAF38s/25BPoPmRdRFaII4vW15aLdp+Hd7cH+dw44GAMZPBDzA1T0xfFuBIEh3zotRn5DEjESHYMSvhDuE2MLg/IlzM6hlYdBjFSxqONnFF82QEB3M5IVbPe547PhpO2W/QEGk/pB503UI8jdzDDigQVdKWpCJ0jsOIIc4vtC5xLkue5k/1IMOA5s/6bq/tha0w3fPvQ0DNEcWibLJVAc6RJjBhz/owD0COETgBn3GAUNxPxg79LoU+1k964D4AwEEKMJ7/px6aXbPdVP1+HqMgczH24tADTHNeAu9CgoJokjkxiz/jbbJbIPk+2Kr6ASzR/9kSeePzo/oitfD6n4neyW7O31gf9q/brvQuJ92cXa1uev/ncbdDDKN+kxyCBJCT30ce2L8NT41gLdCIUK/wLz94nwwPBO+H0CpA4nFSwUSRC/CokF4QGY/mf/cAN9BMQC3f0q9fPrF+dm6EHy6P90CU0OPA6QCNEAC/jn7WXkut6G64IE5hsSKqgthjEmLmYpByfHIUwWD/5D4Ya96ZpBjA2WTbdl4xYOzzD9QaA+by2QGWUJ8PyV+H/8yv3r9ijul+dp5AfnsvNgC4MiZTA0NF8tyxvZAy7wY+ZO5TjqiPOU/EP/0/zN9qnyQ/Pc9Zf9YQk6FFMZBRe1DqUDxvob94P7RQRNCRkJ/gTu/Lvzh+3u7KXwNPh1AdwGngjkA2b6ffLW6vLn7eef6tr5mQwCHtYpKC3WLAYnuCetKm0n3Bkb/FHbULlToY6jB7tN4DoG3CIgMnIwgiOEE8kICwQsAFv+Gvqm8BXl5Nud2X7fdO7XBb8dKyu0LGwikRKBA0f2je/366nsCPIf+Q4Buf8++YT00vL0+qQH+RJ9GFYUBwkw/JjzSPE39hD/6AePC8oIYQAc9UXugu1g9RcEYhO9HD8chRPiBIz2cut35ezkB+ST7IUBJBaaJy8uSi6gLBUorimdKfkfCgk05x/Cs6B1lHSiYsUi8t0YmjJPPJo3HCk2GJoKmv8u92Dwmegj3pTUv9CX1UjjFPb7C1Id6SbkKBkjQxlrCgr71u3Z5Yflmeg07ojzsvlQAxIL9A3RDnsNFgwKDTcOeg73CUEB9fjZ9NX2WP3vBigPSxJWD8AHEAAU+mr40vzwAucF1wPu/Af0reuG5mnmr+ai8dsLgyaIPA1EAUHsOeIsMSQtGJwC+uWNxTGpcJOxjtmgmsbD9ZMgL0APTlpI1jIwFgr7B+Xo1uvSydVf2BraeN6t6KX3AAl4HAMvRzpePAs3Qyi4ECb1kt+H1oLXcOIv9MAAUgXaBJwBBANuBm8K0g/IE6YTswzPAnv7d/qo/ZAEHQqICEACIvtR9yz2R/j9+3MARQWWBlQE1f5p95jxRO8U70TsR+1X+twLPh8IK04qwyVuHVYZyhmPFLQEAurSzHS0Nqr4ssHKGexBCxgjHDFCMnkpfhrlDAEB0fY5717oBOKP22/aEOJk8tsFZBgLKWMy5jJyK7Ud8guw+FnpkOKF4iXn2u87+TX9K/sC+pr9RQa4EA0YxhjIEqIHQPt580nvWu7i87/7gwFVA2f+JPgh9OfzP/mwAbcKbw60C0EDNPgh75LqD+3l80L4Lvcd/UkLBhyvLUg33zocNvwsbydGH9QPt/Oy04W3qaLKn0qupMu18CYU5DEeQoNBEDLgGkoEgvHP5eThCeNj40HjLOZ567jzmf4eDlEeISvVMsovuCF0CrXvOtvo0enUoeKi8OX6DAEmAmcD3QUKCr8Mfw2hDR4LKwUB/Vb4ifrOAK4G/wqBB03+JPhS95D9IAPSAz4DPgHl/P/3H/bZ9cL2LPoS/RH9E/er9wwHXxuOMfk7LjptMX0jQh7bGnAROPzL3M+/faijoAOrA8Tc5lAI/CTwNa41gCg6FZgEE/YM7M3n7OLq3rrcp98M6oz2bgNLEqAguit9Mhgw2SNWD9T1juMQ2//YK9+j5lvusfYA/EsC7gdBC8IN/hAIFRQWkBO/Dc4Eg/10+Zb42P2oAf4CagWsBUYFQwKW/uP8E/36/lkAQgPEA9cAef18903wCOnh7PIA7hhMLvM24DF8JO8WrhSMFM8OvP0U47LI1LARplCtucNc44YEpSKyM4A0FCkWF1kFMPVm63fpNenE6CrobOnF7YP0K//XDGMZIyRxK/0qyCH8Dm33M+Ro2v7a2uPe7/74p/0sABIFmg3XFgwefiAJHVUVjwt9Ah76Z/Me8uzz+vhS/lcA4AERAh8DvgN9AiwBCf6t+3D5lPZE9YHzhvPG8k3v+Otl7N76rhGcKlk9QT5aNQwljBg/FIYNAgMH78XVrL2GrB2qWrbizyDw0xFiLn08vDkoKMMPUPnK6t3nGuwr8ZTzdPOs86H1mPp3A2ISCCMtL2A0ziuXFhb82ORG2PDWXd7j6B7znPkg/I/9NP7h/34DiQqaEoUXoxdfEKoEb/nx8SDxu/RZ+fb9HwIiBQgFdgHi/Pn6i/3zA9EKDw1qCCj/LvTU6lDlq+Hy6vIBNByyOFxHs0YlOfci7BcuESsKhvsZ30e/0J5ikDGdyb557vcbSz86T1BIlzHQE8n7vOuT5vbqr+yA6Tfj8t6f4S7pPPd7CkgdJyxuMoIvzCHxCdfxxt/f1/bYNd/u6aHzOvoU/8IDWglWDEMOlhLVFugY3BctErAIYv5J9rv0Rfg9+lv8N/8AAG8AK/9b/i4BaQTBCKQLoAiSAXn4KvKc7jvsJOtg6//2Rw3pJ3BAHkqaRhI2TSFQFY0LQwEM7onRKrUSm8mR8J0Zu2LkvA0VMVBF5kTAM8QZnQCv7ADkw+VS6bzrwOsh7P7uk/KD+l0IfRjQJ9Ix/DGKJIEL8O9y20TUTNgL5BDzxP5RBY8HBQiBCLoJyw3OFLAawhoOFiANMgLl+dP0QfXk9/P6p/5ZAUMCov5S+jD5af3qBlkPbRKQD0MGUvqh8APp++VB5RDsiQGsGg8zez/5O8swbB6NFJMTbA9vAy3oB8UIom2Ks4zopTLQ5v7BKOVEr0psP7UoTRGG/dbwwO2v7ZzrJOYo4sHhyOZi8mYCmhRHIuYqZS5ZKBYbqwen84Hk9dwA35rn5fJW/NcDbggeCnoKjQmZCsUNHRCWENkNzwj7AlT+HPy9+0b84Pzc/nf/J/3y95nxKO9t8mT8IAj1DmQRLA9LCXgBBfeD7b7m8ORU8nILUyVROBU8KjfgKtcemxrhFKAJafIO1cy2rZpOjsyWJ7WX4aoR9Tr+TthLSThwIWAMxftz9aX0UfWa8o7t8eZE4NTdqOSn9asJrh1kKxMunSPZDiX4puXb26fdXOgH9/wCxwhaCjMIDAZABjUJgQ0REKoN3QpLCBUDOgBe+x/4Wvi2+Dr+aQLJAxoBl/tv+cH3k/rVAIQHgQxwC4wHOwEy+UzzL/Ar8u7zH/j2A3IRqCIKL/o2tznfMGUnHx7iEvsBA+pWzqOvYZcxjjib+rvJ48kOPDGOQdBAEzVDJZ0UOge1/5D9t/kX8wDrnOHI2bLX1N/U8aMGUxlaJqooTx8ODwUAM/Wv8crzcPmN/nf/Ev3l91Xzne4Z7e3x8fsqCfcWaCGWJDQhnBYyCST/B/h/9Zb2q/fQ9/v1qPNV9BX4GP06BcIQjxkkHcYZ0A8cA0DzQOZU32vdQN8x7ZcGCyDXNXY9vju5L3ggERoCFiwP8vpl3uC+bZ/bjruUi68e1dj9jCKHN0M7EjCBIu4WJwzzCEYHhQN++bLs2eCP1X/PBNPV5FX8WBReKA8vsygpGDcHQ/0Q+ij++QXCC7oIJP7R8LHk+uDh57b3wQsMG2UgOR1kEbYDC/sP9pX57wDnBtEL6glgBbv+mvjY96j6SwELCLQMhw7NCkECl/hO8G7seetJ7RPuiu8p8pP37wegGcMrvjheO1U2/CjYGrQQFAgw+8fpItLqtrSg95mSphXAVOLnBbgjTzWVN44xHCZRF+YNawukC/0HYv0V8TDihNNrzW/SNOH087QIyBu/JXUjHBq9EMIHBgOfBEYIeglXBL79Wfdr8Fbu0vAd96/9WQQaCZ8KLwnkBYAG1QUsCKgLiAzIDJMIIAOR/Yf47/Xd9xL7uP/HA4MEDgTNALT7SPYf9f/2jvr8/vUAfgAR/sL/EAkfF0El9i4cMFon7xi6DFYGYQOj/0v1K+Aaw+ipwp7Tpkq+P9+4AMEWkSKWJOsfrBkHFYAWyBtpHf4XsAwu+qPlTtY+0QzXoORP97YJOBUeFlwPwQVe/hn9JATXEBkcTx80GI8IvPb56O3j9ufX7in3kv1aAoIG1QihC+gPmxRoGKgcdxw/GIYRIwksAVT3ce4E6dbnL+kV77L33/3lAdkC9wJyAqIBagOuBEUDQv93+Rf4a/pXA+8R/Rw9JX4ltSB1Gw8X/Ra5E48JrPRC1/O5hqTcn9uqL8G9253z6AUtD94SuhOmFWUdLig+M5028i4BHX4DTuyR3OrXxNrf4szt4/U1+x780PzR/kYDcgy3F9UhSiR7H2IUKwUT+MXvWO+i8rn3zfvY/LgAUwPJB2gNShB/ExQUdhI6DuoIzwFT+0j2b++k6QLmmOdL77f6WQNHB4sHbQTzAZX/Av6Q/X7+jgDnAtkCkf7e/NL/rwgAFXEgIihOKIYlBiAgGVIOIAAG8Tvc7MWisgapE6pntvLLaeMH+DwGOxJ/Gxgh3SbLL3w37zjTMlEkmhD+/AXutuWR4h/iuuXE6Zfq7+d55abmPO3P+p8KWxhhICYkmSK4G2oToguuCK0HggdAByUDd/54+cr2LvcX+Ff8PwHrBWgIYQcZBIb+uvmT9VD0hfb++kIABQRNBnIEvgBW/ej5gPiB+L/5nfuh/CH7kflF+Zz7KAQOEBsd+yaxLDktUyhlIPEU/QnO//X1VOvf3UHOdL9Qtla1QLzVyNbX7+cN9w0DUAx5E1wcLSWILaIyezEeK1gfCxNfBr36J/FB7Jzrz+p26fbmJ+Vp5bHq8PPI/a8HVBByFgwZRhhGFhcUERN3EmAS2A8QC/ILogk1BKT/fvdv8hHwSvKy9+n3Cffa9nj1vPN59Jj7HwUDDPoRtBLeCHr+Bvjv87Pz5fYA/kMDXwMB/z/43vH78Iz7MwvQGCQk3ilHJywf5BUAD6IJPgglCT8Dr/UD4gHMLbpRsLazOsL500/mH/W4/d3/BgAOAqAGBxH4H8kuXjaENEEqjhvlDp0H0wd5C74O6QyeAzf1ueMA17vSlNaz4W/uL/sdBJAHGwmOCZILXRDmF8Ig+iXJJG4fWxRCBoX68fNp8qXxx/ER8ALs1+e65wPt3vQn/Q8FyQq4C98J4AZhAzD/XP2O/jwBGQN+AoAB6f+h/88DVAraEasVCxWHEfQJDAS//2QAlgSqB0cKGghUAP70Cegu3tDY+Nej29vf7OJv4tjg6t9I4rnqwPdBB4UUlh5yI8EjkCK8H6YdyRywHBYcgxdvD4MEMvk27/PoMecX6LHrT/Bh9fT4xvrw/VsApAINBbQGhAl+CxQOvw7YDDUJqQSeAioCtgPeBkkIqwgIBwoDRf8Z+uz2zvOy8WrxqvHK8q30lfdB+sT9fgC+A5sGhgkBDSkQdhEZEdkO2QvcCdMImwp3DUEQcRGqEPMLKwTq+iHxWOnu4nTe2NvY2ILW6NSu1JPV99fQ3nXn1fN6AIgLLhV3GXQdASDdIZ8kayXsJvYlzyG8G44T2gsSBW8BTP9H/VP6k/Vi8rDup+y07Znt+O0H7W3r3OvZ7anyW/kmAFoFcgnxCx0P9BKpFVAZJxpgGdcVZQ/LCZUBWPs593n0H/S+8mrz5vLL8fHygfMY9g35QPxBAZwF1gmjDNUN4A2TDWsPphDoEcwRvQ76CxUHkAJv/cv3GPUy8r3w0+0b6HriItwr2bDZcNyk4lLqG/TO+4oAUANQA38FKAp7EG0XtBsLHhce0hsZGVkVXBNbEhkS0hG5DncJyALX+zP2PvJH7+ftxOv/6Vrn1uRZ5cznpe0p9E/62gBNBU4KpQ+dE/8WPRg2Gn0a1RjEFpESwQxjBhkBE/yB9s/zAfNf8qfzEfX19uf15vai+Yv7xf5/AKsDDgPpA8UGBQh9C6ML9QsWCUUEpQFQ/Q/7CPku93H0nvAT7pnr8+q367PuF/Ok9bb5SPzF/WUAwwDOAjcEgAVkB0kIJAm0CIYH2wbtBlwGJgckCG0IlQksC6sL9ArPCkYIJQYvBCEA/f9F/ET5kfnD9Jb0hPO78T71efWT+Rz/hQHrBq4IyQnMCZIIkQnNBiQI+wbsBHoGDQEzASD/if1X/yr8ugDi+5f4BvrZ8YH13fO98+b7Pvj0/7kC7QBsCVQGxgnPCzkImgw9COoFJgexATL+7fuQ99Hyf/G378TuDvGq8SP2V/gh+6cBVwIyBJQGMQbuBH0DZQOfAZf/+f7u/eH8Ifvq/C7+gf+DBmMHOgrGDVcLSgytC5YI1QbgBMT/c/83/F37ufzu+Ab+NP1P/yMA3P8LAiL6APzX+eH3//qO++oCcACmADUH8QC4AS0H3wWZBt4F8wWPA5b99Psj/fH5Jvhb/Wj9W/zR/hYBxgLuApIF3wl5Ce0I9QvICHQF3APo/kH+hfkh9Un1ru/e7wTuGu8o9cjz1/qZ/ZAApwNKAvYFDQSABFIByQAGAib8rvxc/kD6G/u5/Zn6oP9l//r/4gOsAZUFuwQrBDcGzgS8BN8E/wGuBCQF8f/wBA8FoABDAMr+KvyB+Ib0afnW+Pb0QACk/FD9EwGX/doDq/9pCDMLlQWPEQsK0gbSBtgBzgUp+vgAawU2+TIBkP+4//j/y/0QC7UCJgJpDkcDMwMNBnAEQALa/MIF/PzM9En/Ifar8nT1lfLx9W/uyvLD+mHxF/sr/Zj6iQD/+dsAP/5E/aYER//kBbwDLwIbBN/9fgGu/jH8SANoABv/bwVp/uf/mAEz/jwCPQHXB9MHugQWCqoIiABUAXECTPz8/KUBLPzP+1z8DfTe9lbzFPq+/l//eQsTBYIFrQXb/gwCxALuBicHDAp7CvMCKQTH/b/+hQBh+s0DtwTk/YUDPwD6/tj9Af7eBdMASAnmC5sEZAhCA3P9Rvx++tL5MvcL+hD5dfIw+Rf2b/JN+r35Uvqv/6f+8gGRAn39xAeV/VD9MQaf+akBFv+KAZ8CwfuaBbT8vfpx/+H8mP9g/6YDVgMrACsE6ABDADQDKAKjAnUA+f/4/5L7b/2R+rP5ff/d9mT5tP/i+w//nv4BA7IDAAA8BbYFqgtOCKAJrxDRBJoFBwVDANcA+P86AtP9cP/e/cf3pP2e+zwA7gMZAcEMvQIgAIcICfq9AU8An/2AAmD5xP6P9wz1SPbv9Rv5DveD/7j6qv7aArr3SwMt/zr+aAX7/P4IlQPE/dwHk/1A/tf/I/yOAI/6XwIUAPr7CAYm/vMAfwXf/cQDYwIA/0QIEPzwBUkFa/uUBbv7wgDF/FD42gI296b2EgGi9W79nv3f/YYF4PyuCVgBHgR6D80BYgpwDBsFFgYj/7QBuP+y+QgDz/0SAXQDIP2tAjH/6QBOAeIAfwQeAcT/Qv2v+y78rvT6+X/+1PUq/cf/lfuP/R4AGPsX/4z9xPlgBHH4KwJuBE74JQcx/nv8hQUT/BAE/wIx/UQLOfrZAykGwfd/Cbv71QBRAVgCwgMG/UcLVQBrAwkF4PyzB4P8kfrqBRz3i/+s/aP3BQKa94b8V/93+AEB0wGr/IgDQgMgAsoEWAOhAUcKdgK+/RELq/16AbME1vvYCLX/E/+PCX354gTeAun5EQYu/ugC+f88/78BAv42/qj6RgKr+IX8jf879Qj+3/W8+Xv6IvTU/1X8T/qI/dcCDvwD/VcFR/0RCJIEKQPJDd0BogNKBgn8vAMy/jH8rAdc++kCqgP1/pYCCAA7BJ4AGAVxA2AFTwTn/ZoF+Psz+3YABfkf/Sj/g/mA/qf/lfr5/AoAkf8k/HMD+f8zAzADDPwkB3YBSP8vAa0GGQWAAgkCvgexA4v6aQdi/HADuANU+3AGAgSZ/KsA6gQE+9AB6wBN+7EDaf4x+hoDt/ji+Zj9B/In/U727fM+AMHzz/mE/5T0nwP//KH+LwuQ/+sHpAbnAZYE9gEcAhsAkwM8BVf9uwQBAWb/vQMh+YgGdwMa/NIGOQInAXYCSvyGA2z/s/ynBIT9TwJWALH9iAA4ADn+L/2XBAr9VP34AcL8qAGf/bH8BAhS/2P8tglZALgCpAIf/aIJjfl4AIAFJvtdBAoBhfwVAXUBfPgRA9T6aAA7BgL1FwpIAUz4VAWl+Mv+Hv1X83YErffo9CIAEfbx+OX3HfoE/3z4sP2tBFz98P5KBLgC2gEaBEQF+QXAA64DBQX6AmYAgAOQBnf75wbnBSz+Mwb+AAQIrAEd/Y4K+P9T/sgEOwE3Bq38KwJvBd37mPwSAf4BPvkAA4UAIP0v/s38Ev6k/Pr/SQCDA18BIAH2A5H81P1DAq35ywPW/gb/MAVi+dEBA/1B+qT/BwA5/BwDpABd/vYCYPazAIn8f/VK/UP/Xfvf+4wB+ftI/+P3zvzbALT0d/4LAUT9AP1+AF0AYP/a/rH8vwguAGD+Vg7+AHcEgAWs/pkHH/ogBGQFdPxuCkcASQFEBMMAj/7V/yEHiv7mA58IfP9mBOAAgv1dAV76KgET/r//0wFb/CQGc/rw/8kAZPyxAmf6NAb+/rD8bQYi+k8EQ/4c+/MJtfpnAUAHyf/PBZn/9QHjBEb60fvhA7L3Sfj+AAz2af2i+Kb5BQcJ87QCewrp8y0Kwf9x+gsKdfNlBOcC+/JyBtX8TvYhAT/7Zf0H/cv9LAdJ+TwETgOB/U8FYvpzCO796//1CdX5rg0CAmD8HhOn+bcCsQk9+QEKgvzV/8AJRPjS/zYDGfsj/eX/HwBLAGsA0QH9AXgD4P7RAIcFTf5nAGMDOQKKAGn/HwNu/m77NgCj/W/7VAQaAaz8qgu//sb4qQn++ZX4mAZE+xQAhQKv+FUDCPfW+pQBIfVmBr3+UvswBgL5evxpAE/2fQHTAZL38ARrAQH5WgCM/aj/tQL6+r0JdAbp+EEJ9v09/dgCr/X3CGMCF/lNCsoB5wHL/ysBSQjv/pUAxAb6BU/8DACOBfz78v9yANn9AgaG+SEA0Amr9zwFXwTP+2cDA/0N/2j+OPwYAgH+PflCAxH/Q/WWBM0C2/prBNwAyQXL/gb7/Qq+/cP7gAQlAxj+e/quA9cBMPgO/tkEpPsJ/dwDQ/+MA2r88/xjBnPz5f47AWr5vwKE+P4DgPjG+RYGMPMlBfIEbPmVBjQBFgBxAdb9cgim/7/+/Af6/WUBGf53/7sEWfqM/7kGy/qA/DYIIvopAP4F8/qpBd78Q/+fBx356AN9BgL7OAFl/0r9kwDw+SAC+QU3+PABZASn+CwBOwCM/6IBLwD/ANv94wX4/MgAKgeD/8gDj/2qAzL/SvqHBMb/VfxuBNb7b/yBBaTzGQVpA7H3KAyy/U/8jwPh+rn8IP16AJMAX/zOAnYA8fus/Zb/+v4nATwDrgHQBSH93QHT/rP7NgNG+3kEOf/6AAMCHPp6BFkBe/1CAzcEQf2v/8b+cQQK/Tz8Vg3r+Jv+qAWC/DsBqgD8BPsC9f1H/hgDm/2R+Z4BKQPo9rj6eAOJ+OD5uwCdA7H99f95AcsAhP7R/FQIv/yYA/EBqv5cBwf3CQaCAfn3tQjS/Gr+ZgU2+sIFHgA5900JwfmJ+aQHEfwuADsAVPyuAsP89P2tBPIA3QIH/nsFBwX4+DkIVgUN/tABDALX/nz8HALbAEoBKQCx/uP/n/+1+3cBggXo+YADKAQI++D/IAF7AWv+jwDTAID/E/0B/+oBqPx8AOf7ogBrAej5UQSb++D8Tv6h+JwDjvvTAC0EUfotA4D7Zvq0A7r69wNmBKP7FAdu/Fb/PwLT++gIn/12AcMIpfo5AKEAsfqLAvX/OP7dBvj+4vspAU78+P7L/2YAhAfu/Ub/XAMu+3H/hACBAqMDIgCOAtoBpvweAHMDff5tAnIBUQC+Aqb6XQJ1AwP6/AM3A0QAogL2/vwCawE6/E0B0QOH/b3/3QAQ/kb/t/r2APz/o/okA3T/BfwAAlT+HP42Ayj+GgLGAJT9wAHX/BMBd/+F/dID+P2O/coBvP2x/EYAxP/0/z0Bs/0PAsIA6PkqAjkCSfxAA5cEUgBJAXj+TQAL/qH86QJBAJX/JwLn/kL+b/8e+fcAVADm+lEGQgLX/gEBmQAwAVr9egBnBo/+TgApBbf9Tv/l/6T/igEn/9MBWgP+/T4BgQRJ/+QAWgIdATEBfv86BDADif19AyoBPvxv/6H/GP7i/fj/A/7Q+5T7Uf3K/Kn8NwJo/iv/dwBS/fL/l//eAWQDUgIZAkYCFP/f/Jz/if8X/gb/dwLg//76mwDe/ij6df9OAEMB5P/cApsEPf9IAOYBgwKuAAwCTQVbAWD+eACK/7z+S/zE/+sB5fkD/4wBgvz1/pYCWAK6//sA+gIPArUArgI9Ba8Aaf82Agv/8/3K/93/eAEsAH//kgKE/or+OQLRAAUA/AAKAZT/nP2T/cj/fvwV/TL/R/6p/f38swA4AD/+aQPuAaD+HwMdAdYAGAKFAN0BXf9O/ED/cP63+e7+DgB2+5L9I/6C/Rv9QP9nAcL/xwHnAXUCgwM2A7wEdQO0ArMB+ABpAJ4AGgF+/7n/Yf4+/HH8tfzQ/jX/7v4+ApYARv1XASIApv4uA00CJgNtA3EBzwCK/9H+AAE9AdwBXgMb/yYA+/yx+c79zPxw/+oCNQKcAnH+YP2+/mT9FQJ9A6EDiAMWAPv+QvvL+gj9v/ytAEEBfwAjAJL96P50/oAAbQNmA0AFuAU3A0oBCgBv/kz+If4f/ywAgP76/k3/L/3p/Lj8jf0c/tkARAJ+ArMCIgHtAkX/2wCfAsz+kAFFAOr/Jf/5/K/+Wfw7/Nf+Df9U/wIBvAKhAY8BNQN+Ac4AhwJqANYAMAH7/yoBNP+YAXsBFf/fAowBuP88AN0A5QBPAPYCigKSAE//iv+i/wn+ugGvA40CwwJ1Ajb/1vl0+h/6h/cV+3H8RPzp+176r/yv+uz5pwFdA8oCaQb7BGYDHv68/JcBBPq6/AcC9PsL/7L+yf2iAMT+5AFLAjgA9wEA/sT8lf+6/Ff+7AE/AB0CfwNuBH4G3QVABgEEDAJLAdD+eACRAZcB2wX1CkMRQBnlHksj7CSWIRIewhYSD2oGPfbZ6bLamcg2wh7BJ8Wzz+rZDuZU8j/5LwKpC3wPcRYLHLYgXSQNHUEZOhO5BlMCDv4r/In87/oO/dD76Pbs9Ar0PPXW91z8EQEV/1j/1f7Q+eb5ofjM+TT/9Qf5Fq0e4SRNLTUr3iqFLqwstSlCIDAQePyU4dzGy7Qbq6aqKLU3xmrYt+QR7gD4of1wA8IQ3h9oKqw0TTUrLLMe8QslAHH5W/b/+MH7LfuD91zyHezS6sbsxfOGAJ8H/g5wE48MZgmDAuf59feL8BPxePFF8pj/KQl1FqshuCcyMF8wIjWTOuE1pzClHXMGauyxylW5sKoDpyCwlbnOy1/TjtmK4qjo1/PsArQXLChLNus8RjfwLSMaUgmoAJv3uPhT+oj73fyf9Jnvs+sy63Hyl/2lCpsUdBu0GvoWiw2FAOn5ivYq+lsADf8p/Sr4fu718Db6nwg8FwQjGTLoNpg48jfNM+QonhfDCTj0k9xNxD+zfa5drJW0GMLKzGTUJN3s6qL2NwOMFFgjFi9wNA4y8yhLGxcOgwPi/y39UPt/+ef40vWK7tPtXeuF8Pj7KwXCENoVQxULFAMSpQ5cC6AFeAVjBK4B2ADF9V/ur+Vv5P3vX/63EVEacCVrLJ4oEy37LXot1inlHrASTfgy2IC8lKkXpEWlxbPDw5zOm9YB4srwBvcYCdcd0i/BQbxFfELuM4sfpxAqCNkCM/8D/Uv+Qfwd9CLvKeYD5s3uo/raDPQU8RjhGfYU6xKxCqUBygCN/Ur/SP+9+LLx0eNd4aLoMPTLBU8TfCBjK3kyADf3NggvvSBNFKsFOO4C1ty+Qa3nqUmt67WPvm/IBNXj4wH2UwEkDzEfzi8rQOxHBERSOeUroBx4EucG3wDI+Qv2iPeX7aDntt923LLmSPIAAqAPzhJiE7gT7w40DZ8LtgiHDDYNuQrGAjDyJ+Yt2nba1ObW814GqRCUGzQjJiYRLiUyOzd8MJ4kdhIQ8TvUWLkQqwOpiq/FvPfFEdAa1u3fBuwd+RoN+yG0NvFE1UfhPzsw8CCbEokI7AOP/dL8Xvxf+HjxNebk4K3gx+g6+JIEPg5YE7QSGBIjEPQNXw9hENwRYhL+C+j/cvJo5SbZettk5o30+QV4DhsYQRxcIR0uODRAOWU4dyvLGlD9JtrOwEysO6gtrci2t79CxIjLrdLT4UbwyQSUH6w1skYHSvdGIjq9JUYaqQ+fBzIFUwPCA038LfAQ5FvZH9gr31Hvlf4GCNcOGxBxDmEKsQlSC4kPuRSFFkkUcAnH+XHsrOKZ2oHhTOuA+kAJtwvCFIAWmR9qLwU5ZUE8Ou8nRA/16/zMlrhDr/Sz/bx/xYzHOMhEyZPR9+Es928VXy9xQapIz0BVNDwmnhvwGRkX5BUbEpILyABw8DrjuNhm2M/fqe6F/1IIawvrCdoDVf/N/3EGkg7mFPUX/RHXB6T4vupq4craLt+G6xL5qgUnC+gQqBZvH1oyVz6MRa8/KSsrEIbte87Wud21grujxGnMEsrsw3XDPMvw3M71/xCoK/c85kI9P7szHSg0IPYd8R/LHuoWbA56A1nzm+RU2XnYw9/J6rL44wCFAYT9r/hN98H5DAIrEHEcoB9XGEcMEfsW7n/qauX75mXw5fpvBnQIegplEIcWnynmOQ1ErkOsMc8alPzQ3NzF770NwVHFLchvxdu8nbkywHzQrebgAQMgNzVjQNs+GTcELOAgxSCiIikicx6tE+gGdPM04fbX2tRk39Xr2Pn1A+4Br/5l+kz6KABpDEIaRyF+IZgYygkT+7rsuOhr6KrkQerg8OP4KvxS+7MFBhJwJ2dAoU7aT8A/ESo7EPbxXtdgx1TE3sRyxea/w7MArbSvbMFB2G3u0gmLH/cuBTJGLjUsmiYDK5kx7zDPKyQhCxZvBBzvseKm3MTgZewE9aH7ufl+9b7zr/RT+8oDSRJQGpcZfxVTCMX9fvWS8ITyAevy6InupvHa+ob8hgTeE78i/jqsS11Oi0LCLEkVrvsr4ujSyM5szXnKhcJ4tWesEbHMwMDVyeZ8+SAPcSDyKnosXCpVKf0tFTKfMiQsSCNvHboRjgDw7S7jBONd6xL1/fZY89bub+6Y7+Lxa/meAogOIhWVEIwIaf3F+TP5mfTI7p3pOfCP+uQCwANhBFsQQSDZNQ5C0EGvOOInIhpCA5vsyd5p1dLVmc7twhS43a6Ht3vDBNJ24aTxJAtQG98keifMJm0s/C93MxIy4SphJz0hrBT9A+zwSOa/5p7uIfbQ9m/zbvHA8IPvvPLf+DgCpwvODkQN3gXU/Mj61viO9aTw6uj37pr4KABEBjAHWBGvHfcr7TiBOq430ypwGQoGruzK3UDW69TF1B/LSMMCu069YMjs0KreC+50AcYQWxcnGnwcnyLAKLot8iyyKWopXCTHGqsLIvxR9sbzl/mm/WH6fPju8pPv7ekd6LDv6fseBxQJVgdjAUT9PP6F/SD6P/Kh8Kn6NwGZBPkEhwmlF58iZS9GNqI1rzESJcsUlf4T6cfd69n22d7VIs3jxY/Ak8NuySDPrNu26nH73gf1DXwTyRfjHdEkGyg3K48tZi3HKUgeuw9sAtr5B/rS+1r7xPfe8uXt1eYw5EHoNfIk/EwAIQO2AGD9rf+4AG//BPpD+XIBewdZCnkMKRLyG+4k/Cw9MrQu6SZdHGcPgAH78dPoVeRE39HW5cuhxMHCUcRIyrjPCNgz5TzwNP1aBIkLHBSpGKge6yGGJwkwpTMkLqUgwxE6C5IKFwhqArT4AfPj8uzvL+sP5zPomvEX9lf2cfcP+KP9KQK1AgAAL/oY/mIH4ApRDJsOPBd7IWcm5CyULvwoyCG1FGcIrPql8BvuEOaz2xTQ8scaxYvE+8Y+zEnTj91k6d7vF/fe/gAHgBD1FWobuB+mJGEuqzCVKd8ePBdLFw0W8xFDCgH/VvVL8D7t/+iS5/zp2u9W8zL0J/bN9aX6WQLpBowGfQO6CYkQrBB/DVYM9BDUF/kfaicLKPoicBx9EtAG8Pns8V7sLeVX3IXSqcqbxsTIespWzmHSLNsm5cHqiPOQ+D0AcwhMEIsbWSKyKr8vUSySKFAkSSMPIUwZuhTjDWoD9fik7S7pt+dG5uXmbOXv6C/vJvQs+Qj9agHPA6AGGg5MFnUYfBYaFZkW3BrlH6Em3SnsJFwc5g/7BEn85PLg61DiFNvR1MDOCMzDyjTMp87I0kzaAuPq6aDwUvWn+jgAtgZ+D6wXAiBiJfEn+SUdI80g8R4WHwIdnRkvEZ8F8vvA8trt++nx5zbpFOof7C/rFO3e8+L42PpX/NoEWxCmF8kZKhnyGi8f2SMZKFcoBibJIWcY3guZ/pn1O/FE6jfgh9Z/0VXR8tLy0WjOC9Ak1mXg/ech613wdfXv+7wBXAW7CzgVhB1tIfAeAx8QIoMiliLTH2kcKxdSEXMKUv+X9YHxvPAQ7tXqCup163btJ+6Y7fvtjvVkAnEMVhGiE90aUSJJJ5csoC64LfwoUSB5FRILtAEp+hnxYeU43CbVoNDmzfLJKch7yTzL3tDf12Lgluoz8f71vvkn/+cGMA4aFtsbgB1xH9AiHiWXJBAkayPLH0QZIROPDygJjgFG+6r0xe9b7IPr8+3j7j7ui+x/67jy7vxfBWQN8BTiHUYjXCfkK80suCk8I+4bzhPgCy4EzP3+827mydy+1svTqM+lyn3HN8c9y9nQr9c/3gflW+to8DD4of/LBWgOjhSpFv0XYxoMIfolHyX0I7oghxwqGdIUmBErDIsGOQKQ+zv1yfDv77bwL++y7NTsqvI0+5YAFgUfDZkWqR4uJLIowCviKNQihhzPFTkQVAhvAND3feti4pLbedXX0GfMdcrqygHMddCr1rzbwOFM6MHu5fTh+/YCWgnGDSMRzRUAGUQdkiFRIu0h2h9fG6AWlxN4EmsQXwyUBjoA6/ox9wz2e/X19D3yY/Dh9JH78wAhBV4LERNBGksgDiYlKnApwiTxHAwWOxBbCi0Ee/tJ70nlbOAd3D/Vvsx6ybzJxcqozRnUotph3pXicOXr6Vrx2PubBhANKRArEmwVnRqPH2sgNSDcH6McaxjXE0APUgyzCl0HbAKc/gb84fu3++j5EPZI81f4lv5SArMGoQzzE8cZPB6rIvomwigeJiwgqRmlE+ELdgQr/azyh+hi4I/bGNgv0sjNmcvQy2jNxM9w0zfX1dyL4oLoqe7i9Wj/LgiSDpwTXBiuHLIhwyMxIjcezRriGFwVQxJGD8ELngfvA9gAIP0T+5H8gv2F+hT3rffb+/AAFgTvBiAO2xYaHp4igiQMJpklcSHiHGsXLBFEC5kCAffq6uThoNv71sjSi8+kzW7Mzs2Oz9/QYNNB1obaFeHV6HvxCPryAaMIkQ3JEnQYXB1kIiklQiTZIU4eqBooF/AT7BBHDCUH/QKa/2r9Df33/SX9Mvqf+Vr8lP+aAc8CfgYDDBkTTRtcITAkdSQFI3cfLxzJGDAUQg2cA9v3MOzs49LdgNfr0EjN9coCysLMZ9DZ0azT39b+2h/hHukc80T7DALKB04MfhKSGTweniDrIcEgnR+aHtkbxBjLFXMSAQ7xCOcE7gF1AB4ADf7Z+lH5JPlr+7P/bAGEAEYCCgjaDm8VSRtzH3IhqSHGHmwavxeEFf8PlwZP/AzyhOnM46bdYNXezYHKUstjzb3Pw9L21NzWodrW3yfm7e389wEBGgdPDEkQ1hUYHOcfQCDvHhof7x9MHlMb3hjSFDQRww32CcwGcQMGAfv+wPvu+Y/6qPqN/CgAQwF7APMBmAdqDTcToRmCHX8daxyIG2UY6BSWEJQKpwNO/IHzvOrA5JPeINiG0tHOb812zZzOidET1ETXA9w94Zjoyu9P+HsAZwa0C0URaRZFGv8eiiE7IjkiqB8kHD4ZoBakE+8Qiw5wDE4JIwbOAm3+9/zR+yj5cPjf+dP8hwBkAsIBAwL5BRwNjhIYFpkZdxvJG8sYKRM6DpAKFgfVAcb6lfL+6jrlY+BD2hbTLs+gz9rSqdUE10rZJN0s4UTl0emy8Cz6MgJACSYP3xNQGEMcoB/bILMgvB/WHckawxdNFQQTjBFnDgcJDQUqA5EB7f84/kP8jfro+RH6Dfnu+YL+JgG/AJIAWgORCfkP3RNEFXkVYBYwFesQjg00CokF0v4t96zvJ+lr5R3iSN0H2KzV8tQV1bnWMtg32vbcSeI76FHtZfQF/uEGHA0/E/0YTx6wIOUgbCEaIdYfYxx1GAgVPhJQDzQM2AgfBhIFFwMgAHf9hf2U/dv7F/pr+dL5pvnS+of8o/7t/1gCfgcYDLgQWROCFH0UgBIwD9MLuAk5B2UCDvxl9/vxhusT5kPint8C3HLYctXg1LDXNNzC3w7jPuhQ7vn0CvvtAQsKERE0FlYZvhv2HeseWR5zHUwcOhpKF7ATTA+qC2QKgQn8BnoDoAFFAk4C9QCr/iH8iPsy+mn3avMH8pH3pPzP/QH8M/1BAxAI0QylD8IQRBKDErAQbwxyCeAHlAPI/IL0UO0o6iLo0OUX4qXd29q62S/bbt084anl9+iB7QX0mfqe/5AGbA45E6IVhRjWGYsZ+RpJGfwVKRQMFZwWIRWsE9AO0grWClML9goyB60FdwRwAQ398/dP9pv00vJ+8DfuJe0g8AL3v/nH+XP6F//lBIUK8w/nEKARfhEdEA4N3gnmCM0FUQDW+HLyDu+H7Qzscujt4y/hhuHL41jmu+jn7PLwYPN59oD7dAHtBRsJXgvKDJwP9RN5FWkVWhbuFukUhhLZE9YTlhJVESoOEAojB2MG7wKH/hb8jfkR91r1yPNx8k7xZPA67zfu2u8M8Wj0Z/lU/Kv+IQAgBVIKMw/1EgwT7RSrFVcULRGCDXoK8ASI/6L7L/ib9S/0Z/IM7rnod+YN53XoTer+6+7tJPBD8r/0Wvgn/skDzgZOCfIL0Q9mExYUDhPjEB0RyxGiENwPfQ7lDR4MYwgqBfwBCgGIAKT9Kvqv9mX1hPQh8vHwH/FM8wb1PPQY8yj0XPbn92T6Pf0QAAYB4AKYBxcMGBKOFdMW1ReuFV0UhRIdEQYPUQe5AED7P/iT9x/0PPLv7qfqgOjj5/npDuvi63ztC+6b79zzY/gv/g4EjAf1CnEN/hCwEsMSsRN2EXkO9gpoCC8INQizBsUD4wHDAJP/uP1c/Ub8PvqK+A312vOb9AD21fVY9FH2/ff9+ID6Mfyk/SH97f4wAq4FmwiGCZgMdxH1F9gakRlIGTcXuRRwECYM8giTA/b9AvdH8rnwCO+97WjrnOjT5/7p7exn7pLvTfHl8ob1ufnp+3T9FQGwBHUH6QhhCosLKQz7DF4LHgr+CWMIwwWxA74DtAPGAvUAsv4B/pH+UP53/FX6Lfjy9uf2Vfee9+33Avp5/IP+mv+k/5kATwGYASsBuQFrBQYIfAhyCI8KBw/sEbwTaxOTEQMRtA+TDekKGAjIBCj/1/oQ+Pb1AvYL9YPyqe6w60DrmuvF7DbtgO2p7lnw0PJj9iT6IP7oAi0F+QQdBokKkQ1IDPwJHQdnBCEEgQURBcUDtgOdA2ECsAHgAcgAMwCJ/yz9rvqF+qn7gPsS/BX9Jv1e/WP/iQGHAXsAMv9R/lT+QP5c/RD/nAPXBiMIoApuD4USWBTjFSYVYRQDFCMSWQ3/B5AEr/8n+xX5ffce9hz1WvSA8T7uKO0W7fDsp+xy7DvsbO1+75/xKvM99ef4p/zU//0BqQSUBvEGmAb1BPECLwK1BCsHtAbcBXAFKgWiBCcDHwHF/xkAz/+A/cL8nP1e/fX95v/aADMBvQPtCNUKgwmPCHgG1gQsA1wAMf1c/v0EcgcaBQMG4gvREMISwhSCFVcV2xUTFCQPTgoHCDMEwv0B+7b5Qfem8xDww+1S6ZLlBOQU5D7l5eQK5f/m4emK7d/wZfPN9hT7Kf/iAYYDBAZiB3wGOga9Bg0IMglYCp8MzwvDCvAKZwvVC3QKEwpaCLYGnQUnA3wBJADC/qT9j/4nAP//hP/v/5b+Pf1x/Nr6M/vb/DT+XP10AbAISwnqCK4MWBOpFiwX0Bi2GNgYCBgcE3YN8ghYBQgA3fny9CrwYO3P6tjnnORW4XjgC+G74argjeAq5NfnFOpt7fjxIPc4/FIBKwZlCUkN7w/YEJMRQhIeE54Rwg/AD84PKw6DC74JLggmBS0CSP+a/G787vzx+9j5avod/B38p/zm/Db9av28/qUAaf/p/mv/nP+5AFcAcAEIA2MFLgo6C20Lwgx0EMYVpxeUGQcauxgZGLAUzg4yCNsD5ACk+rz0wvDk7FDqKegq5VjhMuC94nnk7ORy5j/osukK7AfvnvEO9ZT6GP+QAdgDfQaJCSAM6w2dDV4N4g8MEWYPsAwMC2YL/gqECcsGuQT4A5YBH/9z/Hn6nfoW/Ar9T/vu+gL9SP/xAVoEMQWGBXMH3wjCCEYIFAirB7gGJgcwB1QIxwzmDnUNkAv7DCYQFRHdEdkQ5w4CDVYJqAWmASf/X/tS9VXyHO9G6wXo/+VM5YLhzd7D3jDf5+CK4tHk3+Ze6fnskfCG9Rj6cP1lAJ0DEwfACPgKrw3TDiEQ3Q9GD/EPZRDkDzINgQxrDMIJ5wc+BkgFhQT8A/cDmwKOAiICjgESA1cDIQLpAQ4EZAUXBf0FAwemBlAGQQd7B38H3gdnB8cG1QWZBRAGaAViBDcDVgPWA7ADsQRDAyIB7/8U/kv7K/j79vvyre33683qWunl6G7pW+j95nToD+lY6V/rIO0f7k/v1/Iz9936yP9MBBsIIQw2DwETLhbxFvwWlhY9FjAVdhSEFHcSAxD3DYsLNwroCPQFywL3AfcAKf7y/Ij9Y/14/Bz9iP6s/x8BfwO2BVYG8gZaB3oIJQk5B8QFvgRYAwMBLv5H/gr+uPo++Bf4n/g49zP2Yfen9x/36vfx+r78Yvy8/aUAEAKAAeoBrQLsARwB8v6D/B/8WvtZ+ej32vcU99f14PbN9x745PgL+iz8G/3a/Qj/mABSAlwDYAScBREIFwm8CLMJVgqnCQEJcgnmB8gFaQVABGADhQEzAKkA3gDiAOP+0f6g/6f+3f5d/eT8dv2I/bj+vv5C/7UAOAKEAisCRQMyBH0DAgP8Al0CtwH4AHkAQgCRAGAApf8x/zv/9/64/s7+cv6a/qz90f1p/cf85PwW/GP9Ff3c/Bn9Fv0M/q38L/wL/Yr7bPnk+J35W/m290v37vZp+Hr4jfYf+Kb4/vjx+TP64/oy++T9DgCI//MAXwMSBawE2gTqBlgIfQdEBkUHXAmgCOEFVAhZCdwHPQddBl4G+AUNB94E3QDnBMoFkAKYAEIAKwXMAcX+ZgKHAjsEnwFu/zYFEQSdAfsA3f+OBo4C7fzl/1AAXARA+nb4RQCw+ZP5kfYk+bv63vKG9rn3U/j69kTx1PjA/B34D/Up98378fiW9uf3ovt7++X6Gf3A+aj7zf+S/DP8UQBTAV8BtgAYAV8EKQKLAY0CKwT0BegCHwSrBZsE5wKcA1wDqwQTB68CZQQxBpUGmAaGAWsFLQpuBo4DDAfVCGAGUwDyAtcJSACG/lYA4ANAA3L48v9sAQ/9mPxe/p4FqfnS99cDOgKO/cD2wP/UBEL78v7OAcz9hvo3ARgI5/y29db/ngYLAOz4dPgk/1QBiPqR+yz9Ef07/e/7qAFvAXj5F/ypBB0F9f43/doDlQUfAccBwwAkALQDXQC+Ad79L/o8Anr6u/pL/GT6Wf0b9jr7j/1b+uj5+vlq/TD9bf7J/Vf+Lf/OAocEh/uyAeEFmAKABAv9eAecBq78LQXRBdQFsP20AfoL2ASiAE4BiwekClwDP/+NBWwL5QOxANMHjAUYAosAEwTcAoz/nf6T/MYHaQLI9tn8QgZ0AuD1RvqnB/v+a/USAhsCgfsU91394QQ29+35Uf6y9KD+pgA89YT0RPatALX8M+489hX8w/i/+DP2Wvqu+IX06P3t/BH5sPd1+REENwNr90P7wgJUA9EGef8NAWsJZwkBBocFTwkOBIIKbhTkBRsArw3FEpwLHQClBrgNlgrHBRMCygnhBQEAYAQOBZL77PshAQ8A4f+n9ZD3zQDb/xf0dfHmAxQCxPHv95MAU/y+/Nj7T/q4/NT/nwEJ+w75MwBN/pL8J/+o+0n8tPyrBC0Bk/Tb/S0BmQOo/rL7DABf/zQIGv7g+SX/hQJqCpcBmvtS+m4EGA6r/E33QQesCs0BhvnaBG4JmvgQ/y4KaQhM+p7zfQvpC/b1ivgAAf0D4/9z/JgE4f1F/V8Ai/p0AWcATAIMAbv+eQfc/d39nP9e/eADUv5PA73/xv0DBaP64gGIAbr1Wv/1B28Gl/4U/RQB+AM5/0X5/gRxBpsCo/+I/FwCu/qm/74Flv4y+wn7swjc/fTwfgITBuX90ffS/YcCMfxyArcCAPzb/6EEhgPtAXH/yQH0CKEBHgFfBnf5E/9AEGQA0fLB/cMHZAAq9FH/rgNO+YH/EQOD+8j/igFs/8MD0/+WAh0BZQNOD478KPnTBl0I+AAM8w0JOQfh9AYBPADo/pb2hfimBJ//S/Ul+h0GIvtI+GgAY/9W+lD8LwXLAa/8Af7e/Yn/HwBNAVUCJvvc/0AFQ/+B/wD7qv0oBxT/8f1BAU79wwB+/38FgQBD9zwIsQJ5/TgHVP79/DgIbgtZ/zn7OAjwBoMAvQMJAyAIiQHk+n8HGgCfAFAEhf0YBTD98PQ6AtAIYv7w97n5lQX0Bkv3Yvs5ANICjf/3+VUFIP7K978EdwaY/MX1g/1FAB/+Awpl/dHq6v1iCGn7IPR4/MMEwPtL9dz6AgJX/Mj0mQNeB2L6p/aT/lgMkAHs+HgE8wjzBjn5AgDrDCUF/gXz/lQBSQ3PBOf+d/hvASYTQgKj+7wBJv/vAzoABgW6AJTyPgQCDwsA5vgB+Hf/ngwfAIP3m/cP/yoRoAT69nn29wahCjDy+gBKCr78Ef8nAU8HPPnC7GwF2QaU+XjznvVgCtP9A/Rc+xrzf/yEA0QCIP129JAEEAza+pb8HP8U/XQJvgviBm/1KfScDXYK5PnR+FIAFwhJBaL+Hvr18oQDAwnk+2EDcvUVAtkPVvVn/1oAMgGYCMv6FAenB6787P8HBPALYPxE+IYP+AYN+HX7KwSjB1/7T/5nAbz+xgLF9yH7ggUK/7X6YP6RBm4BwfNM+rELiALg+jf+Av0XC1EAl/jSAC3/OgT7+hIE2gMZ+LkE+gCH++oAnAOK+vT8+QhTAzz0dvvsEH0AevDJ/40KTv1D9kcCNgKr/mb+5vvOAW0AW/iUAwX/DP5tBFP31gPeBY/9jfuy+SYK5wYP+vb2UAZwCdT1UgQ4At39Qggh+mgIywb09NYDRwZnCXsB7fSLBqMHZP80/s3+BgEH+eT+uwNjACH8RvmS/WD7YAQ6AaT1L/+FBl7/yfhbAosCKgDc/lP+jQqT/X/0rQWgDIkBZPR+ANEF6fzRARoC1v2O/iwEFgJh+5P/dgAO+78AxwsJ/pjvhASeDiQA/vjm9oQE1wsc/Xf7ZwTeBan8LP+7B4n/BPls/rYJlgMW+Q3/swMfA//82/zs/CwBxgbP/PH8Kf6CBAED7/XyA3T9+/hUBj76PwIrAYT5tQCl9x8FMvzr8QcIPwXpAFD2Qf+sBnjy9f+PBKX8BQFB+/8BrgA/9/QBzv+Y/FkEuAF8/rsBPAItBJkGEP1tATgIXgSDBf7+yAG9Bs0B9/0OAakK6vt1928IYQS+/t/1Sf/kD9n5x/WxA2AEJwC19TYFOQdB9gkCPAGt/Qn8dvl+BrID9Pz6/2IANv39+2UF7AKk9MIAsQoYBOD5T/YhCMj+avluBzkCgvu+9X4HTgu79iz7EP80A2sESfvaAdv9Pvs4B/4Ab/mQ/fgFj/1U928I+f9u82IBKwZPA9L1tva8C0L9z/awBIkAPQI9+8H5FQkmAMbzv/3bDEwFRvES/1sSyf3r72YCcRCH+4Py0gmfDroB4vDEAI0PVvvn+osF2wmdAfv6SAgHB3b4pf1yBnEHuQJy/hACdASCBRX5HQCIBsj8DgHzA18HZPsc/REDUPsJ//8BSQGNAJ/8nP+y/nL5vwRt+gL4AQF3APf/FPUe/EUAO/zz+Kf+XAFM80H68QcdAenw4Pa0BvYDGfmX+YUAnQIVAiT+r/vd/DMEGQVY/+z+pwNQBfv9I/+6C8ECjPYmAzUPqgUT+F8Ahw5+CY/ytf6gD40DogD//44EuwPN/uUACQINAewBSACuAaYG3fsH9zsAzAjA/1v1JgFaBJT/Ef5B+LT6RwiVADv3hv2kAWYEsvi3+gUFEP6W/Gj+agUmAb33Yf7v/aoEPwEi+ZUBM/+7A7f+TPXyCEj+cvUvBtsBJwWz9yr+EAj89aMD6gIx/yz8Ovp0Ed8A/fDSBBsDyP2I/RkB5AdD+kv4MAjZBTzypfo+DKYAXfpC+f0ELgjy94X8iQIm/zABSwLJAS4AJgFAAgn9KQD5AHkG9/4E/CwLLP2L/TMDbgEEB5H6Y/yBBrwJPgFe8PsECxBL/CP4YgCLCXoD1vrqA3sH5vct92YPXwpe9dv6hwcZCpz6CPUoAfoBNQY9AgX5Mf6k/oP8nfuOAz7+uve9/MD9+wQE+Gr01wW4+Br5yAaJ9f8A2wUd9q/9oPvIAgsBDvcHBu8GZ/5X/Xb87wTbBBT9JgS/AVf+IQN2AmQJRv6q9C0FkwuJAcn2UwCjB2kEtAXT/Gj8nv95BcgHG/r0AS4I4fmmAPkGQPs0/cT9gQ6TDZrpsvCQC7MOu/tc9QIGLP5U800IxwOY9UP9FAC9B7////OZ9qcCGxDZ/97rs/qZDZQFoffB930KhAG+8OMCBgia/g73zQRzD133ZPEPAvIGYQqf/2T3bQPGCRgCHvXlBasMQvzk+eAGzxBN+ovxvwYaDZX8QvcNBLkGff3O9sUDBgcr+WD2+fyFB9b9L/JtAjIIK/7M9l31iwSvBKb3Uv1nBdb/PvkzATMIIPzR9FYF/Akw/df6hQFXB8UC3fvL/eQC5QOt/aYC8QbH+mL7OgTrBsb9jfyTBw/8N/3nBPT8PALSAy0F//1A8+QBIgktAa3+9wGp/8L7lf6nAb0F9frq+MEG2v4j/bAADACJAcD8Zf6k9835DgpIA2b6yvzDAZf/xvdv/P8C6QB+/QgF1QG/+Lb/sPyCAkEHU/0MADb7rgT+C9r23P5vCK8AFvzG/A0OqQSM9wsFGQTKAm8Aa/iGBFQGef50B88A3vjvArIDs/vx+H0BPwZS/bz+WAQk+uf6YAKlACn+qfix/+wHfAFS/sb5U/rpBeQBwfsHACIB7f8z+MD8nggr/1H3Lf8oAn38L/6iAqz8O/tOA6UEfv+W+Bz8vQWpBCMDzP6b/1L8tQJYEJ/79vp5AYYADg5AB3n6DfeRB9oQn/xp9hMDEwbJ/34CLAXy+Xb4MQTtCyECcO7L+iUGKQRlA8749/6l/B4DzgWH7h8DbwpH92n9hQEyAfT3B/0vCZb/wfcI+UP/CQPVA+P8QPgS/KX/rQNI+tv41wJT/t8EPAIr83L8R/6nBt0J4vlo+S38HwqECgf+JP1O+/MFDQs4+7z72AkLBB4C/gHb/YMAEv8uBbcCtvupATcAyf3gAbkCZwJm/QAAbgCw+cUD8QK3/dsDYwVr/Ir6XQeaBef7IvvFBxgEW/bhAuEIjgGA+fv5OgrPAQjz6vztB80I+PaU9sABjgAyABn+1gAO/dj71f4lARcEh/sX+tcAAwSoARn2qv+uAxf+DgX096z97QCp/iEE3Pl6/xgAVf7gADz+PwIxA8L31vzcB879Y/kUAPkJFwRe9nH+oAfm/A79kgN9BLv+3fqKDbQCLPiCB+8A3/xvAYcFGQeS/Jv9zAuEBBz5mAB+A2cAHgAiBQ0GIPwmAboExvuYACACav9jApr/VgNKAAz3o/8DCB4CdfP5+JoJDQgh+MbzjAMPBTH+i/cO/FUAv/d7BgMJ+PaT9s36MAM4AZv51v1e+pz/9gUB/xn2bvnuCqAAG/Tu/60BYwHKAK3+KwOj/8X+HgHY/kIC2AQuBNEAHftlAnQJmQBe/7kCDQiTBQT5NgIJCIoDAf97/5YMbv8v9S0JeQ6J+y7xgweJDcz5uvnJASwGzf/f+iQBM/qAAs4HFveK/Aj9aQOBAQv0fARxART5/vt8AD0EGPaX+SEJsP8/9EL61QYeBtr1rviAAvUBvf05+f8EFwUd9477eAYBAnX49QAhB5EAxfla/hMLJv9y95EC/wZbA833d/8sCuEAVv7Z/XoCtgLF+R4IRgWi/FkCY/mtBTUHqvvsASsB8ASj/XH6CwkTA2r8rvz3A8QHhvop/bQDXQOO+936kQhlAO77t/8h/0IGPP1v9x7/ZAZ7BU322vvHBhcBKfjJ//0JbPp99fwAqQrWAcbz9v9XBq39wfsS/J4FWQVz+sgAUPkY/gcF1vcLB2gF5vnI/LX7agnm/3L2qwTiAHwAzf/aAQ4C7fqeA1MBWQGD/x35EQadCDEF9vh+9bgHkQM9BKkD2fn0AkACHgNYBMT7yv3iAjMFLAMO/hgBsQQyAHoDT/5Y+KIE/QRRAjIDFf/U/vn7/fz6BP//Df0FAOD8BATe/0b3Gf2T/SoB0wAq+wD8IPzwAUIC1vV1+OwBygGf/lH/uwCD9Uj52Qn2Akf0tvlRCgsGdvVC90gI4Qb29b374gVmAkX9E/+UBl78lPoIBScAxQGKAvIAHgKCAfUCTfzw/A8I3wkcA1T6If9BDDkEuflBAIkH3AW+/EP+SQr7BcT4Rf0vA8wC3f48+0QE9QO8/jP9dfk0AMADdvwK/k4BNP9s/Q76wgFkBPL64/dT/TcJHAFw8uT98QZRADz5Vfe7AYsCZPwNATb+uftv+xj+ZATM/QD6hf97AZMCYP0N+h0AUgLqAzr+5/woA5f/ZwIqAQf//wOx/SkEzgSI+5EGGwRZ/gL+PANaC8j5v/tXCywFlAB7/b4CKQQV/OwBMgYzBGz8YfyZCA8DufzL/fb/lgYxA+/8t/j+/5gLZ/50+DwA7ALk/zT33QP6B0T48fpZAyQFAvni9n0FlQEyAPj79vr7AVD6OwGqAbr4If3dAV8DDP2n/H8AJ/s5/08D2/xN/Nn/KQQs/6j/LP9B+o8DvAP6/63+M/5OBHkDw/7LAHMA+/9oAbcBvQLiAl8Aj/8qA/z+6v42Bh8Divx9AVYD1AJ2Ae77FwPeAzsBYACY/vUBkQDOACgG8f+C93EBMwfw/rP8fwFKAQcA1/2rAWz/k/i3A8MEcv3i+87/GQJr/4j+P/zWAI//UgAGBGX75/vo//kCyv6k+lgDqf/G/WQAtf5RACr+6f7CAMn92v7b/6j/QgFf/Jb9oAEw/zUAqgD8/Bz+ggMJAgT/If1FAFsGwAFV/FsACgPPAmEBIAE5A+7+XALHBWr+Mf1EApEE9wBiAdUA3/xm//cF1QLb+RX+XAPLA1gAyPuJ/iACGwHJ/xoBTfwW/oMFtwH2+q/8QQLbAGMANgB8/RYABQHO/f0ALP+O+1ECUgKW/mD93/1VAgUATvv2/SIBHwJ7/f79vQEQ/Ov8/wDqAyf+pvb2Ar8FHP2f/LD7qgLOA8P7X/4zAQIBsf12AJQDTP4C/cv94QRDBEL7Ef4RAz8DAgBl/Wv/UgLEAR8A+/9p/yoBnAEYALz/gwDoAdn/7QA8A2QAc/0xAUQFXv+k/nQCjwHqACgAuAFH/1v//wKGAO//gv4AABsByP4WAWoAXv6X/msAxAD9/GH9cgDIAHcAtP7p/if/yf4W/4L9FACa/5v+XwK2/+D88/6e/wEAv/+9+93/hQXp/vD8x/5n/68Bn/5a/bQBbwK2/0f/Sv6U/kIAjAA4ADAAhf9e/xADZgBn/XP/IwKtAqX+6v+YAhADEwDs/ooAhP7CAwIFRv1t/PkADARrAeL9+Py9/ysCPgBkAK/82/tXA8QD3f1W+uT+HQW6Amr8KfxrAsYDFQElAMP/iADT/2sDhQR//Nn99QNMBKQAuPvf/gYDmQDA/ar+XgBr/jkAXQH4+7/9XAOSAKf9bwBwAdcBAAPwAK3+DAGFBCsDmAB8AJIBvwFhAKX+A/9BAJT9TPtW/n3/o/qh98r67/1a+1T4A/ua/Hn5bvrC/Sj87Pw0/9P+DAELAgoAbgHCBsIEYQJfB+oHlQghByEEEgYbCHQIFAZBBnUEtAKsBf0CywDsAMf9xQDAA7/9kfpE+vX+VQGk+Kr6M/6J/o8AC/qm+2b/cv9YAc39dP5xAe0BkQJwAKD/0wDsATQElQLB/4cBxwGXASMBE/9GAEQByP+u/vf+r/49/cv9Vf11+638cf3M+zj7+vst+lv6Of75+476Evzq/Cz/mf20/Wb9Yv6MAsQAYQCbAQsDpQPRAs4DvQOsBXQGxwPRAwIH+gWWA4YEogMVBZIEPwGNAd0BQQLtACv+Nf5BAQv/MfwA/nT8nf5Q/rn77v2i/HL+vP/3/WL+uf05AMUBD/+S/58Akv8qAYYCRf8O/rcAAAIlAbX+Kv3a/0oCJf+b/vH/tf6T/2IBOgLq/bf8TQJSA+r/Xf3v/xQCeABh/rz99/+i/mz9Ov7r/Ff9S/wf/G39xPtn+2r8ffzp/JD8uPvu/eL9tvx7/ygAz/7n/j8A0gI1Aj//PALCBI0CogJpAycEYgQHA/EDtQRrA+IC0gNABP4BoQFTA7kCaAEEAVQBOwECAcwArf+XAEgBwf+1/4H/9wArATn+N//ZALX/Xf9T/9X+qP56/oP/wf7l/BD9h/4g/3X99Pz6/F7+pP93/iv/IP6E/toCy/+i/iwCVQCmAF0C5ABU/6EAHQKMABr+oP4rABz+7f0B/oj7qPz+/SL8V/uq+0v8v/xt/K/7ZvxH/yL+cvxQ/1kAXQAfAO7/zwLHAsECUQOFAs0EogQPBBgEcwTjBa8DDQRLBc0CEgPlA9cCoAJEAWwAJQJpAST/WP+9/7X/hP78/Tf/0P7S/Rf+Nf9w/xL+LP4yAL3/gf/C/8z/jQH4/9X/SQJmAKP/QAFSAZ4ADP8AAB4BO/+f/lT/xv8u/4r+tP6H/+j/if7H/hsBf/8Z/1cBhP/e/6QA9P+FABP/B/9bALL+4v2c/rH9j/1X/aX8a/w9/Ib8Ufya+z/7WPyA/YP8wfuw/Xr+Wv5E/5r+sv9sAdABJwI7AAsDrAWBAj4DBQSZBBcFfAPkBDAEOgPPBP0D8QOKAskBUAQNA0ICCQEMAG0DAQLI/xYAEQBdARwADAApAKr+NwDdADgAgP/v/psAOwFd//X/TwCG/+D/kf9cAGH/gv36/lIA5/7l/HT90v9n/sv8rP45/mr+I/78/R8A3/4l/lf/IgAZAKX+nv9bAOv+KgDF/7b+If8c/8//Ev5V/sX+zP0d/wX+qf3K/rf94/2H//7+i/3n/ogAu/9b//3/MwF6AVwAgQGrAvEBMgLWAdUCwQOyAUkCTQPcAlcCKAI4A4gCqgFrAugBBAJRAr8AQwHsAdgAxwAKAZAAFwCFAKgA3f+8/zMADQAXAOr/iv8JAHsA9P+O/3kA/P+S//f/Pv+i/3b/a/6f/kz+Dv6d/qL8cPyW/i/9Cvzw/FD9+P00/Z/8nf5r/nP+1f4y/qb/GACv/1b/Sf/oABEA9/4jAD3/Kv9N/2T+xP4+/oL92v1l/rL9Ev12/dr9B/8U/iH9Rv/P/7D/0P+U/zEB7wEFAUUB/QGgAk0CxwGqArgCFwIfAm4CkwLwAXQBOwKYAmQBUAHJAegBUgLBAPsAngJdARoBgwH5AIoBNwEcAX4BOgDYANwB3gAfADYAGgFDAbr/yf9YAC0AbQA1/2T/HwD7/kD/R//O/qX+zf0x/93+ffzX/aT+j/0r/RD9kf2g/dD9Nv2g/HT+o/6T/bT9fP4r/+3+cf65/lb/Ev/F/lf/Cv8U/tP+Z/9Q/nX9aP7y/hv+MP78/V/+wv8Y/zD+Z/8SAXEAfv/pAKoBbgHAAcIBLwKFAoQC4ALQAi4DsgIqAxEEjAIYA7wD+gJsA/ECugJEA+UCaAIWApoCdgJ7AZgBMAK0AYUAWgEhAqMAPQCzADcBNAGO/+H/3QB/AM//R/8gAOf/Jv+d/9f+Ev99/8r9df5J/9/9Nf38/Xf+Kf2n/IL9rv3N/HX8Y/02/Qf9Pv3v/NL9A/58/Rz+Sf6v/tv+r/61/1P/Bf8YAFwA5P9B//L/JgE4ABv/+v++ANEA3f8K/84AowHh/6L/yQCGATsBBgDEACcCogHLAAQBcwJcAtkAkQHuAkkCZgH4AZMCsALsAX0BfgLzAvQBZQH7AacCoAIKATsB3QJ7AhIBxABBAqsC1gCnAN8BuAGkAcoAtQDhAXMBDwF9AMUA6wGqAP7/oQCjAKoAl/9O//X/N//S/pX+5/3J/bf9Ff1d/Hn8s/yd+yH7Hfwc/E77/PrV+778NPwC/KT8ff3+/bb9Y/7G/uv+3//Y/14AVQDi/2oBqQHAALgA7wAHAoMBLAA3AUoBjADiABoBsAD9/4UAfQHMAOz/VgAoAYwB3gBHAOAAzgEOAtsAcADKAQ8CnAHzAAoB+gG9AXQBVQHCAY4BXQFmAqkBCQHTAfEBzQHSATMBGQEDAsoB/AC2ABsBpAHHAFUAAAGVAFIAgQBMAFEA6v+O/8X/0/8C/7/+GP9B/j/+Bv6P/eX9yfxq/DL94Pwv/Kz70/vZ/BH8Jfsp/HP8K/wd/JT8gP0m/df8wv5P/4n+Rv+EAEYBDgE6ATECMQO0AnECVgOyA60DUQJvAtkDwQI2AUYBrQFnARMARP/h/37/qP6N/hz+Uv5a/n395v1E/gH+I/4j/rX+Wf/k/v7+JgBaADIAsADgAGgBGgK5AeYBdAL0AjgDggIPAwMEqQM+A3oDAwQEBIkDQwOIA+oDIwOMAt0CigJVAr8BDwE2AQQBXQCR/0//jv8Q/1T+8f3m/Qn+TP2g/KL8svyJ/Kf7Xfv1+9H7GfvJ+hf7hPtL+9j6RPvW+/v7KfxT/ND8Xf3N/Ub+of5M/wMAVwDSAHIB0QErApYC8AIpAzwDUAOEA48DMQPmAgADxQIjArcBeAFKAbkAAADL/5r/Of8H/67+cP6j/rX+vP6o/uL+g//O/+X/OADlAFEBYwGkASQCZQJyAqkC4QIFA/UCCAMgA/QC9ALVAqkCfQJVAk8C5wGwAa4BegFcAQwB4wDPAKMAfgArAAAAxP+j/zr/0v61/kP+H/6D/QT9Nf3K/GL8+fvh+z38xfuM+6772Ps2/Cv8Tvxv/M38YP2S/bT9vf1d/vn+rv6l/gv/ff93/x3/O/+I/5v/Gf/3/mT/Xv/6/sz+DP8a/wL/6v4G/1X/Wf9h/8n/KgAsAGQACwFwAakBBAKBAgADKwN0A9YDCwRCBFMEbASfBIgEYQRmBFoEKQTkA7kDlQNoAwIDtQKEAjAC5AGBAVQB+ACNAFgA+f+3/2j/Hf/Z/pn+j/5R/hb+Bf4B/vT9m/2c/dD9h/0i/Qn9XP0V/UH8Sfy9/In8svuP+y/8Pvyo+2j7G/yE/Cn8Tvzf/FD9iv2H/Sn+Bf8R/xX/uf99AKYAgwDOAHgBzwFdATAB6AERAnkBKwFXAYgB+QBCAGsAkQAKAIT/bP+p/4b/Jv81/5P/zv/P/wUAfgALAX4BpwEIAtYCYQOBA60DUwTLBMEEsQTkBDwF/gSUBIYEhQQwBKADWgMvA7kCTwL+AaUBRAHyANwAfQAWAOj/6//Y/2X/Rv83/wn/AP+m/kv+J/4C/r/9Pf33/NX8jPwN/Mz72vtx+xb7JPsp+/76zfr2+jv7K/sx+3f72vsZ/CH8a/zz/Ez9Wf2k/SP+cv6t/uz+P/9+/7v/CQA/AHoAtQD3AFIBfgGxAQcCVgKJAqkC4QIoA10DWANLA24DjgNzAyUDBQMaA+cChQJKAiwCCQLKAY0BeAFfATIBNAFDARgB7AAXAVsBQgELATUBggGEAVcBVgGPAaQBlQGHAZIBqAGZAZUBjAF0AXMBagFTASAB8gDkALwAfQA8AAsA5v+l/0f/5f65/pb+Gf6a/XL9XP3x/Gf8NvxD/Ar8fftL+4r7hvsj+wT7Y/uh+3L7cPvi+078Z/x1/NX8V/2U/bn9FP52/sX+Cf9T/6//9P84AIsAxwANAVUBkgHTARYCTAJyArUC9gIHAyQDWgN+A4ADggOkA7oDpAN/A4QDmgNmAxcDDAMUA90ChgJMAjsCIwLIAWIBUgFUAQUBogCBAJYAggAgAPb/MgBHAP3/yv8IADsA/v/Q/wUANwAQAOH///8kAAoA0P+8/93/2v+Q/1P/ZP97/yv/wv7H/uv+p/4u/g7+N/4K/oT9Uf17/V397vy0/Nf82vyA/Eb8dfyU/GD8RPx9/L/8zvzP/A79hf3f/fz9OP7M/lX/kv/L/0QA3AA1AVwBqQEhAmwCeAKXAt0CCQP7AuYC/gIUA+wCuQK7AsMCkwJZAk8CWwI8AvsB6AH9AeoBrgGXAa4BqgF2AVABUgFQASUB7wDeANEAnABhADkAGgD0/7L/fP9z/2H/Kv8G/wj/Df/8/uj++P4X/yT/LP8//2D/cv+B/6b/sf+s/7z/1P/T/7b/rP+v/6L/e/9O/0X/Nv8F/9f+u/6w/of+U/5I/kT+LP4L/gP+F/4Z/gH+CP44/lX+UP5d/p3+3P7m/vj+NP99/6T/rv/i/y4AXgByAIkAxwACARcBIwFHAYUBowGbAbEB4gH6AfEB6gH/ARsCDALwAfEB/gH0AcwBsgGxAaYBegFKAUMBNAEJAdQArAClAH4AQwAdAAMA9//L/5v/jP98/2T/Rv81/zL/Kv8X/w3/Gv8e/xX/D/8i/zf/LP8o/zr/VP9Y/0z/XP90/33/av9k/4H/fv9i/0v/Vf9l/z7/Gv8a/yP/C//W/s7+3v7S/rH+oP63/sj+vf68/t/+Bv8U/yX/Tv+I/6n/wP/y/yYAWAB7AJcAzgD7ABUBMQFQAXgBjQGVAacBuQHKAc0BwwHIAc8BxAGvAZ8BlgGEAWgBSAEwASEBAQHbAMIArQCWAHEATQA6ACgAEQD3/+L/2f/P/77/sP+u/6//p/+g/5//ov+g/5v/pP+h/5T/kP+F/4H/bP9U/1T/P/8w/x3/B/8G/+v+4f7f/s7+y/7B/sr+zf66/r3+wv7D/r7+tv68/sn+xf7B/tP+3P7t/vz+Cv8w/0P/Yv+F/6D/0v/v/xQAQgBtAJwAtwDgAAoBLQFIAVkBfQGUAaMBqAGsAboBtgGtAaABmAGLAXkBaQFPAUcBMgEfARAB8gDuANwA0ADLAKkAqgClAJsAkQB3AIAAewBiAFYASABFADcAGgAWAA0A8v/o/9n/zv+3/4z/lf+B/1T/Of8Z/yf///7M/tH+vv65/o/+fP6e/o7+iP6G/p7+wf63/sb+5v4K/x3/JP9I/3D/iv+N/6v/zf/d/+H/4f8FAAoA/f/6/wAAGAD3/+L/6f/s/+v/tP/B/9z/yP+4/6D/3f/0/8r/4v8KAEcAOgAkAHoAsACuAKEAzQAnASMB/wAqAW8BcwFAAToBfQGDATkBJwFHAVwBJgHpABMBGwHmALkAtQDbAK4AcQB/AI4AggBJADUAXQBOABwAAQAJABAA4P+3/7v/sv+Q/2T/WP9Z/y7/EP8H/wL/9/7V/t3+5P7X/t/+3f7z/vz+9/4Q/xP/Hv8w/zX/Rv9E/1L/Zf9d/1j/Xf9n/2P/TP9G/1b/Uv8+/zb/Q/9U/0T/Pv9V/2f/bv9n/3//qv+x/7r/zP/z/xMADgAlAE8AaQBxAHMAmQC9ALgAuQDVAPYA+gDtAP4AIAElARkBIAE8AUgBOwE3AUoBVwFHATgBPwFHATgBGwETARYBBwHnAM8AwwCsAIwAbABWAEEAHwALAPP/2//N/7T/qv+X/4b/g/9x/2r/ZP9d/13/U/9U/1b/Uf9M/0n/Tv9M/0P/P/9F/0j/Pf81/zf/QP8//zf/Nf84/z//PP86/z3/RP9L/0j/Tf9V/1n/W/9c/2z/df94/3//iv+c/5//pP+y/8H/zv/O/9v/8f/9/wIADAAtAEkARABGAGkAlACZAI0ArQDlAPUA4gDyACkBQwEqASwBXgF9AWYBTgF0AZoBfgFXAWABhQFzATcBKQE/ATYB/ADRANkA0wCYAF0AVQBXACMA2//C/87/rf9j/0b/VP9I/wj/3/71/vT+vP6U/qX+uP6O/mP+ff6e/oH+Wf5t/pv+kP5r/oD+tv69/qT+vP74/g3/+P4H/0f/Zv9U/2H/m//E/7//wf/0/xsAFgAWADcAWgBcAFIAZgB/AHwAdQB/AJEAkwCIAIsAlgCaAJ0ApgCuALMAvgDLANYA3gDsAAABCAESASMBMwFBAUkBVwFlAWoBbwF3AXwBdgFuAWsBZAFXAUkBQgE1ARsBBgH3AN8AwQCjAI4AdQBOADQAHwADAOT/wv+w/5r/df9W/z//Lf8U//X+4/7V/sP+rf6Z/o/+hv56/mz+a/5x/m/+a/5x/n7+i/6P/pn+rv6+/s/+4v75/hf/Kf8+/1z/dv+P/5//t//X/+v/+v8KACAANgBHAFgAaAB1AH4AiQCWAJwAoACkAKsArgCqAKsAsgCwAKoApwCnAKUAmACRAJMAjwCFAHwAegB6AHEAagBmAF8AWABTAFQAUwBMAEkASwBJAEEAOwA7ADwAOAAuACcAJwAnAB4AFgAVABUADwADAP////////z/9v/3//j/9P/u/+3/8//y/+r/5v/r/+7/7P/p/+r/7P/u/+3/6v/r/+3/7P/s/+z/7P/u/+7/8v/0//T/9v/2//b/+P/7//z/9v/1//3/AQD+//j/+/8BAP//+f/8/wEA///5//z/AQACAP7/AAAFAAMA//8AAAMABAAFAAMABQAFAAUABQABAAEAAQACAAIAAgAGAAcABAAEAAYABgAFAAMAAgADAAIAAQACAAIABAADAAEAAQAAAAAAAAABAAAA/v/+/wAA/v/5//j/+f/5//f/9P/2//j/9v/z//X/9//3//T/9P/3//f/9P/z//T/9//3//b/9//4//n/+f/6//n/9//2//X/+P/4//f/+v/7//r/+v/6//v/+//6//z//f//////AAABAAIAAwAEAAUABQADAAEAAgACAAIAAwACAAIAAgABAAIAAgACAAQABQADAAMABgAGAAQAAwACAAQABAABAAEAAwADAAIAAgACAAIAAgADAAIAAQAAAAAAAAABAAIAAgAEAAYABgAGAAQABAAGAAYABQACAAAAAQAFAAUAAgABAAEAAgAAAP7//P/8//3/+//5//j/+v/4//f/9v/1//X/9f/2//T/9P/1//X/8//w//D/8v/z//P/9f/0//T/9v/4//n/+//8//3//P/8//3//P/9////AQABAAEAAAD//wAA//8AAAAAAAAAAAEAAgABAAAAAgAGAAUAAwACAAEAAQABAAQABQADAAMABAAEAAUABAAGAAcABQAEAAQABAAFAAYABgAGAAQAAwABAAAAAAABAAIAAwADAAIAAQABAAIAAAD/////AAAAAAAAAAAAAAAAAAD///7/+//3//j/+v/6//r/+//8//v/+v/8//7//f/7//3//v////7//v8AAAEAAgABAAAA//////3//P/9//7//v/9//3//P/7//v//f/8//z//P///wAA/f/8////AAD///3//v8AAAAA/v8AAAIAAgADAAUABAACAAEAAwAEAAIAAQABAAMAAgABAAMAAwADAAMAAwAEAAQAAgACAAQABQAGAAUAAwACAAEAAAADAAMAAAAAAAEAAQABAAAAAQACAAEAAQAAAP///v/+////AAD///////8AAAAA/v///////f/8//z//f/+/////////////v/+//3//P/8//7//v///wAAAAAAAP///f///wAAAAD///3//P///wAAAAD///7/AAABAP///f/8/wAAAgAAAP////8AAAIAAgAAAP////8CAAMAAgABAAMABQAFAAIAAAABAAIAAwACAAEAAAABAAMAAwACAAEAAAABAAEAAgACAAEAAAAAAAAAAAABAAAA///9//v//P/9//3//f///wAAAAABAAIAAQAAAAAAAAD+//3//f///wAAAAAAAP7//////wAAAQAAAAAA/////wAAAQAAAAAAAAD//////////wAAAAAAAAAAAAD//wAAAAAAAP3/+//+/wAAAAAAAAEAAQABAAIAAwABAAAA//8AAAAAAAACAAIAAQD/////AAAAAAAAAQABAAEAAQACAAIAAQAAAAEAAAAAAAAAAAD/////AAABAAAA/////wAAAAABAAAA///+////AAAAAAAA/////wAAAAABAAEAAAAAAAAAAAAAAAEAAAD///7/AAABAAEAAAABAAAA//8AAAEAAQAAAAEAAAAAAP////8AAAAAAAAAAAAAAAAAAAEAAgABAAEAAQAAAAAA/v/////////+//7/////////AAD/////AAAAAAAAAAAAAAAAAAAAAP///v///wAAAAAAAAAAAgACAAEAAAAAAAAA///8//v/+//9/wAAAQABAAEAAAAAAAAA/////wAAAAD/////AAABAAIAAgADAAMAAgACAAAAAAAAAAEAAAD///7/AAABAAEA///+////AAABAAAAAAACAAEAAAAAAAAAAAAAAAAA///+////AAAAAAAAAQAAAP///v/+/////////wAAAAAAAAAAAAAAAAAA///+//7/AAAAAAAAAAABAAIAAgABAAAAAAAAAAAAAAD//wAAAAABAAIAAwACAAEAAAAAAAAAAAAAAAAA//8AAAAAAQABAAAA///8//3//v//////AAAAAAAAAAAAAAAA////////AAAAAAAAAAABAAIAAgABAAEAAAD+//z//v8AAAAAAQAAAAAAAQACAAEAAAD//////////wAA/////wAAAQABAAIAAgAAAAAAAAAAAP////8AAAEAAAAAAAAAAAAAAAAAAAD////////+////AAABAAAA////////AAAAAAAA//8BAAIAAgACAAIAAAD+//7//f/+////AAD//wAAAAAAAAAAAAAAAAAAAAAAAAAAAAAAAAAAAAAAAAAAAQABAAEAAgACAAAA/////wAAAAAAAP7//v//////AAAAAAAAAAAAAAAAAAAAAAAA///+//////8AAAAAAAAAAAAAAAAAAAAAAQAAAAAA/f/8//7//v///wAAAQABAAAA/////wAAAAAAAP//AAAAAAMAAwADAAIAAgAAAAAAAAD//wAAAAD///3///8AAAEAAQD///3//f///wAAAAAAAAEAAAD//////v///wAAAAD+//7///8AAAEAAAABAAIAAQABAAAAAAAAAAAAAAAAAAAAAAABAAAAAAAAAP7//v8AAAAAAQAAAAAAAAACAAEA///+////AAD//////v8AAAAAAAABAAAAAAD//wAAAQAAAAAAAAAAAAEAAAAAAP///v//////AAAAAP//AAAAAAAAAQABAAEAAAD//wAAAQABAAAAAAABAAIAAgAAAAAAAAD///7//v///wAAAAAAAAAAAAABAAAA///+////AAAAAAAAAAAAAAEAAQABAAEAAgACAAAAAAABAAIAAQABAAAAAAABAAAAAAAAAAAAAAAAAAAAAAAAAAAAAAAAAAEAAAAAAAAA//8AAP///////wAA//8AAAAA///////////9//z//P/8//7//v8AAAEAAAABAAAAAAAAAAAAAAAAAAAAAgAEAAMABAAEAAQAAwABAAAAAgACAAIAAQAAAAAAAAAAAAAAAAAAAAAAAAAAAAAAAAABAAAAAAAAAAAAAAAAAP////8AAAAAAAAAAP////8AAAAAAAAAAP7//v/+//7/AAAAAAAA///9//7/AAAAAAAA/////wAAAAACAAEAAAAAAAAA/v/9//////8AAP/////+////AAAAAP///v/9/wAAAAD//////////wAAAAAAAAAAAAAAAAAAAQAAAAEAAQABAAEAAwAEAAIAAQAAAAAAAAAAAAEAAgACAAEAAAAAAAAAAQAAAAAAAAABAAMAAwACAAEAAQABAAEAAAD/////AAAAAAAAAAAAAAEAAQAAAP7///8AAP/////+////AAAAAAAAAAAAAP7//v///////v/9//7/AAAAAAAAAAAAAAEAAAD///7//v//////AAAAAAEAAQAAAP////////7//v/+////AAAAAAAAAAAAAAAAAAAAAAIAAAD/////AAAAAAAAAAABAAIAAQABAAEAAgABAAEAAQADAAMAAAAAAP////8AAAAAAAAAAP//AAAAAAAAAgACAAAA//////7//v///wAAAAAAAAAAAAAAAAAA///9//z//P/8//3//v8AAAAAAAAAAAAAAAD//////f/9////AAABAAEAAQACAAIAAAAAAAAAAAAAAAEAAAAAAAAAAAAAAAAAAAAAAAAA///+/wAAAAABAAAAAAAAAP////8AAAAAAAAAAAAAAAACAAEAAAD/////AAAAAAAA/v/9//7///8AAAAAAQABAAEAAAD//wAAAQABAP////8AAAEAAgABAAEAAAABAAEAAAAAAAAAAAAAAAAA//8AAAAAAAD+//7/AAACAAIAAAD//wAAAAAAAP3//f/+/////v/+////AAABAAAAAAABAAEAAAD//wAA///+//7//v8AAAIAAgAAAP//AAAAAAAA///+/wAAAAAAAAEAAAAAAAEAAQAAAAAAAAAAAAAAAAAAAAEAAgABAAEAAAAAAAAAAAAAAAAAAAD/////AAABAAEAAAD+//z//f/+/wAAAAAAAAAA//8AAAAAAAAAAP7////+////AAABAAIAAQABAAAAAQAAAP7//f/+////AAAAAP////8AAAAAAAD///////8AAP////8AAAAAAQABAAAAAQACAAEAAAAAAAAAAQAAAAAAAAAAAAAAAAD/////AAD///////////////8AAAAAAAAAAAAA//////7///8AAP//AAAAAAAAAQAAAAAAAAD///7/////////AAAAAAEAAQAAAAAAAAD//////////wAAAgADAAMAAQABAAEAAAAAAAAAAAAAAP//AAAAAP//AAD//////////wAAAAAAAAEAAQACAAEAAAAAAP//////////AAAAAAAAAQACAAEAAAAAAAAAAAD///3//v8AAAAAAAAAAAAAAQACAAAA/////wAAAAD///7///8AAAAAAAAAAAEAAgABAP///////wAA/v/9//7/AAACAAAA/v///wAAAQADAAEAAAABAAAA///+////AQABAAAAAAAAAAAAAQAAAAEAAQAAAP///v8AAAAAAAAAAP//AAABAAAAAAAAAAEAAAD+/wAAAAAAAAAAAAAAAAEAAgACAAAAAAAAAP//AAAAAAAAAAABAAEAAAAAAAAAAQAAAAAA///+////AAAAAAAA/////////////wAAAAAAAAAAAAACAAMAAAAAAAAAAAAAAAAAAAAAAAAAAQABAAAAAAAAAAAA///9//3///8BAAEAAAAAAAAAAAD//////v8AAAAAAQAAAP//AAAAAAAAAAAAAAIABAADAAEAAAAAAAAAAAAAAAAAAAD//////v8AAAAAAAAAAAAAAAAAAAAAAAABAAAAAAAAAAAAAQAAAAAAAAAAAAEAAgABAAEAAAAAAP///v/9//z//v//////AAAAAAAAAAAAAAAAAAAAAAAAAAABAAEAAgABAAEAAAAAAAAAAAABAAAAAAAAAP////8AAAAAAAABAAAAAAAAAAAAAAAAAAEAAQAAAAAAAAAAAAAA///+/wAAAAAAAAAAAAAAAAEAAQAAAAAA///+//7//v///wAAAAABAAAA///+/wAAAAAAAP7//v///wEABAACAAMAAwACAAEAAAD//wAAAQD///3//v8AAAEAAQD+//3///8AAAAAAAAAAAEAAgABAAAA//8AAAAAAAD+//7///8AAAAAAAAAAAAAAAAAAP//AAAAAAAAAAAAAAIAAgABAAAA//8AAAAA/v/+////AAAAAAAAAAAAAAIAAQAAAAAAAAAAAAAAAAD//wAAAAABAAEAAAAAAAAAAQAAAAAA///+/wAAAAAAAAAA///9//3//v///wAAAAAAAAAAAQAAAAAA///////////+////AAACAAIAAQAAAAIAAwAAAP7//v/+/wAAAAAAAAAAAAACAAEAAAD///////8AAAAAAAD//wAAAQABAAEAAQABAAEAAAABAAEAAAAAAAAAAAAAAAAAAAAAAAAAAAAAAAAAAAAAAAAAAAAAAAEAAAAAAAAAAAD///7//v///wAAAAABAAIAAwACAAAA/v/9//3//f/9//7///8AAAAAAQAAAAAA///+//7//v///wAAAAABAAEAAgACAAAAAAAAAAAA//////////8AAAAAAAAAAAAAAAAAAP//AAABAAAAAQAAAAAAAAAAAAAAAAAAAAAAAAAAAAAAAQABAAAAAAABAAEAAAD+//3///8AAP//AAAAAAAAAAD///7///8AAAEAAAD9//3/AAABAAAA//8AAAEAAAD///7///8AAAAA/v/9/wAAAQABAAAA/v8AAAEAAQAAAP//AAACAAEA///+/wAAAQABAAAA/////wAAAAAAAAEAAQAAAAAAAAAAAAAA/////wAAAgACAAEA/////wAAAAAAAP3//v8AAAEAAQABAAEAAgACAAAAAAD//wAAAAD//wAAAAAAAAAAAAD///7//v/+//7//v///wAAAQABAAAAAAD///7//v/+////AAAAAP//AAAAAAAAAAABAAAA/////wAA//8AAAAAAgADAAEAAAAAAAAAAAD///7///8AAAIAAgABAAAAAQABAAEAAQAAAAAAAAAAAAAAAQAAAAAAAAAAAAEAAAD//wAAAAAAAAEAAQACAAEAAAAAAAAAAAD/////AAD//wAA//8AAAAAAAABAAEAAAD//////v/+//7//v8AAAAAAgADAAEA///9//z//P/9//7//v8AAAAAAQACAAAAAAAAAP7//P/7//7/AAAAAAEAAAACAAIAAwACAAEAAQAAAAAAAAAAAAAA//8AAAAAAAAAAAAA/v///wEAAgABAAEAAQAAAP///////wAAAAD+//7///8BAAIAAgABAAAAAAAAAAAAAAD///7//v/+////AAABAAAA/v/9/wAAAQAAAP///v8AAAIAAwABAAAAAAAAAAEA///9////AAAAAP///v8AAAIAAwAAAAAAAAAAAAAAAAAAAAAAAQABAAAA//////7////+////AAAAAAAAAAABAAEAAAAAAP///////wAAAAAAAAEAAQAAAAAA///+//7//f///wAAAAABAAEAAgACAAEAAAAAAAAAAAD//wAAAAAAAAEAAAAAAAAAAAD/////AAAAAAAAAAAAAAAAAAACAAEAAAD///3//f///wAAAAAAAAAAAAABAAAA///+//7//////////////wAAAQACAAEAAQAAAP/////9//7///8AAAAAAAABAAEAAgABAP7//f/+//7///8AAAAAAgADAAIAAAAAAAAAAAAAAP//AAABAAEAAQAAAAAAAAAAAP7///8AAP////////7/AAAAAAAAAAD////////+//7//////wAAAAABAAEAAQAAAP//AAD//////v/+/wAAAAAAAAEAAgABAP/////+//7//v///wAAAgADAAIAAQAAAAEAAQABAAEAAAABAAEAAAAAAAAAAAAAAAAA//8AAP//AAAAAAAA//8AAAAAAAD//wAAAAABAAEAAQACAAEAAAAAAP//AAABAAAA/////////v/+//////8AAAAAAAAAAAAAAAAAAAIAAAD//wAAAgAEAAIAAAAAAAAAAAAAAP7///8AAAAA/////wAAAAABAAAA/v/9/wAAAAAAAAAAAAAAAAAAAAAAAAAA////////AAAAAAAAAAAAAAEAAQABAAAA//8AAAAAAAAAAAAAAAABAAEAAAAAAAAAAAABAAAA//8AAAEAAgADAAEAAAABAAEAAQAAAAAAAAAAAAAAAAD//wAAAAAAAAAAAAABAAAAAAAAAAAAAAAAAAAA//8AAAAA//////7///8AAAAAAAD/////AAAAAAAAAAAAAAAAAAD///7///8AAAAAAAAAAAEAAAD//////////////v/+/wAAAAAAAAEAAAAAAAAA/v/+////AAAAAAEAAQABAAEAAAAAAP////////7/AAAAAAAAAAAAAP7//v/+//7/AAABAAEABQAGAAUAAgD///7//P/6//v//f/+/wAAAAABAAIAAgACAAIAAQABAAAAAAAAAAAA///9//3/AAABAAMAAwACAAAAAAD///z//P/+/wAAAgAEAAUABQADAAAA///9//3//P///wIAAwABAAEAAgABAAAAAAAAAAEAAgADAAMAAQAAAP7//v/+//3//f/+/wAAAAAAAAAA///+////AAAAAP7////+////AAAAAAAAAAAAAAAAAAAAAAIAAwAEAAEAAQABAAMAAwADAAQAAwADAAIAAAAAAAAA///+//z//P///wAAAAD9//r/+v/8//3//f/+/wAAAAAAAP3/+//8////AAAAAAAAAAADAAQABAAEAAUABgAEAAMAAQABAAEAAgACAAEAAAD+//z//P/9//3//v8AAAAAAAAAAP3/+//8//3//v/9//z/+//8//z//f/+//3//v////7///8AAP//AAABAAEAAAAAAAAAAAADAAUABQADAAEAAQAAAAAAAAAAAAEAAAABAAEAAQABAAEAAQABAAMABAAEAAMABAAFAAMAAwAAAPz/+v/6//z///8AAAAAAQACAAEAAAAAAP7//f/8//z/+//7//v/+//6//v//P///////v/9//3////+//7//f/+//////////7//P/8//3//v8AAAAAAAAAAAIAAgADAAMAAQAAAP//AAACAAEAAQADAAIAAgABAAAAAAAAAAIAAgACAAMABAAEAAUAAgACAAIAAgACAAIAAwADAAUABwAJAAkACQAIAAcABgAEAAUABQAGAAcACAAIAAcABgAGAAcACAAHAAYABwAGAAQAAwACAAIAAgABAAAA/v/9//z//P/6//n/+f/6//r/+v/3//b/9P/y//L/9P/0//X/9//4//j/+P/2//b/9v/2//f/9//5//r//P/9///////+/wAAAAAAAAAAAAABAAEAAAAAAAAAAgADAAEAAAAAAAIABAADAAMAAwAEAAQAAQAAAP//AAABAAEAAAAAAAAAAQAFAAgACQAIAAYABgAIAAgACQAJAAgACAAIAAgACAAHAAUABQAFAAQABAAEAAQABQADAAMAAwACAAEAAAAAAP///f/9//3//f/9//3//P/6//v/+//7//r/+P/3//f/9v/1//X/9f/2//X/9//4//n/+//8//3//f/+//3//P/9//z/+//7//v//P/9//z//f8AAAAAAAAAAP/////9//z//f/+////AAABAAIAAwACAAMAAwACAAIAAQABAAIABQAGAAYABgAGAAYABgAGAAUABgAGAAUABQAEAAUABQAGAAcABgAGAAcABgAFAAIAAAABAAIAAwAAAP7//v/9//v/+v/6//n/+v/8//z//P/8//v/+v/7//r/+f/5//r/+//7//r/+v/5//n/+f/5//r/+//+/wAAAQADAAEAAAD///7//v/9//z/+v/9/wEAAwAEAAQABAAEAAYABQAEAAQABAAFAAMAAAD///7//v/9//z/+//9/wEABAAHAAkADQARABMAEwASABIAEQAOAAkABgAGAAYABQACAAIAAgACAP7/9//1//T/9v/3//X/9P/4//3//v/9//z//f8AAAAA+//5//n/+f/1//D/7v/w//P/9P/y//P/+f/9////AAACAAYABwAFAAIAAAACAAQAAgAAAAAAAAABAAIABAAGAAkABwAEAAIAAgACAAAAAAACAAUABgAFAAUABQAHAAYAAwADAAIAAwAEAAIAAgACAAIAAQABAAMABgAHAAcACAAJAAoACgAIAAUABAAEAAIAAAD9//z/+//6//v//P/9//7//f/8//z//f/+//3//P/8//z/+//4//b/9v/1//P/8//z//X/+P/5//r/+//9//7//v/+//3//P/8//7/AAACAAQAAwAEAAUABQAEAAQABAAEAAQABAAHAAsADQAOAA4ADgAPABEAEgAQAA4ADAALAAgAAgD///3/+//5//r/+f/6//7///8AAAEABQAJAAsACwAJAAkACQAIAAUAAQAAAAAAAAD/////AAAAAAAAAAAAAP//AAAAAAAAAQABAAEAAQABAAIAAgABAAEAAAAAAP7/+//5//b/9f/0//X/9//5//v//P/8//3//v/+//3//f/+//7//f/6//r/+f/5//n/+f/6//3//////wAAAAABAAEAAgACAAIAAwACAAEAAQACAAAA/v/9//v//f8AAAEAAgACAAQABQAFAAUABQAHAAkACQAHAAkADgARABIAEQAQABEAEAAMAAYABQAFAAMAAAD9//3/AAAAAP3/+f/4//v/+//5//b/9P/0//b/9P/y//T/+P/6//n/+f/4//n/+v/6//v/+//7//n/+P/4//j/+v/8//3///8BAAIABAAFAAcACAAIAAsADgAPAA8ADgAPAA0ACwAIAAUAAwACAAAA///+//7//v/+//z/+f/3//b/9v/2//j/+P/6//v//v8AAAAAAAAAAAAA///+//7//f/6//n/+f/5//r//P/+////AAADAAUABwAJAAkACgALAAsACQAHAAYABQADAAMAAwADAAMABAADAAEAAAAAAP3//P/8//r/+v/6//r//P/9//7////+//7//v/8//z//P/8//3//f/6//j/+f/6//z///8AAAIAAwAEAAQABAAFAAUABAADAAEAAAD+//7//P/8//3//f///wAAAgADAAQAAwAAAAAAAAD//////v///wAAAQABAAEAAAAAAAAAAAAAAAAAAgADAAIAAAD///3//f/9//z/+//7//z//v//////AgAEAAQABQAHAAgACAAJAAgACQAJAAYABAAEAAQABAACAAEAAAAAAP///f/6//f/9//2//b/9v/0//T/9f/3//r/+//9//7/AAD+//z/+//7//z//P/9//3//f///wIABAAGAAcACgANAA0ADAALAAsACwALAAkACAAIAAgABwAEAAIABAAFAAQAAgAAAAAAAAD9//r/+v/7//z/+//5//f/+P/5//v//P/6//r/+f/4//n/+//6//n/+f/7//3//v/9//7/AAABAAQABQAGAAYABgAEAAMAAwAFAAUABQADAAIAAgABAAEAAQADAAMABAAEAAQABQAEAAQAAQD///3//v/+//7//v/8//z/+//6//j/+f/5//r/+v/7//z//f/+//7//v/+//7//f/+/wAAAgADAAYABQAEAAUABgAEAAEAAgADAAUABwAFAAQAAgACAAIAAAAAAAEAAQAAAAAA//8AAAAAAAAAAP///f/9//3//f/9//v/+//7//z//f/9//v/+v/7//z//f/+//3//v8AAAEAAAACAAQABAADAAMAAQABAAMAAwACAAIAAgACAAIAAwACAAEAAAD///3//f/+////AAAAAAAAAAAAAAAA/f/8//v//f/+//3//P/9//7///8AAP7//f/9////AAD///7/AAAAAAAAAAAAAAIAAwADAAMAAwADAAIAAQAAAAEABAAEAAQAAwACAAMABgAHAAYABAAEAAUABAACAAAA/v/+//7//v/+//7//v///////f/8//z/+//7//z/+//7//v//v/////////+///////9//7///8AAAEAAAD//wAAAwAEAAMAAgACAAMABAADAAMABQAFAAMAAAAAAAEAAwABAAAAAAAAAAAAAAAAAAAAAAD+//z//P/+//3/+//8//z///8AAP7//v/9//7//v/8//3//v/+////AAAAAAIAAwACAAEAAAAAAAEAAgADAAIABAAEAAQABAACAAIAAQACAAEAAAD//wAAAAAAAAEAAQAAAAAA/v/+//7///////7////////////9//3//v///////P/9//3///8AAAAAAAAAAAAA///9//3//v8AAAEAAQABAAIAAQABAAIAAgACAAMAAgABAAIAAgADAAQAAwADAAQAAwACAAEAAgACAAIAAgAAAAAA//8AAAAA/////////f/8//3/////////AAD+//7//v/+/////v////////8AAAAAAAAAAAEAAgABAAAA/v8AAAAAAAADAAMAAwADAAEAAAAAAAAAAAD//////v8AAAEAAQAAAAAA/////wAAAAAAAAAAAAABAAAA///+//3//v/+//////8AAAAAAQABAAAA//////7///8AAAAAAAAAAAAAAAAAAAAAAAAAAAAAAAAAAP///v8AAAAAAQABAAAAAAAAAAEAAAAAAAAAAAABAAAA//8AAAAAAQACAAIAAgABAAEAAAAAAAEAAAAAAAAAAAAAAAAAAAD+//3//v/+////AAAAAAAAAAD///7///8AAP/////9//3///8AAAEAAgACAAIAAQABAP///////wAAAAAAAAAAAQABAAAAAAD//wAA//8AAAAAAAABAAIAAgACAAEAAAD/////AAAAAAAAAAAAAAAAAAABAAAAAAAAAAAAAQABAAAAAAABAAEAAAAAAAAAAAD//wAAAAAAAAAA///+////AAAAAAAA///+//////////7//////wAAAAD//wAA//////3//P/8//7///////////8AAAAAAAAAAAAAAAAAAAAAAAAAAAAAAAAAAAEAAQABAAEAAwADAAIAAgABAAEAAgABAAAAAAAAAAEAAQACAAAAAAD/////AAAAAAEAAAAAAAAAAAAAAP7//v///wAAAAD/////AAABAAAA/v/9//3//////wAA/////wAAAAAAAP/////+//7////+/wAAAQACAAEAAAAAAAEAAQAAAP///v///wAAAAAAAAAAAAABAAAA/////wAAAAAAAAAAAQAAAAAAAAAAAAAAAAD//////v///wAAAAAAAAEAAQACAAIAAQAAAAAAAAAAAAEAAQABAAAAAAAAAAAA//8AAAAAAAAAAAAAAAAAAAAAAQACAAEAAAD///7//////////f/9////AQABAAAA/v/+/wAAAgABAP//AAAAAAAAAAD//wAAAQACAAEAAAAAAAAAAQAAAAAAAQABAAAAAAD//wAAAAAAAP7/AAAAAAEAAgAAAAAA///+//7/AAABAAEAAQABAAIAAQABAAAAAAAAAAAA/////wAAAAABAAAAAAAAAAEAAQAAAP////8AAAEAAgABAAAAAQAAAP//AAAAAAAAAAAAAP///v8AAAEAAAD/////AAAAAP7//f/9////AAAAAAAAAAABAAAA/f/8//7/AAAAAAAAAAAAAAIAAAAAAAAAAAAAAAEAAAD/////AAAAAAEAAgABAAAAAAACAAEAAQAAAAAAAQABAAEA/////wAAAAAAAAAAAAD//wAAAAABAAAAAAAAAP//AAAAAP//AAAAAP//AAABAAIAAgABAAEAAAD///7//f/9//3/AAAAAAAAAQAAAAAAAQAAAAAAAAD//wAAAAAAAAAAAAAAAAEAAgABAAAAAAAAAAAAAAD//wAA/////wAAAAAAAAAAAQABAAAAAAAAAAIAAwABAAAAAAAAAAAAAAAAAAAAAAAAAAAAAAAAAAAAAAAAAP////8AAAAAAAD/////AAAAAAEAAAAAAAEAAQAAAAAA//8AAAIAAgAAAP//AAABAAAA/////wAAAQAAAP3//v8AAAIAAAD9//3///8AAAAAAAAAAAEAAQAAAP7//v8AAP/////9//7/AAAAAAAAAAABAAEAAQAAAAAAAAAAAP//AAAAAAEAAQAAAP////8AAAAAAAAAAAEAAQABAAAAAAAAAAAAAAAAAAAA/////////////wAAAAAAAAAAAAABAAEAAQAAAAAAAAAAAAAAAAD//wAAAAD//wAA/v/+/wAAAAAAAAAAAAABAAAAAAAAAAAAAAAAAAAAAAAAAAIAAwABAAEAAAAAAAAA/v/+////AAAAAAAAAAAAAAAAAAD+////AAD//////v8AAAAAAAAAAAAAAAAAAAAAAAAAAAEAAgACAAEA//8AAP//AAAAAAAAAAAAAAAA/////wAAAAAAAAAAAAABAAEAAQAAAAAAAAAAAAAAAAABAAIAAQABAAEAAAAAAP////8AAAAAAAAAAAAAAAAAAAAA//////7//////wAAAAAAAAEAAQABAAEAAgABAAEAAQAAAAAAAAAAAAAAAAAAAP////8AAP7/////////AAD///////////7//v///wAAAQABAAEAAAAAAAMAAwAEAAEA///+//7/AAAAAP//AAABAAEAAQAAAP//AAD////////+////AAABAAEAAAAAAAAAAQD///7///8AAAAAAAD//wAAAgACAAAA/f///wAAAAABAAAAAAACAAIAAAAAAP//AAD//////////wAAAAAAAAAAAAAAAAAA///9//z//f/+////AAAAAAEAAQAAAAAAAAABAAAAAAAAAAAAAQABAAAAAQADAAEAAAAAAAAAAAAAAAAAAAAAAAAAAAD//wAAAAAAAAAA/v/8/wAAAQAAAAAAAgAAAAAAAAD///////8AAP//AAABAAEAAAAAAP/////9//3////+////AAAAAAAAAAABAAAAAAD/////AAD//wAAAAAAAAEAAAAAAP////8AAP7//f/9//3///8BAAIAAwACAAIAAgABAAAAAAAAAAAAAQADAAIAAAAAAAAAAAAAAAAAAAD///7///8AAAAAAAAAAP///P/9//7//v8AAAAAAAAAAAEAAgACAAEAAAD//////v///wEAAgAAAAEAAQAAAAAAAAD//////////wAAAAAAAAAA//8AAAAAAAD/////AAAAAAAAAAAAAAAAAAAAAP///v/+////AAAAAAAAAAAAAAEAAQAAAAAAAAD//wAAAAAAAAAAAAAAAP////8AAAAAAAAAAP7//f/+///////+////AAD///////8AAAIAAgABAAAA//8AAAEAAgACAAEAAgADAAEAAAAAAAEAAQAAAP7//v///wAAAAD///////8AAAAAAAAAAAAAAQAAAAAAAAAAAAEAAAD//wAAAAABAAEAAQABAAEA///////////+//7///8AAAAAAAAAAP//AAD//////v8AAAAAAAABAAEAAgABAAAAAAAAAAEAAgABAAAAAAAAAAEAAgACAAEAAAD+////AAAAAAAA///+////AQABAAAAAAAAAP7//f/9/////////wAA//8AAAEAAAD/////AAAAAAAAAQABAAMAAwADAAIAAQAAAAAA////////AAAAAAAAAAAAAAAAAAAAAP////////////8AAAAAAQAAAAAAAQABAAAAAAAAAAAAAAAAAAAAAAAAAAAAAAAAAAAAAAD/////AAAAAAAAAAAAAAEAAQAAAAAA/v/+////AAAAAAEAAQAAAAAAAAAAAAAA///+//7///8AAAEAAQABAAIAAQAAAAAA//////7///8AAAAAAgACAAMAAgACAAAAAAAAAP///v/+////AAAAAAAA///+////AAAAAP////8AAAAAAQABAAIAAQAAAAAAAAAAAAAAAAAAAAAAAAABAAEAAQABAAAA/v/9//7//v/+//7/AAABAAEAAQAAAP//AAAAAAAAAAD+////AAABAAAAAAABAAEAAAAAAAAAAQABAAAA/v/+/wAAAQAAAAAAAAD/////AAAAAAAAAQAAAP///v///wAAAAAAAP3///8AAAAAAAABAAEAAQAAAAAAAAAAAAAA//8AAAAAAAAAAAAAAAAAAAAA///+//////8BAAIAAAABAAEAAQAAAAAA///+/wAAAAAAAAAAAAACAAIAAAAAAAAAAAABAAAA///+//7///8AAAEAAgABAAAA///+//7/////////AAABAAIAAgACAAEAAAAAAAAA/////wAAAAAAAAAAAQACAAAA///+//7/AAAAAAAAAAAAAAAAAQACAAEAAQAAAP3//v///wAAAAAAAAAAAAAAAAAAAAAAAAAAAQABAAAAAAAAAAAAAAAAAAAAAAD//wAAAAAAAAAAAAAAAAAAAQABAAAAAAAAAP/////+////AAAAAAEAAgADAAMAAQAAAAAA//////////8AAAEAAQAAAP//AAAAAP//////////AAABAAIAAgACAAEAAAAAAP//AAAAAAAAAAABAAEAAQABAAAAAAD//////f/+////AAAAAAEAAgACAAEA//////7////+//3///8AAAIAAAAAAAIAAwABAP///f/9//7///8AAAAAAQABAAAAAAD//wAAAQAAAP7//v8AAAEAAgABAAEAAgACAAEA/////wAAAAD+//7///8AAAEAAAD/////AAABAAIAAAAAAAEAAAD//wAAAAAAAAAAAAD+////AAABAAEAAQAAAAAAAAAAAP7//v///wAAAAAAAAAAAQABAAAAAAD+//7//v///wAAAQACAAEAAAAAAAAAAQABAP///////wAAAAAAAAAAAAAAAAAAAAAAAAAAAAAAAAAAAAABAAEAAQABAAAAAAD///3//f/+/wAAAAAAAAEAAQABAAAAAAAAAP///v/9//7/AAAAAAAAAAABAAAAAAAAAP///v/9//7///8AAAEAAAAAAAAAAAD/////AAAAAAAAAAAAAAEAAwABAAAA//8AAAAAAAABAAEAAgAAAAAAAAAAAAAAAAAAAAAAAAD+//3///8BAAIAAgAAAAAAAAABAAEAAAD///3//f///wAAAAABAAEAAAAAAAAA///+//////////7//v///wAAAAABAAIAAAD//wAAAAAAAAAAAAAAAAAAAQAAAAAAAAAAAAEAAQABAAAAAAAAAAAAAAD//////v/+////AAAAAAEAAQABAAEAAAAAAAAAAAD+//7//v///wAAAQACAAAAAQABAAIAAAD+//3//P/9/wAAAAABAAEAAAAAAAAAAQABAP//////////AAABAAIAAgABAAEAAAAAAAEAAQABAAAA/////wAAAAABAAAA////////AAAAAAAAAAAAAP/////+////AAAAAAAAAAAAAAAAAAABAAIAAgAAAP7//////wAAAAD//wAAAAABAAIAAAAAAAAAAAAAAAAAAAAAAAAAAQAAAAAAAgACAAEAAAD+//////////////8AAAAAAAAAAAEAAgACAAAAAAAAAAAAAAAAAAAAAAAAAAAAAAAAAAAAAAABAAAAAAAAAAAAAAD///7//////wAAAAD/////AAABAAAAAAAAAP7////+////AAAAAAEAAAAAAAEAAgABAAEAAgABAAAA///+/wAAAAAAAAEAAgACAAIAAgAAAP////8AAAAA//////////8AAP///v8AAAAAAAAAAAAAAAABAAAAAAAAAAAAAQABAAAAAAAAAAEAAAAAAAAAAAABAAAA/v/9//3//f/9//3///8AAAAAAAAAAAAA//////7//////wAAAAAAAAEAAgABAAEAAQAAAAEAAQABAAAAAAAAAAAAAAABAAEAAAAAAAAA//8AAAEAAQABAAEAAAAAAAAAAAD/////AAAAAAAAAAAAAAAAAAAAAAIAAgABAAAAAAAAAAAAAAAAAAAAAQAAAAAAAAAAAAAAAAAAAP7///8AAAEAAQAAAAAAAAAAAAAAAAAAAAEAAQD///7///8AAAEAAAD/////AAABAAAAAAABAAAAAQAAAAAAAAD//wAAAAAAAAAAAAAAAAEAAQABAAEAAAAAAP//AAAAAP//AAAAAAEAAQABAAAAAAD///7//v///wAAAAAAAAEAAgACAAIAAAAAAP////8AAAAAAAAAAAAAAAAAAAAA//8AAAAAAAAAAP//AAAAAAEAAQABAAEAAAAAAAAAAAAAAAAAAAAAAAAAAAABAAIAAQAAAP//AAAAAP//AAAAAAEAAQAAAAAAAAAAAAAA///+////AAAAAAAA//8AAAAAAAABAAAAAAAAAAAAAAAAAAAAAAAAAAAAAQAAAP////8AAAAAAAAAAAAAAAAAAAAAAAD//wAAAAAAAAAA////////AAAAAAAAAAAAAAAA//8AAAAAAAAAAAAAAAABAAIAAgAAAAAAAAAAAP////////7/AAAAAAAAAAABAAAAAAD+////AAD/////AAAAAAEAAgAAAAEAAAABAAAAAAAAAAAA/////wAAAAAAAAAAAAAAAAAAAAABAAAAAAAAAAAAAAAAAAAAAAD///7/AAAAAAAAAAAAAAAAAAABAAAAAAD///3//////wAAAAABAAAAAAD/////AAABAAEAAAD/////AAAAAAEAAQAAAAEAAAAAAAAAAAAAAAAAAAAAAP//AAABAAAAAAAAAAAAAAAAAAAAAAAAAAAAAAAAAAAAAAAAAAAAAAAAAAAAAAABAAEAAQAAAAAAAAAAAAAAAAAAAAAAAAD//wAA//8AAAAA/v/+////AAAAAAAAAAAAAAIAAgABAAAAAAAAAAAAAAAAAAAAAAAAAAAAAAAAAAAAAAABAAEAAQAAAAAAAAAAAAAAAAAAAAAAAAD+//7//v8AAAAAAAAAAAAAAQABAAAAAAAAAAAAAAAAAAAAAAAAAAAAAAAAAAAA/////////////wAAAAAAAAEAAAAAAAAAAAAAAAAAAAAAAP//AAABAAAAAAAAAAEAAAAAAAAAAAAAAAAAAAABAAAAAAAAAAAAAAD//wAAAAAAAAAAAAAAAAAAAQABAAAA//8AAAAAAAD/////AAAAAAAAAQABAAEAAQAAAP7//f/+////AAD//wAAAAABAAEAAAD///7//v8AAAAAAQABAAAAAAAAAAAAAAAAAAAAAAAAAAAAAAAAAAAAAAAAAAAAAAAAAAAA//8AAAAAAAAAAAAAAQAAAP///////wAAAAAAAAAAAAABAAAAAAAAAAAAAAAAAP///v/+////AAAAAAAAAQABAAAAAAD+//7///8AAAAAAAAAAAEAAQABAAAAAQACAAIAAAAAAAEAAQAAAP7///8AAAEAAQAAAP//AAAAAAAAAAAAAAEAAQAAAAAA/////wAA//////7//v8AAAAAAAABAAIAAAD///7/AAAAAAEAAQAAAAAAAAAAAAAAAAAAAAAAAAAAAAEAAQACAAEAAAAAAAAAAAD//wAAAAAAAAAAAAAAAAAAAAAAAAEAAAAAAAAAAQAAAAAAAAAAAAAAAAAAAAEAAAAAAP//AAAAAAAAAAAAAAAAAAABAAAAAQAAAP////////////8AAAEAAgACAAEAAAAAAP////////7///8AAAAAAAAAAAAAAQAAAAAA////////AAAAAAAAAQAAAAAAAAAAAAAAAAAAAAAAAQABAAAAAAAAAAAAAAAAAAAAAAAAAAAAAAD/////AAAAAAIAAgAAAAAAAAAAAAAA/////wAAAAAAAAAAAAAAAP//AAD//wAAAAAAAP//AAAAAAAAAAAAAAAAAQAAAP////8AAAAAAAAAAAAAAAAAAAAAAAAAAAAAAAAAAAAAAAAAAP//AAAAAAAAAAAAAAAAAAAAAAAAAAAAAAEAAAAAAAAAAAAAAAAAAAAAAAAAAAAAAAAAAAAAAAAAAAAAAAAAAAAAAAAAAAAAAAAA/////wAAAAABAAAAAAD//wAAAAABAAAAAAAAAAAAAAD///7///8AAAEAAAAAAAAAAAABAAAA/v///wAAAAAAAAAAAQABAAEAAAAAAAAAAAAAAAAAAAAAAAEAAgAAAAAAAAAAAAAAAAD/////AAABAAAAAAAAAAEAAQAAAAAA/////wAAAAABAAEAAQAAAAAAAQABAAEAAAAAAP////8AAAAAAAAAAAAAAAABAAEAAAAAAAAAAQAAAAAAAAAAAAAAAAAAAAAA/////wAAAAAAAAAA//8AAAEAAQAAAP//AAAAAAAAAAAAAAAAAAAAAAAAAAD//wAA////////AAAAAAAAAAABAAEAAAD//wAAAAAAAP////8AAAAAAAAAAAAA//8AAAAAAAABAAEAAAAAAAAAAAAAAAAAAAAAAAAAAAAAAAAA/////wAAAAAAAAAAAgAAAAAAAQAAAAAAAAD///7///8AAAAAAAAAAAAAAAAAAAAA/////wAAAAAAAAAAAAAAAAAAAQAAAP///v///wAAAAAAAAAAAAAAAAEAAQABAAAAAAAAAAAAAAD//wAAAAAAAAAAAAAAAAAA//8AAAAAAQAAAAAA/////wAAAAAAAAAA//8AAAAAAAAAAAAAAAAAAAEAAAAAAP7//v//////////////AQACAAAA/v/+/wAAAgABAAAA/////wAAAQAAAAAAAgADAAIAAAAAAAAAAQABAP///f///wEAAQAAAP7//v8BAAEAAAAAAAAAAAD//wAA/v///wAAAAAAAP////8AAAAAAQACAAIAAQAAAAAAAAAAAAAAAAAAAAAAAQAAAAAAAAAAAP///v///wAAAQABAAAAAAABAAIAAQD///7///8AAAAAAAD//wEAAgACAAAAAAAAAAIAAgAAAP////8AAAAAAAAAAAAAAAAAAAAA/////wAAAAAAAAAAAAAAAAAAAAABAAAA///+//7///8AAAAAAAAAAAAAAAAAAAAA///+////AAAAAAAA//8AAAEAAAABAAEA///+/wAA//8AAAAAAAAAAAAAAAABAAEAAAABAAAAAAAAAAAA///+////AAAAAAEAAAAAAAAAAAAAAP////8AAAAAAAAAAAAAAAAAAAAAAAAAAAAAAAABAAIAAgABAAAA//////////8AAAEAAAAAAP//AAABAAAAAAAAAP7///8AAAAAAAAAAAAAAQABAAEAAAAAAAAAAAAAAP///////wAAAAAAAAAAAAAAAAAAAAAAAAAAAAAAAP////8AAAAAAAD/////AAAAAAEAAQABAAEAAQABAAAA///+//3//P/+////AAABAAIAAQAAAAAAAAAAAAAAAAAAAAEAAQABAAAAAQACAAIAAQAAAAAAAAABAAAAAAAAAAAAAQABAAAA//8AAAAAAAAAAAAAAAAAAAAAAAD/////AAAAAP//AAAAAAEAAQAAAAAAAAAAAP///////wAAAAAAAAAAAQAAAAAA/////wAAAAD///////////////8AAAIAAgACAAIAAAAAAAAA/v/+////AAABAAEAAAAAAAAAAAAAAAAA//8AAAAAAAAAAAAAAAAAAAEAAAAAAP//AAAAAAAAAAABAAEAAAAAAAAAAAAAAAAAAAAAAAAAAQAAAAAAAAAAAAAA/v/+//7///8AAAAAAQAAAAAAAAAAAAAAAAAAAAAAAAAAAP///v///wAAAAAAAAAAAAAAAAEAAAAAAAAAAAABAAAA///+////AAAAAAAA//8AAAAAAAAAAAAAAAABAAEAAAD//wAAAAAAAAAAAAABAAEAAQAAAAAAAAAAAAAAAAD///7/AAABAAEAAAD/////AAAAAP////////////8AAAAAAQACAAEAAAAAAAAAAAD/////AAAAAAAAAAAAAAAAAAAAAP////8AAAAAAAAAAAEAAQABAAAAAAD/////AAD//wAAAAAAAAAAAAABAAEAAgABAAAAAAD/////AAAAAAAAAAABAAEAAAAAAAIAAQABAAAA/v///wAAAwABAAAAAAABAAAA/////wAAAQD///7///8AAAAAAAAAAP////8AAAAAAAAAAAEAAgAAAP///v/+/wAAAAAAAP////8AAAAAAAAAAAAAAAAAAP//AAAAAAEAAQABAAAAAAAAAP////////////8AAAAAAAABAAIAAAAAAAEAAQAAAAAAAAD/////AAABAAAAAQAAAAAA/////wAAAAAAAAAAAAAAAAAAAAAAAAAAAAAAAAAA/////wAAAAAAAP////8AAAAAAAD//wAAAAAAAAAAAAAAAP//AAAAAAIAAQAAAP///f///wAAAAAAAAAAAQAAAAEAAAAAAAAAAAAAAAAAAAAAAAAA//8AAAAAAAAAAAAAAAAAAAEAAAAAAAAAAAD///7//////wAAAAAAAAAAAQAAAAEAAQAAAAEAAQAAAAAA//////7///8AAAAAAAABAAEAAQAAAAEAAAD//wAAAAAAAAAAAAAAAAAAAAAAAAAAAAAAAAAAAAAAAAAAAAAAAAAAAAABAAEAAQD//wAA//8AAAAA///+//7///8AAP///v8AAP//AAAAAAAAAQAAAAEAAAAAAAAA//8AAAAAAAD/////AAAAAAAAAAAAAAAAAAD///7///8AAAAA//8AAAAAAQABAAAAAAAAAAAA///+/wAAAAABAAEAAAAAAAAAAQAAAP//AAD//wAAAQABAAAAAAAAAAAAAAD//wAAAAAAAAAA//8AAAAA////////AAAAAAAAAAAAAAAAAAAAAAEAAQAAAP///////wAAAAAAAAAAAAABAAAAAAAAAAAAAAAAAAAAAAABAAAAAAABAAEAAQAAAP////8AAAAAAAAAAAAAAQAAAAAAAAAAAAEAAgABAAAAAAD//wAAAgAAAAAAAAAAAAAA/////wAAAAAAAAAAAAAAAAAAAAAAAAAAAQAAAP///////wAAAQAAAAAAAAABAAEAAAD//wAAAAAAAAAAAAAAAAAAAAAAAAAAAAABAAAA/////wAAAAAAAAAAAAAAAAAAAAAAAAAAAQABAAAAAAAAAAAAAAAAAAAA//8AAAAAAAAAAAAAAAAAAAAAAQAAAAAAAAAAAP////8AAAEAAgABAAAAAAABAAAAAAAAAP///////wAAAAAAAAAAAAAAAAAAAAAAAP//AAAAAAAAAQABAAEAAQAAAAAAAQABAAAAAAAAAAAA//8AAAAAAAAAAAAA/////wAAAAAAAAAAAAAAAAAAAAABAAEAAAAAAAAA/v///wAAAAAAAAAAAAAAAAAAAAAAAAAA///9////AAAAAAAAAAAAAAAAAAD+/wAAAAAAAAAA//8AAAEAAwABAAAAAQABAAAAAAAAAAAAAQAAAP///v8AAAIAAgAAAAAA//8AAAEAAQAAAAAAAAAAAP////8AAAEAAAAAAP//AAAAAAEAAAAAAAEAAAAAAAAAAAAAAAAA/v///wAA//8AAAAAAAAAAP///////wAAAAAAAP//AAAAAAEAAAAAAP//AAD///7///8AAAIAAgABAAAA//8AAAEAAQAAAP////8AAAAAAgABAAEAAAAAAAAA//8AAP//AAAAAAAAAAAAAAEAAgAAAAAAAAAAAAAAAAAAAAAAAAAAAAAAAQAAAP/////+/wAAAAABAAEAAAAAAP////8AAAAAAAAAAP//AAD//wAAAAAAAAAAAAABAAEAAQAAAAAAAAAAAAAAAAAAAAAAAAD///////8AAAAAAAD/////AAAAAAAAAAD//wAA//8AAAAAAAAAAAAAAAAAAAAAAAAAAAAAAAD+//7/AAABAAAAAAAAAAEAAQABAAAAAAAAAAAAAAAAAAAAAAAAAAEAAQAAAAAAAAD///////8AAAAAAAAAAAAAAQABAAAAAAD/////AAAAAAAAAAAAAAEAAAAAAAAAAAAAAP//AAAAAAEAAQAAAAAAAAAAAAAAAAD+//3///8AAAEAAQAAAAAAAAD/////AAACAAEA///+//7/AAABAAEAAAD//wAAAAAAAP//AAABAAEAAAD///7/AAACAAAA///+//7/AQAAAAAAAAAAAAAAAAAAAP//AAABAAAA/////wAAAQACAAEAAQAAAAAAAAD+//7/AAAAAAAAAAAAAAEAAAAAAP/////+/wAAAAAAAAEAAgABAAAAAAAAAAAAAAAAAP//AAD//wAA//8AAAIAAQAAAAAAAAAAAAEAAAAAAP//AAAAAAEAAQAAAAAA//8AAAAAAAD/////AAAAAAAAAgABAAEAAAAAAAAA/v///wAAAAAAAAAAAAABAAEAAAD///7//////wAAAAAAAAAAAAAAAAEAAQAAAAAAAAAAAP7/AAAAAAAAAAAAAAAAAAAAAAAAAAABAAAA//////7/AAD/////AAD//wAAAAAAAP////8AAAAAAAABAAIAAQAAAP7//v///wAAAAAAAAAAAAABAAAAAAAAAAAAAQAAAAAAAAAAAAAAAAAAAAEAAQAAAP////8AAAAAAAAAAAAAAAAAAAEAAgACAAEA///+////AAAAAAAAAAAAAAAAAAAAAAAA//8AAAAAAgABAAEAAAAAAAAA//8AAAAA//8AAAAAAAAAAAAAAAAAAAAAAAAAAAAAAAD+//7///8AAAEAAgABAAAAAAAAAP////////7///8AAAAAAQABAAAAAAAAAAEAAAAAAAAAAAAAAAAAAAABAAEAAAAAAP//AAAAAAEAAAABAAEAAQAAAAAAAAAAAP////8AAAEAAQAAAAAAAQACAAEAAAD///////8AAAAA//8AAAAAAAD///7/////////AAAAAAAAAAAAAAAAAAABAAMAAQAAAAAAAAAAAP//AAD/////AAABAAEAAAAAAAAAAAD//////////wAAAAAAAP////8AAP//AAAAAAAAAAAAAP//AAABAAIAAQAAAAAAAAAAAAAAAAAAAAEAAQABAAEAAAD//////v//////AAAAAAAAAAABAAAAAQAAAAAAAAAAAAAAAAAAAP//AAAAAAAAAAAAAAEAAQAAAAAAAAAAAAAAAAAAAP7//v/+//7/AAAAAAAAAAABAAEAAAABAAAAAAAAAAAAAAAAAAAA///+////AAAAAAAAAAABAAAAAAD/////AAAAAAAAAAD//wAAAQABAAAAAAAAAP///////wAAAAABAAEAAAAAAAAAAQABAAAAAAD+//7//v8AAAEAAAAAAAAA//8AAAAAAAAAAAAAAAAAAP///v/+////AAAAAAAAAAAAAAAAAAAAAAAAAAAAAAAAAAD///////8AAAAA//8AAAAAAAAAAAAAAAAAAAAAAAD///////8AAAIAAQAAAAEAAQABAAAA//8AAP//AAD//wAAAQABAAEAAAAAAAAAAAAAAAAAAAAAAAAAAAAAAAAAAAD///////////7///8AAAEAAQAAAAEAAQAAAAAA///9////AAABAAAAAAAAAAAA//8AAAAAAAAAAAAAAAAAAAAAAAAAAAAAAAAAAAAAAAAAAAAAAAAAAP////8AAAAAAAAAAAAAAAD/////AAAAAAAAAQABAAAAAAAAAP///v///wAAAQAAAP//AAABAAIAAAAAAAAAAAAAAAAAAQAAAAAAAgACAAEAAAD///7///8AAAAAAAAAAAAAAAAAAAAAAAAAAAAAAAAAAAAAAAAAAAAAAAAAAAAAAQABAAAAAAABAAAAAAAAAAAAAAAAAAAAAAAAAAAAAAAAAP7/AAABAAEAAQABAAAAAAAAAP7///8AAAAAAAAAAAAAAAAAAAAAAAAAAAAA/v/+////AAAAAAAAAQABAAAAAAD///////8AAAAAAAAAAAAAAAAAAAEAAQAAAAAAAQAAAAAAAAD//wAAAAAAAAAAAAABAAEAAAAAAAAAAAABAAEAAQAAAAAAAAAAAAAAAAAAAAAAAAAAAAEAAQAAAAEAAgABAP///v///wAAAAAAAAAAAgABAAEAAAD//wAAAAAAAP//AAAAAAEAAQAAAAAAAQAAAAAAAAAAAAEAAAD/////AAAAAAAAAAD///7/AAAAAAEAAAAAAAAAAAAAAP////8AAAAAAAD+//7///8AAAEAAQABAAAAAAAAAAAA/////wAAAAAAAAAAAAD///7////////////+/wAAAAAAAAAAAAABAAAAAAAAAAAAAAAAAAAAAAAAAAAAAAAAAAAAAAD//wAAAQABAAAAAAAAAAAAAQABAAAAAAAAAAAA//8AAAAAAQAAAAAAAAAAAAAAAQAAAAAAAAAAAAAAAAAAAAEAAQABAAAAAAAAAP//////////AAAAAAEAAAAAAAEAAQABAAAA/////wAAAAAAAAAAAAAAAAIAAgABAAEAAAAAAAAAAAAAAP////8AAAAAAAD/////AAAAAAAA////////AAAAAAEAAQAAAAAA///+/wAAAAAAAAAAAAABAAIAAQABAAAA///+//7//v8AAAAAAAAAAAAAAAAAAAAAAAAAAAAA/////wAAAAACAAIAAgADAAIAAgAAAAAAAAAAAAAAAAD///7/AAAAAAAAAAD+/wAAAAAAAAAAAAD//wAAAAAAAAAAAAAAAP7///8AAAAAAQAAAAAAAAAAAAAAAAD+//7///8AAAAAAAABAAAAAAAAAP7//v///wAAAAD+//////8AAAEAAAAAAAEAAQABAAAAAAAAAAAAAAAAAAAAAAAAAAAA/v/+////AAAAAAAAAgABAAAAAAD///7///8AAAAA/////wAAAAAAAAAAAAAAAAAA//8AAAAAAAAAAAAAAQABAAAAAAD+//7//v/+////AAAAAAAAAQABAAEAAgACAAAAAAAAAP//AAAAAAAA/////wAAAQAAAAAAAAAAAAEAAAAAAAAAAAD/////AAAAAAAAAAAAAP//AAABAAAAAAAAAAAAAAAAAP///v////7//v/+/wAAAAAAAAAAAAAAAAEAAQAAAP///v//////AAAAAAAAAAABAAEAAAAAAAEAAAAAAAAA/v///wAAAAAAAAEAAQACAAEAAQABAAEAAQABAAEAAAAAAAAAAAAAAP////8AAP//AAAAAAAAAQABAAAA////////AAAAAP////8AAAEAAAAAAP//AAAAAAAAAAAAAAAAAAAAAAEAAAAAAAAAAAAAAAAAAAAAAAAA//8AAAAAAQACAAAAAgADAAIAAQAAAAAAAQAAAAAA/f/+/wAAAAAAAAAA//8AAAEAAQACAAEAAQABAAAA////////AAAAAP////8AAAIAAQAAAAEAAgAAAAAA/f/+////////////AAAAAAEAAAAAAP//AAD///7//v///wAAAQABAAEAAQABAAAA/////wAAAAAAAP////8AAAEAAQAAAP///v8AAAAAAAAAAAAAAQAAAP/////+/wAAAAAAAAAAAAABAAIAAQABAAAAAAD////////+////AAABAAEAAAAAAP////8AAAAA/////wEAAQABAAAAAAAAAAEAAAAAAP7///8AAAAAAAD//wAAAAAAAAAA//8AAAEAAQABAAAAAAAAAAAAAAAAAAAAAAAAAAAAAAAAAP//AAAAAAAAAAAAAAAAAAAAAAAAAAAAAAAAAAAAAAAAAQABAAAA/////////f/+/wAAAAAAAAEAAQAAAAAA//8AAAAAAAAAAAAA//8AAAAAAAACAAIAAAAAAAAAAAABAAEAAAABAAIAAQAAAAAAAAD/////AAD//wAAAAAAAAAAAAABAAEAAQAAAAAAAAAAAAAAAAAAAAAAAAAAAAAAAAAAAAAAAAAAAAAAAAAAAAAAAAAAAAAAAAAAAP////////7///8AAAEAAQAAAAAAAAAAAAAAAAAAAAAAAAAAAP//AAAAAAAAAAAAAAAAAAAAAAAAAAAAAAEAAQAAAP////8AAAAA///+////AAAAAAEAAQAAAAAAAQAAAAAAAAAAAAAA/v/+////AAABAAAAAAD//wAAAAAAAAEAAAAAAAAAAQABAAEAAAAAAAAAAQAAAAAAAAAAAAAA///+////AAABAAAA/////wAAAAAAAAAAAAAAAAAAAAAAAAAAAAAAAAAA/////wAAAAAAAAAAAAAAAAEAAAD/////AAD/////AAAAAAEAAAAAAP////8AAAAAAAAAAAEAAQAAAAAAAAABAAEAAQABAAAAAAAAAAAAAQAAAAAAAAAAAAAAAAAAAP///////////////wAA/////wAAAAAAAP////8AAAAAAQAAAAAAAgACAAEAAAAAAAAAAAAAAAAAAQADAAEAAAAAAP///v///wAAAAAAAAAAAAD//wAAAAAAAAAAAAAAAAAAAAAAAAAA//8AAAAAAAAAAAAAAQABAAEAAAAAAAAAAAAAAAAAAAAAAP///v///wAAAAAAAAAAAAAAAAEAAQAAAAAAAAAAAAAA//8AAP//AAABAAEAAAABAAAAAAAAAP7//f/9////AAAAAAEAAQABAAAAAAAAAAAAAAAAAP//AAAAAAEAAQAAAAAAAQADAAIAAQAAAAEAAAAAAP///////wAA//////////8AAAAA//8AAAAAAAAAAAAAAAAAAAAA/////wAAAAABAAEAAQACAAEAAAD/////////////AAAAAP//AAAAAAAAAAD//wAAAAAAAAAA//8AAAEAAQABAAAAAAABAAAAAAABAAEAAgACAAAA/////wAAAAD///7/AAAAAAAAAAAAAAAAAQAAAP////8AAAEAAAAAAAAAAAAAAAAAAAAAAAAAAQABAAEAAAAAAP//AAAAAAAAAAAAAAAAAAAAAAAAAAAAAAAAAAAAAAAAAAABAAIAAgABAAAAAAAAAAAAAAD//wAAAAABAAAAAAAAAAAAAAAAAP///v8AAAAAAAAAAAAAAAAAAAAA/v/+////AAABAAIAAwACAAEAAAAAAAAA///+//7//v8AAAAAAAABAAEAAAAAAP//AAD///7/AAAAAAAAAQAAAAAAAQADAAEAAAAAAAAAAAAAAAAAAAAAAAEAAAD//wAAAQABAAAAAAD//wAAAAABAAAAAAAAAAAAAAD///7///8AAAAAAAAAAAAAAAD//////////////////wAAAQACAAEAAAABAAAAAAD///3//f///wAAAAAAAAAAAAAAAAEAAQABAAAAAAAAAP////8AAAAAAQABAAAA//8AAAAAAQAAAAAAAAAAAAAAAAAAAAAAAAAAAAAAAQACAAEAAAAAAAAAAAAAAAAAAAAAAP/////+/wAAAAAAAAAAAAABAAAAAAD///7//f///wAAAAAAAAEAAQAAAP///v8AAAAAAAD/////AAABAAMAAgAAAAAAAQABAAEAAAAAAAAA//8AAAAAAQABAAAA/v/9////AQAAAP////8AAAAAAAAAAAAAAQABAAAAAAAAAAAAAQABAAIAAgACAAEAAAAAAAAAAAAAAAAAAAAAAAAA////////////////AAAAAAAAAAD//wAAAAAAAP///////wAAAAABAAAAAAAAAAAAAAAAAAAAAAABAAEAAAAAAAAAAQAAAAAA//////7//v/+//7///8AAAIAAQAAAAAAAAAAAAAAAAAAAP7//f/+/wAAAgACAAIAAAAAAAAA///+//7//v///wAAAQAAAP////8AAAAAAAABAAAAAAD/////AAAAAAAAAQABAAEAAAAAAAAAAQABAAAAAAABAAEAAQAAAAEAAQABAAAAAAAAAAAA/////////////wAAAAAAAP//AAAAAAAA//8AAAAAAAD/////AAD///7//v/+////AAD/////AAAAAP//AAAAAAAAAAAAAP///////wAAAQAAAAAAAAAAAAAA/////wAAAQABAAAAAAAAAP7///////////8AAAAAAQABAAEAAAAAAAEAAAAAAAAAAAAAAP////8AAAEAAQAAAAEAAAAAAAAA/v/+////AAAAAAAAAAABAAEAAAAAAAAAAgABAP////8AAAAAAAAAAAAAAAABAAIAAAAAAAAAAAAAAAAAAAD//wAAAAAAAP////8AAAAAAAAAAAAAAAAAAAAAAAD/////AAAAAAAAAAAAAAAAAAAAAAAAAAAAAP//AAAAAAAAAAAAAAAAAAAAAAAAAAAAAAAAAAAAAAAAAQABAAEAAAAAAAAAAAD///7///8AAP////8AAAAAAAAAAAAAAAACAAIAAgAAAAAAAAABAAMAAgAAAP//AAAAAAAAAAAAAAAAAAAAAAAAAAABAAAAAAD//////////wAAAAAAAAEAAgAAAAAAAAAAAP///v/+//7/AAAAAAAAAQADAAIAAgACAAIAAQACAAEAAQABAAAAAAABAAIAAAAAAAEAAQABAAAAAAAAAAAAAAAAAAAA/////wAAAAAAAAAAAAAAAAAAAAABAAAAAAAAAAAAAAAAAAAA//////7//v////////////7//v/+//7//v/+/wAAAAAAAAAAAAD/////AAAAAAAA/////wAAAAABAAIAAgACAAIAAQAAAAAAAAAAAAAAAAD/////AAAAAAAAAAAAAAAAAQABAAAAAgADAAIAAQAAAAAAAAAAAAAA//8AAAAAAAAAAAAA//8AAAEAAAD+//3///8AAAEAAAAAAAIAAgABAAAA/v8AAAAA/////wAAAAABAAAAAAAAAAAAAAD+//3//f/+/////v/+//3//v8AAAAA///+//7/AAAAAAAA//8AAAAAAAD///7///8AAAAAAAD/////AAAAAAAAAAAAAAAA////////AAAAAAAAAQAAAAAAAAAAAAAAAAAAAAAAAAABAAAAAQADAAUABAACAAAAAQACAAIAAQAAAAAAAQABAAAAAAAAAAIAAgADAAEAAAAAAAAA///+/////v/+//7//v/+/wAAAAD/////AAAAAAEAAAD//wAAAAAAAAAA/////wAAAAAAAAAAAQABAAAAAAD+/////////wAAAAAAAAAAAQAAAAAAAAAAAAAAAQAAAAAAAQAAAAAAAQABAAEAAAAAAP//AAABAAAAAAAAAP//AAAAAAAAAAAAAAAAAAAAAAAAAAAAAAEAAQABAAEAAAAAAAAAAAAAAAAAAAAAAAAAAAAAAAAAAAAAAAAA//8AAAAAAgACAAIAAgABAAIAAQAAAAAAAQABAAEAAQAAAAAAAAAAAAAAAAAAAAAAAAAAAP///v/+//7//v/+//////8AAAAAAAAAAAAAAAAAAAEAAAAAAAAAAAACAAIAAQABAAAAAQACAAEAAQAAAAAAAAD///7//f/+////AAAAAAAAAAAAAAAAAAABAAEAAAAAAAAAAAAAAAIAAAAAAAEAAAAAAAAAAAAAAAAAAAAAAAAA//8AAAAAAAAAAAAA/////wAAAAAAAAAAAAAAAP7///8AAP//AAAAAAAA//8AAAAAAQABAAAAAAAAAAAAAAAAAAAAAAAAAAEAAAAAAP////8AAAAA/////wAAAAAAAAEAAgADAAIAAAD//wAAAAAAAAAAAAAAAAAAAAAAAAAAAAAAAAEAAAD/////AAACAAIAAgABAAEAAQAAAAAAAAAAAAAA/////wAAAQABAAAA///+/////v/+//////8AAAAA/////wAAAQABAAAA/////wAAAQABAAAAAAAAAAEAAAAAAAAAAAAAAAAAAAAAAAEAAQABAAEAAAD/////AAAAAAAAAAAAAAAA/////////////wAAAAAAAAAA/////wAAAQABAAEAAQABAAEAAAAAAAEAAAAAAAAAAAAAAAEAAgABAAAA/////wAA//8AAAAAAAABAAAAAAAAAAAAAAD///7//v8AAAAAAAAAAAAAAAACAAIAAQAAAP//AAD/////AAAAAAAA/////wAAAAAAAP///v8AAAAAAAAAAAAAAAAAAAAA/////wAAAAABAAEAAAAAAAAAAAABAAAA///+//7//f///wAA//8AAAAAAAAAAAEAAAAAAAAA/v////////8AAAAAAAABAAEAAAAAAAAAAAAAAAEA/////wAAAAAAAAAAAAAAAAAAAAAAAAAAAAAAAAEAAQD//wAAAAD//////v/9//7//v8AAAAAAgABAAAAAAD//wEAAQAAAAAA//8AAAAAAAAAAAAAAAAAAAAA////////AAABAAEAAAABAAEAAQABAAAAAAAAAAAAAAAAAAEAAQAAAP7///8AAAAA//////7//v8AAAAAAAAAAAAAAAAAAAAA/v/+/wAAAQAAAAEAAAAAAAAAAAABAAAAAAABAAAAAAAAAAEAAgABAAAAAQAAAAAA///+/wAAAAAAAAAAAAAAAAAAAAAAAP7/////////AAABAAIAAwADAAIAAAAAAAAAAQAAAAAAAAAAAAAA/v8AAAAAAAD///7//v8AAAAAAAAAAAAAAgACAAAAAAD////////+/wAAAAABAAIAAAAAAAAAAAAAAP7//f///wAAAAAAAAAAAAAAAAAA///+/wAAAAAAAAAAAAD//wAAAAAAAAAAAAAAAAAA//8AAAAAAAAAAP////8AAAAAAAD+//7///8AAAAAAAABAAEAAgAAAAAAAAAAAAAAAAD//wAAAAABAAEAAAAAAAEAAQAAAAAAAAAAAP////8AAAAAAQACAAEAAAD//wAAAAAAAP//AAAAAAEAAAABAAEAAAAAAAAA//8AAAAAAAAAAP////8AAAAAAAD//wAAAAAAAAAAAAAAAAEAAQD//////v//////AAAAAAAAAAAAAAAAAAABAAIAAQAAAAAA///+//7///8AAAEAAAAAAAAAAAAAAAAA/v///wAAAAAAAAEAAQAAAAAAAAD//wAAAAAAAAAA//8AAAAAAAAAAAAAAAD//wAAAwABAAAAAAAAAAEAAAAAAAAA//8AAP////8AAAAAAQAAAAAAAAAAAAAAAAAAAAAAAAAAAAAAAAABAAEAAQABAAEAAQAAAP///f/+/wAAAAAAAP///v////////8AAAEAAQABAAAA//8AAAAAAAAAAAAAAAAAAP///////wAAAAABAAAAAAAAAAAAAAAAAAAAAQAAAAAAAAAAAAAAAAAAAAAAAAAAAAAAAAAAAAAAAAAAAAEAAgABAAAAAAAAAAAAAAAAAAAAAQAAAP////8AAAAAAAAAAAAAAAAAAAAAAAAAAAAAAAABAAEAAAABAAEAAQAAAAAAAAAAAAEAAAAAAP//AAAAAP///////wAAAAAAAAAAAAAAAAAAAAD//wAAAAAAAAAA/////wAAAAAAAAAAAAABAAEAAAD///////8AAAAAAAAAAAAAAQAAAAAA///+//7//////wAAAAAAAAEAAQACAAAAAAAAAAAAAAD//wAAAAAAAAAAAAAAAAEAAAAAAAAAAAAAAAAAAAAAAAAAAAAAAAAAAAAAAAAAAAAAAAAAAAD//wAAAQABAAAAAAD//wAAAAAAAP//AAABAAAAAAD//wAAAAAAAP////8AAAAAAAAAAAAAAAABAAAAAAAAAP//AAAAAAAAAAABAAAAAQAAAP//AAAAAAEAAAAAAAAAAAABAAAAAAD///7////+///////+////AAAAAAEAAQAAAAAAAAAAAAAAAAAAAAAAAAAAAAAAAAAAAAAAAAAAAP//////////AAAAAAAAAAAAAAEAAQAAAAAAAAAAAAAAAAD//wAAAAACAAIAAAAAAAAAAAABAAEAAQAAAAAA///+////AAAAAAAA//8AAAAAAAAAAAAAAQABAAAAAAD//wAAAAD/////AAAAAAEAAgABAAAAAAD///////8AAP////8AAAAAAAABAAEAAAAAAP///v/+////AAACAAIAAQAAAAEAAQAAAP///////wAAAAAAAAAAAQABAAAAAAAAAAAAAAAAAAAAAAAAAAAAAAAAAAAA/////wAAAAAAAAAAAAAAAAEAAQABAAIAAgAAAP7//P/8//7/AAAAAAAAAAAAAAIAAQAAAAAAAAABAAAA/////wAAAgABAAAAAAAAAAEAAQAAAAAAAQABAP///f/+/wAAAwAAAP////8AAAEAAAAAAAAAAQAAAP7//f///wEAAwAAAAAAAAABAAIAAAAAAP//AAAAAP////8AAP//AAAAAAAAAAABAAAA/v/+/wAAAAAAAAAAAAAAAAAAAAAAAAEAAQAAAAAAAAD//wAAAAAAAAAAAAAAAAEAAAAAAP////8AAAAAAAAAAAEAAQABAAEAAAD///7//v///wAAAAAAAAAAAAABAAAAAAAAAAAAAAAAAAAAAAD//wAAAAAAAAIAAgAAAP////////////8AAP//AAAAAP//AAAAAAEAAQAAAP////8AAAEAAQABAAEAAQABAAAAAAAAAAAAAAD//wAAAQAAAAAAAAAAAAAAAAAAAAAAAAAAAAAAAAABAAAAAQAAAAAAAAD///7///8AAAAAAQAAAAEAAgABAAAAAAAAAP7//v/+//7///8AAAAAAQABAAEAAAAAAAAAAAAAAAAA//8AAAAAAQACAAEAAQAAAAAAAAAAAAAAAAAAAAAAAAABAAAA//////7/AAAAAAAAAAAAAAAAAAAAAAAAAAAAAP//AAD//wAAAQABAAIAAgAAAAEAAAAAAP////8AAAAAAAD//wAAAAABAAAAAAAAAAAAAAD///7///8AAAEAAQABAAIAAQAAAAAAAAAAAAAAAAD///7/AAAAAAAAAAAAAAAAAAAAAAAAAAAAAAAAAAAAAAAAAAAAAAAAAAAAAAAAAAAAAAAAAAAAAAAAAAAAAAAAAAAAAAAAAAAAAAAAAAAAAAAAAAAAAAAAAAAAAAAAAAAAAAAAAAAAAAAAAAAAAAAAAAAAAAAAAAAAAAAAAAAAAAAAAAAAAAAAAAAAAAAAAAAAAAAAAAAAAAAAAAAAAAAAAAAAAAAAAAAAAAAAAAAAAAAAAAAAAAAAAAAAAAAAAAAAAAAAAAAAAAAAAAAAAAAAAAAAAAAAAAAAAAAAAAAAAAAAAAAAAAAAAAAAAAAAAAAAAAAAAAAAAAAAAAAAAAAAAAAAAAAAAAAAAAAAAAAAAAAAAAAAAAAAAAAAAAAAAAAAAAAAAAAAAAAAAAAAAAAAAAAAAAAAAAAAAAAAAAAAAAAAAAAAAAAAAAAAAAAAAAAAAAAAAAAAAAAAAAAAAAAAAAAAAAAAAAAAAAAAAAAAAAAAAAAAAAAAAAAAAAAAAAAAAAAAAAAAAAAAAAAAAAAAAAAAAAAAAAAAAAAAAAAAAAAAAAAAAAAAAAAAAAAAAAAAAAAAAAAAAAAAAAAAAAAAAAAAAAAAAAAAAAAAAAAAAAAAAAAAAAAAAAAAAAAAAAAAAAAAAAAAAAAAAAAAAAAAAAAAAAAAAAAAAAAAAAAAAAAAAAAAAAAAAAAAAAAAAAAAAAAAAAAAAAAAAAAAAAAAAAAAAAAAAAAAAAAAAAAAAAAAAAAAAAAAAAAAAAAAAAAAAAAAAAAAAAAAAAAAAAAAAAAAAAAAAAAAAAAAAAAAAAAAAAAAAAAAAAAAAAAAAAAAAAAAAAAAAAAAAAAAAAAAAAAAAAAAAAAAAAAAAAAAAAAAAAAAAAAAAAAAAAAAAAAAAAAAAAAAAAAAAAAAAAAAAAAAAAAAAAAAAAAAAAAAAAAAAAAAAAAAAAAAAAAAAAAAAAAAAAAAAAAAAAAAAAAAAAAAAAAAAAAAAAAAAAAAAAAAAAAAAAAAAAAAAAAAAAAAAAAAAAAAAAAAAAAAAAAAAAAAAAAAAAAAAAAAAAAAAAAAAAAAAAAAAAAAAAAAAAAAAAAAAAA=\" type=\"audio/wav\" />\n",
       "                    Your browser does not support the audio element.\n",
       "                </audio>\n",
       "              "
      ],
      "text/plain": [
       "<IPython.lib.display.Audio object>"
      ]
     },
     "execution_count": 28,
     "metadata": {},
     "output_type": "execute_result"
    }
   ],
   "source": [
    "import IPython.display as ipd\n",
    "import numpy as np\n",
    "import random\n",
    "\n",
    "rand_int = random.randint(0, len(common_voice_train)-1)\n",
    "\n",
    "print(common_voice_train[rand_int][\"sentence\"])\n",
    "ipd.Audio(data=common_voice_train[rand_int][\"audio\"][\"array\"], autoplay=True, rate=16000)"
   ]
  },
  {
   "cell_type": "code",
   "execution_count": 29,
   "id": "160c1c28-e06b-4dae-9127-fce1d908b2a2",
   "metadata": {},
   "outputs": [
    {
     "name": "stdout",
     "output_type": "stream",
     "text": [
      "Target text: mustapha ya jefa hancin apple a bolar gwangwanaye\n",
      "Input array shape: (93888,)\n",
      "Sampling rate: 16000\n"
     ]
    }
   ],
   "source": [
    "rand_int = random.randint(0, len(common_voice_train)-1)\n",
    "\n",
    "print(\"Target text:\", common_voice_train[rand_int][\"sentence\"])\n",
    "print(\"Input array shape:\", common_voice_train[rand_int][\"audio\"][\"array\"].shape)\n",
    "print(\"Sampling rate:\", common_voice_train[rand_int][\"audio\"][\"sampling_rate\"])"
   ]
  },
  {
   "cell_type": "code",
   "execution_count": 30,
   "id": "2d3b200c-c49f-4360-aa55-9610e270487b",
   "metadata": {},
   "outputs": [],
   "source": [
    "def prepare_dataset(batch):\n",
    "    audio = batch[\"audio\"]\n",
    "\n",
    "    # batched output is \"un-batched\"\n",
    "    batch[\"input_values\"] = processor(audio[\"array\"], sampling_rate=audio[\"sampling_rate\"]).input_values[0]\n",
    "    batch[\"input_length\"] = len(batch[\"input_values\"])\n",
    "    \n",
    "    with processor.as_target_processor():\n",
    "        batch[\"labels\"] = processor(batch[\"sentence\"]).input_ids\n",
    "    return batch"
   ]
  },
  {
   "cell_type": "code",
   "execution_count": 31,
   "id": "4c19f28e-3447-47ba-a1bb-ff0e7501909e",
   "metadata": {},
   "outputs": [
    {
     "data": {
      "application/vnd.jupyter.widget-view+json": {
       "model_id": "20e7defac6df47be8707b9ebb74183eb",
       "version_major": 2,
       "version_minor": 0
      },
      "text/plain": [
       "Map:   0%|          | 0/2507 [00:00<?, ? examples/s]"
      ]
     },
     "metadata": {},
     "output_type": "display_data"
    },
    {
     "name": "stderr",
     "output_type": "stream",
     "text": [
      "/usr/local/lib/python3.11/dist-packages/transformers/models/wav2vec2/processing_wav2vec2.py:170: UserWarning: `as_target_processor` is deprecated and will be removed in v5 of Transformers. You can process your labels by using the argument `text` of the regular `__call__` method (either in the same call as your audio inputs, or in a separate call.\n",
      "  warnings.warn(\n"
     ]
    },
    {
     "data": {
      "application/vnd.jupyter.widget-view+json": {
       "model_id": "d7e2211432c3455b9c766c158aa114b1",
       "version_major": 2,
       "version_minor": 0
      },
      "text/plain": [
       "Map:   0%|          | 0/661 [00:00<?, ? examples/s]"
      ]
     },
     "metadata": {},
     "output_type": "display_data"
    }
   ],
   "source": [
    "common_voice_train = common_voice_train.map(prepare_dataset, remove_columns=common_voice_train.column_names)\n",
    "common_voice_test = common_voice_test.map(prepare_dataset, remove_columns=common_voice_test.column_names)"
   ]
  },
  {
   "cell_type": "code",
   "execution_count": 32,
   "id": "9935fb13-624f-4c53-9279-8bd06d9ccd19",
   "metadata": {},
   "outputs": [],
   "source": [
    "import torch\n",
    "\n",
    "from dataclasses import dataclass, field\n",
    "from typing import Any, Dict, List, Optional, Union\n",
    "\n",
    "@dataclass\n",
    "class DataCollatorCTCWithPadding:\n",
    "    \"\"\"\n",
    "    Data collator that will dynamically pad the inputs received.\n",
    "    Args:\n",
    "        processor (:class:`~transformers.Wav2Vec2Processor`)\n",
    "            The processor used for proccessing the data.\n",
    "        padding (:obj:`bool`, :obj:`str` or :class:`~transformers.tokenization_utils_base.PaddingStrategy`, `optional`, defaults to :obj:`True`):\n",
    "            Select a strategy to pad the returned sequences (according to the model's padding side and padding index)\n",
    "            among:\n",
    "            * :obj:`True` or :obj:`'longest'`: Pad to the longest sequence in the batch (or no padding if only a single\n",
    "              sequence if provided).\n",
    "            * :obj:`'max_length'`: Pad to a maximum length specified with the argument :obj:`max_length` or to the\n",
    "              maximum acceptable input length for the model if that argument is not provided.\n",
    "            * :obj:`False` or :obj:`'do_not_pad'` (default): No padding (i.e., can output a batch with sequences of\n",
    "              different lengths).\n",
    "    \"\"\"\n",
    "\n",
    "    processor: Wav2Vec2Processor\n",
    "    padding: Union[bool, str] = True\n",
    "\n",
    "    def __call__(self, features: List[Dict[str, Union[List[int], torch.Tensor]]]) -> Dict[str, torch.Tensor]:\n",
    "        # split inputs and labels since they have to be of different lenghts and need\n",
    "        # different padding methods\n",
    "        input_features = [{\"input_values\": feature[\"input_values\"]} for feature in features]\n",
    "        label_features = [{\"input_ids\": feature[\"labels\"]} for feature in features]\n",
    "\n",
    "        batch = self.processor.pad(\n",
    "            input_features,\n",
    "            padding=self.padding,\n",
    "            return_tensors=\"pt\",\n",
    "        )\n",
    "        with self.processor.as_target_processor():\n",
    "            labels_batch = self.processor.pad(\n",
    "                label_features,\n",
    "                padding=self.padding,\n",
    "                return_tensors=\"pt\",\n",
    "            )\n",
    "\n",
    "        # replace padding with -100 to ignore loss correctly\n",
    "        labels = labels_batch[\"input_ids\"].masked_fill(labels_batch.attention_mask.ne(1), -100)\n",
    "\n",
    "        batch[\"labels\"] = labels\n",
    "\n",
    "        return batch"
   ]
  },
  {
   "cell_type": "code",
   "execution_count": 33,
   "id": "3afd19ad-af5c-4ac3-bab6-7f64f1511e05",
   "metadata": {},
   "outputs": [
    {
     "data": {
      "text/plain": [
       "DataCollatorCTCWithPadding(processor=Wav2Vec2Processor:\n",
       "- feature_extractor: Wav2Vec2FeatureExtractor {\n",
       "  \"do_normalize\": true,\n",
       "  \"feature_extractor_type\": \"Wav2Vec2FeatureExtractor\",\n",
       "  \"feature_size\": 1,\n",
       "  \"padding_side\": \"right\",\n",
       "  \"padding_value\": 0.0,\n",
       "  \"return_attention_mask\": true,\n",
       "  \"sampling_rate\": 16000\n",
       "}\n",
       "\n",
       "- tokenizer: Wav2Vec2CTCTokenizer(name_or_path='./', vocab_size=37, model_max_length=1000000000000000019884624838656, is_fast=False, padding_side='right', truncation_side='right', special_tokens={'bos_token': '<s>', 'eos_token': '</s>', 'unk_token': '[UNK]', 'pad_token': '[PAD]'}, clean_up_tokenization_spaces=False, added_tokens_decoder={\n",
       "\t35: AddedToken(\"[UNK]\", rstrip=True, lstrip=True, single_word=False, normalized=False, special=False),\n",
       "\t36: AddedToken(\"[PAD]\", rstrip=True, lstrip=True, single_word=False, normalized=False, special=False),\n",
       "\t37: AddedToken(\"<s>\", rstrip=False, lstrip=False, single_word=False, normalized=False, special=True),\n",
       "\t38: AddedToken(\"</s>\", rstrip=False, lstrip=False, single_word=False, normalized=False, special=True),\n",
       "}\n",
       ")\n",
       "\n",
       "{\n",
       "  \"processor_class\": \"Wav2Vec2Processor\"\n",
       "}\n",
       ", padding=True)"
      ]
     },
     "execution_count": 33,
     "metadata": {},
     "output_type": "execute_result"
    }
   ],
   "source": [
    "data_collator = DataCollatorCTCWithPadding(processor=processor, padding=True)\n",
    "data_collator"
   ]
  },
  {
   "cell_type": "code",
   "execution_count": 34,
   "id": "410be191-64e7-4412-bb30-0858bb62adcc",
   "metadata": {},
   "outputs": [
    {
     "data": {
      "application/vnd.jupyter.widget-view+json": {
       "model_id": "0430015d040341db8a39683baef1c8cb",
       "version_major": 2,
       "version_minor": 0
      },
      "text/plain": [
       "Downloading builder script: 0.00B [00:00, ?B/s]"
      ]
     },
     "metadata": {},
     "output_type": "display_data"
    }
   ],
   "source": [
    "from evaluate import load\n",
    "\n",
    "wer_metric = load(\"wer\")"
   ]
  },
  {
   "cell_type": "code",
   "execution_count": 35,
   "id": "1208a912-1bc9-4afb-acf5-aae415de6993",
   "metadata": {},
   "outputs": [],
   "source": [
    "def compute_metrics(pred):\n",
    "    pred_logits = pred.predictions\n",
    "    pred_ids = np.argmax(pred_logits, axis=-1)\n",
    "\n",
    "    pred.label_ids[pred.label_ids == -100] = processor.tokenizer.pad_token_id\n",
    "\n",
    "    pred_str = processor.batch_decode(pred_ids)\n",
    "    # we do not want to group tokens when computing the metrics\n",
    "    label_str = processor.batch_decode(pred.label_ids, group_tokens=False)\n",
    "\n",
    "    wer = wer_metric.compute(predictions=pred_str, references=label_str)\n",
    "\n",
    "    return {\"wer\": wer}"
   ]
  },
  {
   "cell_type": "code",
   "execution_count": 36,
   "id": "fcb17877-9e5d-4203-8b9f-efc2fbb273b3",
   "metadata": {},
   "outputs": [
    {
     "data": {
      "application/vnd.jupyter.widget-view+json": {
       "model_id": "aca03b9dc4534b5786bc66667e4d052f",
       "version_major": 2,
       "version_minor": 0
      },
      "text/plain": [
       "config.json: 0.00B [00:00, ?B/s]"
      ]
     },
     "metadata": {},
     "output_type": "display_data"
    },
    {
     "data": {
      "application/vnd.jupyter.widget-view+json": {
       "model_id": "b198860722d34875b4ba6040d8782055",
       "version_major": 2,
       "version_minor": 0
      },
      "text/plain": [
       "pytorch_model.bin:   0%|          | 0.00/1.27G [00:00<?, ?B/s]"
      ]
     },
     "metadata": {},
     "output_type": "display_data"
    },
    {
     "data": {
      "application/vnd.jupyter.widget-view+json": {
       "model_id": "b58969c3406c4880b6255e63e46a96f2",
       "version_major": 2,
       "version_minor": 0
      },
      "text/plain": [
       "model.safetensors:   0%|          | 0.00/1.27G [00:00<?, ?B/s]"
      ]
     },
     "metadata": {},
     "output_type": "display_data"
    },
    {
     "name": "stderr",
     "output_type": "stream",
     "text": [
      "Some weights of Wav2Vec2ForCTC were not initialized from the model checkpoint at facebook/wav2vec2-xls-r-300m and are newly initialized: ['lm_head.bias', 'lm_head.weight']\n",
      "You should probably TRAIN this model on a down-stream task to be able to use it for predictions and inference.\n"
     ]
    }
   ],
   "source": [
    "from transformers import Wav2Vec2ForCTC\n",
    "\n",
    "model = Wav2Vec2ForCTC.from_pretrained(\n",
    "    \"facebook/wav2vec2-xls-r-300m\", \n",
    "    attention_dropout=0.0,\n",
    "    hidden_dropout=0.0,\n",
    "    feat_proj_dropout=0.0,\n",
    "    mask_time_prob=0.05,\n",
    "    layerdrop=0.0,\n",
    "    ctc_loss_reduction=\"mean\", \n",
    "    pad_token_id=processor.tokenizer.pad_token_id,\n",
    "    vocab_size=len(processor.tokenizer),\n",
    ")"
   ]
  },
  {
   "cell_type": "code",
   "execution_count": 37,
   "id": "6cd81814-314d-48de-923f-77eed249fd8a",
   "metadata": {},
   "outputs": [
    {
     "name": "stderr",
     "output_type": "stream",
     "text": [
      "/usr/local/lib/python3.11/dist-packages/transformers/models/wav2vec2/modeling_wav2vec2.py:1826: FutureWarning: The method `freeze_feature_extractor` is deprecated and will be removed in Transformers v5. Please use the equivalent `freeze_feature_encoder` method instead.\n",
      "  warnings.warn(\n"
     ]
    }
   ],
   "source": [
    "model.freeze_feature_extractor()"
   ]
  },
  {
   "cell_type": "code",
   "execution_count": 38,
   "id": "0384417f-3314-4590-92ef-2a50bffba280",
   "metadata": {},
   "outputs": [],
   "source": [
    "from transformers import TrainingArguments\n",
    "\n",
    "training_args = TrainingArguments(\n",
    "  output_dir=\"./facebook/wav2vec2-xls-r-300m-hausa\",\n",
    "  group_by_length=True,\n",
    "  per_device_train_batch_size=16,\n",
    "  gradient_accumulation_steps=2,\n",
    "  eval_strategy=\"steps\",\n",
    "  num_train_epochs=30,\n",
    "  gradient_checkpointing=True,\n",
    "  fp16=True,\n",
    "  save_steps=400,\n",
    "  eval_steps=400,\n",
    "  logging_steps=400,\n",
    "  learning_rate=1e-4,\n",
    "  warmup_steps=500,\n",
    "  save_total_limit=2,\n",
    "  push_to_hub=True,\n",
    ")"
   ]
  },
  {
   "cell_type": "code",
   "execution_count": 39,
   "id": "6683a05e-22aa-4eec-9f7d-179a6362139e",
   "metadata": {},
   "outputs": [
    {
     "name": "stderr",
     "output_type": "stream",
     "text": [
      "/tmp/ipykernel_189/3747278232.py:3: FutureWarning: `tokenizer` is deprecated and will be removed in version 5.0.0 for `Trainer.__init__`. Use `processing_class` instead.\n",
      "  trainer = Trainer(\n"
     ]
    }
   ],
   "source": [
    "from transformers import Trainer\n",
    "\n",
    "trainer = Trainer(\n",
    "    model=model,\n",
    "    data_collator=data_collator,\n",
    "    args=training_args,\n",
    "    compute_metrics=compute_metrics,\n",
    "    train_dataset=common_voice_train,\n",
    "    eval_dataset=common_voice_test,\n",
    "    tokenizer=processor.feature_extractor,\n",
    ")"
   ]
  },
  {
   "cell_type": "code",
   "execution_count": 40,
   "id": "a6c1d4c4-7dcf-4597-8df0-1c17bee1da53",
   "metadata": {},
   "outputs": [
    {
     "name": "stderr",
     "output_type": "stream",
     "text": [
      "/usr/local/lib/python3.11/dist-packages/transformers/models/wav2vec2/processing_wav2vec2.py:170: UserWarning: `as_target_processor` is deprecated and will be removed in v5 of Transformers. You can process your labels by using the argument `text` of the regular `__call__` method (either in the same call as your audio inputs, or in a separate call.\n",
      "  warnings.warn(\n",
      "/usr/local/lib/python3.11/dist-packages/torch/utils/checkpoint.py:86: UserWarning: None of the inputs have requires_grad=True. Gradients will be None\n",
      "  warnings.warn(\n"
     ]
    },
    {
     "data": {
      "text/html": [
       "\n",
       "    <div>\n",
       "      \n",
       "      <progress value='2370' max='2370' style='width:300px; height:20px; vertical-align: middle;'></progress>\n",
       "      [2370/2370 1:05:47, Epoch 30/30]\n",
       "    </div>\n",
       "    <table border=\"1\" class=\"dataframe\">\n",
       "  <thead>\n",
       " <tr style=\"text-align: left;\">\n",
       "      <th>Step</th>\n",
       "      <th>Training Loss</th>\n",
       "      <th>Validation Loss</th>\n",
       "      <th>Wer</th>\n",
       "    </tr>\n",
       "  </thead>\n",
       "  <tbody>\n",
       "    <tr>\n",
       "      <td>400</td>\n",
       "      <td>5.389100</td>\n",
       "      <td>2.764513</td>\n",
       "      <td>1.000000</td>\n",
       "    </tr>\n",
       "    <tr>\n",
       "      <td>800</td>\n",
       "      <td>1.225900</td>\n",
       "      <td>0.728420</td>\n",
       "      <td>0.653397</td>\n",
       "    </tr>\n",
       "    <tr>\n",
       "      <td>1200</td>\n",
       "      <td>0.245500</td>\n",
       "      <td>0.726568</td>\n",
       "      <td>0.581244</td>\n",
       "    </tr>\n",
       "    <tr>\n",
       "      <td>1600</td>\n",
       "      <td>0.144300</td>\n",
       "      <td>0.749606</td>\n",
       "      <td>0.555024</td>\n",
       "    </tr>\n",
       "    <tr>\n",
       "      <td>2000</td>\n",
       "      <td>0.099900</td>\n",
       "      <td>0.748407</td>\n",
       "      <td>0.537608</td>\n",
       "    </tr>\n",
       "  </tbody>\n",
       "</table><p>"
      ],
      "text/plain": [
       "<IPython.core.display.HTML object>"
      ]
     },
     "metadata": {},
     "output_type": "display_data"
    },
    {
     "name": "stderr",
     "output_type": "stream",
     "text": [
      "/usr/local/lib/python3.11/dist-packages/transformers/models/wav2vec2/processing_wav2vec2.py:170: UserWarning: `as_target_processor` is deprecated and will be removed in v5 of Transformers. You can process your labels by using the argument `text` of the regular `__call__` method (either in the same call as your audio inputs, or in a separate call.\n",
      "  warnings.warn(\n",
      "/usr/local/lib/python3.11/dist-packages/torch/utils/checkpoint.py:86: UserWarning: None of the inputs have requires_grad=True. Gradients will be None\n",
      "  warnings.warn(\n",
      "/usr/local/lib/python3.11/dist-packages/transformers/models/wav2vec2/processing_wav2vec2.py:170: UserWarning: `as_target_processor` is deprecated and will be removed in v5 of Transformers. You can process your labels by using the argument `text` of the regular `__call__` method (either in the same call as your audio inputs, or in a separate call.\n",
      "  warnings.warn(\n",
      "/usr/local/lib/python3.11/dist-packages/torch/utils/checkpoint.py:86: UserWarning: None of the inputs have requires_grad=True. Gradients will be None\n",
      "  warnings.warn(\n",
      "/usr/local/lib/python3.11/dist-packages/transformers/models/wav2vec2/processing_wav2vec2.py:170: UserWarning: `as_target_processor` is deprecated and will be removed in v5 of Transformers. You can process your labels by using the argument `text` of the regular `__call__` method (either in the same call as your audio inputs, or in a separate call.\n",
      "  warnings.warn(\n",
      "/usr/local/lib/python3.11/dist-packages/torch/utils/checkpoint.py:86: UserWarning: None of the inputs have requires_grad=True. Gradients will be None\n",
      "  warnings.warn(\n",
      "/usr/local/lib/python3.11/dist-packages/transformers/models/wav2vec2/processing_wav2vec2.py:170: UserWarning: `as_target_processor` is deprecated and will be removed in v5 of Transformers. You can process your labels by using the argument `text` of the regular `__call__` method (either in the same call as your audio inputs, or in a separate call.\n",
      "  warnings.warn(\n",
      "/usr/local/lib/python3.11/dist-packages/torch/utils/checkpoint.py:86: UserWarning: None of the inputs have requires_grad=True. Gradients will be None\n",
      "  warnings.warn(\n",
      "/usr/local/lib/python3.11/dist-packages/transformers/models/wav2vec2/processing_wav2vec2.py:170: UserWarning: `as_target_processor` is deprecated and will be removed in v5 of Transformers. You can process your labels by using the argument `text` of the regular `__call__` method (either in the same call as your audio inputs, or in a separate call.\n",
      "  warnings.warn(\n",
      "/usr/local/lib/python3.11/dist-packages/torch/utils/checkpoint.py:86: UserWarning: None of the inputs have requires_grad=True. Gradients will be None\n",
      "  warnings.warn(\n"
     ]
    },
    {
     "data": {
      "text/plain": [
       "TrainOutput(global_step=2370, training_loss=1.2112456543033132, metrics={'train_runtime': 3951.2594, 'train_samples_per_second': 19.034, 'train_steps_per_second': 0.6, 'total_flos': 9.96678206376685e+18, 'train_loss': 1.2112456543033132, 'epoch': 30.0})"
      ]
     },
     "execution_count": 40,
     "metadata": {},
     "output_type": "execute_result"
    }
   ],
   "source": [
    "trainer.train()"
   ]
  },
  {
   "cell_type": "code",
   "execution_count": 41,
   "id": "e9141f34-69ce-4441-9bf3-95d32d43e401",
   "metadata": {},
   "outputs": [
    {
     "data": {
      "application/vnd.jupyter.widget-view+json": {
       "model_id": "d4970e3b5c4e48869869079d6fca11b2",
       "version_major": 2,
       "version_minor": 0
      },
      "text/plain": [
       "Uploading...:   0%|          | 0.00/1.26G [00:00<?, ?B/s]"
      ]
     },
     "metadata": {},
     "output_type": "display_data"
    },
    {
     "data": {
      "text/plain": [
       "CommitInfo(commit_url='https://huggingface.co/mhi-ai/wav2vec2-xls-r-300m-hausa/commit/5b2314af9c9312931081256564f0fd8e42f94b2e', commit_message='End of training', commit_description='', oid='5b2314af9c9312931081256564f0fd8e42f94b2e', pr_url=None, repo_url=RepoUrl('https://huggingface.co/mhi-ai/wav2vec2-xls-r-300m-hausa', endpoint='https://huggingface.co', repo_type='model', repo_id='mhi-ai/wav2vec2-xls-r-300m-hausa'), pr_revision=None, pr_num=None)"
      ]
     },
     "execution_count": 41,
     "metadata": {},
     "output_type": "execute_result"
    }
   ],
   "source": [
    "trainer.push_to_hub()"
   ]
  },
  {
   "cell_type": "code",
   "execution_count": 42,
   "id": "16a84641-05e5-49a0-9310-20b9d2d9aa63",
   "metadata": {},
   "outputs": [
    {
     "data": {
      "text/plain": [
       "[]"
      ]
     },
     "execution_count": 42,
     "metadata": {},
     "output_type": "execute_result"
    }
   ],
   "source": [
    "model.save_pretrained(\"./wav2vec2-hausa\")\n",
    "processor.save_pretrained(\"./wav2vec2-hausa\")"
   ]
  },
  {
   "cell_type": "code",
   "execution_count": 49,
   "id": "cd286572-df2d-42b2-9a34-4b854f03f51b",
   "metadata": {},
   "outputs": [
    {
     "name": "stderr",
     "output_type": "stream",
     "text": [
      "It is strongly recommended to pass the `sampling_rate` argument to `Wav2Vec2FeatureExtractor()`. Failing to do so can result in silent errors that might be hard to debug.\n"
     ]
    },
    {
     "name": "stdout",
     "output_type": "stream",
     "text": [
      "Prediction: habibu da hamsatu bo su kyau ta man ba\n",
      "Reference: habibu da hamsatu ba su kyauta min ba\n"
     ]
    }
   ],
   "source": [
    "input_dict = processor(common_voice_test[0][\"input_values\"], return_tensors=\"pt\", padding=True)\n",
    "\n",
    "with torch.no_grad():\n",
    "    logits = model(input_dict.input_values.to(\"cuda\")).logits\n",
    "\n",
    "pred_ids = torch.argmax(logits, dim=-1)[0]\n",
    "transcription = processor.decode(pred_ids)\n",
    "\n",
    "# Decode the labels to get the reference transcription\n",
    "reference = processor.decode(common_voice_test[0][\"labels\"], group_tokens=False)\n",
    "\n",
    "print(\"Prediction:\", transcription)\n",
    "print(\"Reference:\", reference)"
   ]
  },
  {
   "cell_type": "code",
   "execution_count": null,
   "id": "d711597c-0db3-43e3-811c-0be6f6a3d4a0",
   "metadata": {},
   "outputs": [],
   "source": []
  }
 ],
 "metadata": {
  "kernelspec": {
   "display_name": "Python 3 (ipykernel)",
   "language": "python",
   "name": "python3"
  },
  "language_info": {
   "codemirror_mode": {
    "name": "ipython",
    "version": 3
   },
   "file_extension": ".py",
   "mimetype": "text/x-python",
   "name": "python",
   "nbconvert_exporter": "python",
   "pygments_lexer": "ipython3",
   "version": "3.11.11"
  }
 },
 "nbformat": 4,
 "nbformat_minor": 5
}
